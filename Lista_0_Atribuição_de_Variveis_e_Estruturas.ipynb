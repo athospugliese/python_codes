{
  "cells": [
    {
      "cell_type": "markdown",
      "metadata": {
        "id": "view-in-github",
        "colab_type": "text"
      },
      "source": [
        "<a href=\"https://colab.research.google.com/github/athospugliesedev/python_codes/blob/main/Lista_0_Atribui%C3%A7%C3%A3o_de_Variveis_e_Estruturas.ipynb\" target=\"_parent\"><img src=\"https://colab.research.google.com/assets/colab-badge.svg\" alt=\"Open In Colab\"/></a>"
      ]
    },
    {
      "cell_type": "markdown",
      "id": "01ddbbc7",
      "metadata": {
        "id": "01ddbbc7"
      },
      "source": [
        "# Para todas as questões abaixo comente o que você está fazendo no código"
      ]
    },
    {
      "cell_type": "markdown",
      "id": "d828cc4f",
      "metadata": {
        "id": "d828cc4f"
      },
      "source": [
        "Questão 1: Crie um conversor de real em dólares. Imprima o resultado usando a função format."
      ]
    },
    {
      "cell_type": "code",
      "execution_count": null,
      "id": "b415317b",
      "metadata": {
        "id": "b415317b"
      },
      "outputs": [],
      "source": [
        "# RESPOSTA AQUI"
      ]
    },
    {
      "cell_type": "markdown",
      "id": "c2e76171",
      "metadata": {
        "id": "c2e76171"
      },
      "source": [
        "Questão 2:Crie um sistema que imprima o valor que você vai pagar e o desconto que você teria em determinado item do supermercado. Imprima concatenando."
      ]
    },
    {
      "cell_type": "code",
      "execution_count": 42,
      "id": "ddb842a5",
      "metadata": {
        "id": "ddb842a5",
        "outputId": "4988b9d8-5e15-4d5b-e2bc-ecb45973566d",
        "colab": {
          "base_uri": "https://localhost:8080/"
        }
      },
      "outputs": [
        {
          "output_type": "stream",
          "name": "stdout",
          "text": [
            "Digite o preço  do produto em reais: 5\n",
            "Digite o percentual de desconto: 10\n",
            "Você vai pagar R$ 4.5 com um desconto de R$ 0.5\n"
          ]
        }
      ],
      "source": [
        "# RESPOSTA AQUI\n",
        "\n",
        "preco_original = float(input(\"Digite o preço  do produto em reais: \"))\n",
        "percentual_desconto = float(input(\"Digite o percentual de desconto: \"))\n",
        "\n",
        "desconto = (percentual_desconto / 100) * preco_original\n",
        "\n",
        "preco_com_desconto = preco_original - desconto\n",
        "\n",
        "print(\"Você vai pagar R$ \" + str(preco_com_desconto) + \" com um desconto de R$ \" + str(desconto))\n"
      ]
    },
    {
      "cell_type": "markdown",
      "id": "d09d1e38",
      "metadata": {
        "id": "d09d1e38"
      },
      "source": [
        "Questão 3: Você chegou na última questão da Fuvest, e se você acertar essa você entra na USP.\n",
        "A questão diz o seguinte:\n",
        "Faça as operações abaixo usando os operadores e imprima o resultado delas:\n",
        "-    2 multiplicado por 3\n",
        "-    2 adicionado a 65\n",
        "-    5 dividido por 10\n",
        "-   O resto da divisão de 4 por 3\n",
        "-    Subtrair 4 de 10\n",
        "-    2 elevado a 4\n",
        "-    A parte inteira do resultado de 10 dividido por 3\n",
        "-    A raíz quadrada de 4\n"
      ]
    },
    {
      "cell_type": "code",
      "execution_count": 41,
      "id": "1ea606e8",
      "metadata": {
        "id": "1ea606e8",
        "outputId": "9dc5546e-2c89-4c21-c831-29d68a6dbfab",
        "colab": {
          "base_uri": "https://localhost:8080/"
        }
      },
      "outputs": [
        {
          "output_type": "stream",
          "name": "stdout",
          "text": [
            "6\n",
            "67\n",
            "0.5\n",
            "1\n",
            "6\n",
            "16\n",
            "3\n",
            "2.0\n"
          ]
        }
      ],
      "source": [
        "# RESPOSTA AQUI\n",
        "\n",
        "operacao = 2 * 3\n",
        "operacao2 = 2 + 65\n",
        "operacao3 = 5 / 10\n",
        "operacao4 = 4 % 3\n",
        "operacao5 = 10 - 4\n",
        "operacao6 = 2 ** 4\n",
        "operacao7 = 10 // 3\n",
        "operacao8 = 4 ** 0.5  # Raiz quadrada de 4\n",
        "\n",
        "print(operacao)\n",
        "print(operacao2)\n",
        "print(operacao3)\n",
        "print(operacao4)\n",
        "print(operacao5)\n",
        "print(operacao6)\n",
        "print(operacao7)\n",
        "print(operacao8)\n"
      ]
    },
    {
      "cell_type": "markdown",
      "id": "2a1c24f2",
      "metadata": {
        "id": "2a1c24f2"
      },
      "source": [
        "Questão 4: Você está correndo risco de ser jubilado, então, precisa escrever uma carta para o reitor com seus dados pessoais:nome,idade,curso e ano de ingresso, para suplicar pela sua estadia na USP. Use seus dados como variáveis e os imprima:"
      ]
    },
    {
      "cell_type": "code",
      "execution_count": 39,
      "id": "fdbc24fe",
      "metadata": {
        "id": "fdbc24fe",
        "outputId": "7a723cbd-ce35-4925-f9d7-04429b19852a",
        "colab": {
          "base_uri": "https://localhost:8080/"
        }
      },
      "outputs": [
        {
          "output_type": "stream",
          "name": "stdout",
          "text": [
            "\n",
            "Prezado Reitor,\n",
            "Meu nome é Athos Pugliese, estudante de 24 anos do curso de Arquitetura na USP desde 2024. Escrevo para expressar minha preocupação em relação à possibilidade de jubilação.\n",
            "Agradeço pela atenção e espero, com dedicação, continuar meus estudos na USP.\n",
            "Att,\n",
            "Athos Pugliese\n",
            "\n"
          ]
        }
      ],
      "source": [
        "# RESPOSTA AQUI\n",
        "\n",
        "nome = \"Athos Pugliese\"\n",
        "idade = 24\n",
        "curso = \"Arquitetura\"\n",
        "ano_ingresso = 2024\n",
        "\n",
        "carta = f\"\"\"\n",
        "Prezado Reitor,\n",
        "Meu nome é {nome}, estudante de {idade} anos do curso de {curso} na USP desde {ano_ingresso}. Escrevo para expressar minha preocupação em relação à possibilidade de jubilação.\n",
        "Agradeço pela atenção e espero, com dedicação, continuar na USP.\n",
        "Att,\n",
        "{nome}\n",
        "\"\"\"\n",
        "\n",
        "print(carta)\n"
      ]
    },
    {
      "cell_type": "markdown",
      "id": "8cdae94d",
      "metadata": {
        "id": "8cdae94d"
      },
      "source": [
        "Questão 5:Calcule a função abaixo:\n",
        "1. 4a^2+5b a=5 b=3\n",
        "2. 4a-(3b)/2 a=92 b=76"
      ]
    },
    {
      "cell_type": "code",
      "execution_count": 38,
      "id": "89c6d2ff",
      "metadata": {
        "id": "89c6d2ff",
        "outputId": "3394c1aa-f07a-4c09-f9a0-54400d20cee8",
        "colab": {
          "base_uri": "https://localhost:8080/"
        }
      },
      "outputs": [
        {
          "output_type": "stream",
          "name": "stdout",
          "text": [
            "Resultado da expressão 1: 115\n",
            "Resultado da expressão 2: 254.0\n"
          ]
        }
      ],
      "source": [
        "a1, b1 = 5, 3\n",
        "a2, b2 = 92, 76\n",
        "\n",
        "result = 4 * a1**2 + 5 * b1\n",
        "result2 = 4 * a2 - (3 * b2) / 2\n",
        "\n",
        "# Imprimir os resultados\n",
        "print(\"Resultado da expressão 1:\", result)\n",
        "print(\"Resultado da expressão 2:\", result2)\n"
      ]
    },
    {
      "cell_type": "markdown",
      "id": "bfd4096f",
      "metadata": {
        "id": "bfd4096f"
      },
      "source": [
        "Questão 5: Hoje é seu dia de sorte, seu chefe falou que você e todos os outros estagiários vão ter um aumento de 7,3% nos salários. Faça um programa que mostre automaticamente o valor do salário com o aumento quando o estagiário inserir o quanto ganha atualmente."
      ]
    },
    {
      "cell_type": "code",
      "execution_count": null,
      "id": "b10e3513",
      "metadata": {
        "id": "b10e3513"
      },
      "outputs": [],
      "source": [
        "# RESPOSTA AQUI\n",
        "salario_atual = float(input(\"Digite seu salário atual: \"))\n",
        "\n",
        "aumento_percentual = 7.3\n",
        "aumento_decimal = aumento_percentual / 100\n",
        "novo_salario = salario_atual * (1 + aumento_decimal)\n",
        "\n",
        "print(\"Seu novo salário com o aumento de 7,3% é: R${:.2f}\".format(novo_salario))\n"
      ]
    },
    {
      "cell_type": "markdown",
      "id": "444bf6ca",
      "metadata": {
        "id": "444bf6ca"
      },
      "source": [
        "Questão 6: Agora, você vai fazer uma calculadora, na qual o usuário insere 2 números, e você precisa imprimir, usando a função format, a soma, subtração, divisão e seu resto.(números inteiros)"
      ]
    },
    {
      "cell_type": "code",
      "execution_count": 37,
      "id": "504ad475",
      "metadata": {
        "id": "504ad475",
        "outputId": "7c5c5069-e43c-4de2-c51d-1b2145b7d794",
        "colab": {
          "base_uri": "https://localhost:8080/"
        }
      },
      "outputs": [
        {
          "output_type": "stream",
          "name": "stdout",
          "text": [
            "Digite o primeiro valor: 10\n",
            "Digite o segundo valor: 5\n",
            "\n",
            "Resultados:\n",
            "Soma: 15\n",
            "Subtração: 5\n",
            "Divisão: 2 (parte inteira)\n",
            "Resto: 0\n"
          ]
        }
      ],
      "source": [
        "# RESPOSTA AQUI\n",
        "numero = int(input(\"Digite o primeiro valor: \"))\n",
        "numero2 = int(input(\"Digite o segundo valor: \"))\n",
        "\n",
        "soma = numero + numero2\n",
        "subtracao = numero - numero2\n",
        "divisao = numero // numero2\n",
        "resto = numero % numero2\n",
        "\n",
        "print(\"\\nResultados:\")\n",
        "print(\"Soma: {}\".format(soma))\n",
        "print(\"Subtração: {}\".format(subtracao))\n",
        "print(\"Divisão: {} (parte inteira)\".format(divisao))\n",
        "print(\"Resto: {}\".format(resto))\n"
      ]
    },
    {
      "cell_type": "markdown",
      "id": "2c6ecac5",
      "metadata": {
        "id": "2c6ecac5"
      },
      "source": [
        "Questão 7:Você está preparando um evento para o seu instituto e precisa fazer uma ficha de cadastro. Nele a pessoa vai ter que inserir nome, altura, comida predileta,e idade(só números)."
      ]
    },
    {
      "cell_type": "code",
      "execution_count": 36,
      "id": "4fade6c5",
      "metadata": {
        "id": "4fade6c5",
        "outputId": "6fda381c-e1f0-44d4-9a35-af9e87c22cef",
        "colab": {
          "base_uri": "https://localhost:8080/"
        }
      },
      "outputs": [
        {
          "output_type": "stream",
          "name": "stdout",
          "text": [
            "Digite seu nome: athos\n",
            "Digite sua altura (em metros): 1.96\n",
            "Digite sua comida predileta: empadão\n",
            "Digite sua idade: 24\n",
            "\n",
            "Ficha de Cadastro:\n",
            "Nome: athos\n",
            "Altura: 1.96\n",
            "Comida Predileta: empadão\n",
            "Idade: 24\n"
          ]
        }
      ],
      "source": [
        "# RESPOSTA AQUI\n",
        "nome = input(\"Digite seu nome: \")\n",
        "altura = float(input(\"Digite sua altura (em metros): \"))\n",
        "comida_predileta = input(\"Digite sua comida predileta: \")\n",
        "idade = int(input(\"Digite sua idade: \"))\n",
        "\n",
        "cadastro = {\n",
        "    'Nome': nome,\n",
        "    'Altura': altura,\n",
        "    'Comida Predileta': comida_predileta,\n",
        "    'Idade': idade\n",
        "}\n",
        "\n",
        "print(\"\\nFicha de Cadastro:\")\n",
        "for chave, valor in cadastro.items():\n",
        "    print(f\"{chave}: {valor}\")\n"
      ]
    },
    {
      "cell_type": "markdown",
      "id": "3c38647c",
      "metadata": {
        "id": "3c38647c"
      },
      "source": [
        "Questão 8:Faça um programa que leia um número inteiro e mostre seu sucessor e seu antecessor."
      ]
    },
    {
      "cell_type": "code",
      "execution_count": 35,
      "id": "c35fd4bb",
      "metadata": {
        "id": "c35fd4bb",
        "outputId": "4dbbaaae-8964-451a-b51b-54384308378a",
        "colab": {
          "base_uri": "https://localhost:8080/"
        }
      },
      "outputs": [
        {
          "output_type": "stream",
          "name": "stdout",
          "text": [
            "Digite um número inteiro: 6\n",
            "O antecessor é 5.\n",
            "O sucessor é 7.\n"
          ]
        }
      ],
      "source": [
        "# RESPOSTA AQUI\n",
        "numero_inteiro = int(input(\"Digite um número inteiro: \"))\n",
        "\n",
        "antecessor = numero_inteiro - 1\n",
        "sucessor = numero_inteiro + 1\n",
        "\n",
        "print(f\"O antecessor é {antecessor}.\")\n",
        "print(f\"O sucessor é {sucessor}.\")\n"
      ]
    },
    {
      "cell_type": "markdown",
      "id": "2f2cf42c",
      "metadata": {
        "id": "2f2cf42c"
      },
      "source": [
        "Questão 9: Escreva um programa que calcule a quantidade de latas de tintas\n",
        "necessárias e o custo para pintar tanques cilíndricos de combustível,\n",
        "em que são fornecidos a altura e o raio desse cilindro. Sabe-se que a\n",
        "lata de tinta custa R$50,00; cada lata contém 5 litros e cada litro de\n",
        "tinta pinta 3 m2\n",
        "Area do Cilindro = 2.pi.r.(h+r)(área lateral e as 2 bases)(considere pi=3)\n"
      ]
    },
    {
      "cell_type": "code",
      "execution_count": 33,
      "id": "0fba5eed",
      "metadata": {
        "id": "0fba5eed",
        "outputId": "30c1c89b-4802-4686-9fa1-074bf2996727",
        "colab": {
          "base_uri": "https://localhost:8080/"
        }
      },
      "outputs": [
        {
          "output_type": "stream",
          "name": "stdout",
          "text": [
            "Digite a altura do cilindro em metros: 7\n",
            "Digite o raio do cilindro em metros: 5\n",
            "Serão necessárias 25 latas de tinta.\n",
            "O custo total para pintar o cilindro será de R$1250.00.\n"
          ]
        }
      ],
      "source": [
        "# RESPOSTA AQUI\n",
        "custo_por_lata = 50\n",
        "litros_por_lata = 5\n",
        "rendimento_por_litro = 3\n",
        "pi = 3.14\n",
        "\n",
        "altura_cilindro = float(input(\"Digite a altura do cilindro em metros: \"))\n",
        "raio_cilindro = float(input(\"Digite o raio do cilindro em metros: \"))\n",
        "\n",
        "area_cilindro = 2 * pi * raio_cilindro * (altura_cilindro + raio_cilindro)\n",
        "\n",
        "litros_necessarios = area_cilindro / rendimento_por_litro\n",
        "\n",
        "latas_necessarias = int((litros_necessarios + litros_por_lata - 1) / litros_por_lata)  # Arredondar para cima\n",
        "\n",
        "custo_total = latas_necessarias * custo_por_lata\n",
        "\n",
        "print(f\"Serão necessárias {latas_necessarias} latas de tinta.\")\n",
        "print(f\"O custo total para pintar o cilindro será de R${custo_total:.2f}.\")\n"
      ]
    },
    {
      "cell_type": "markdown",
      "id": "6ce3458e",
      "metadata": {
        "id": "6ce3458e"
      },
      "source": [
        "Questão 10: Escreva um programa que peça para o usuário inserir a quantidade de dias que ele irá viajar com o carro e a quantidade de km que ele irá percorrer. Calcule o quanto ele irá pagar, sabendo que o preço por dia de aluguel é 85 reais e 0,35 centavos por km rodado."
      ]
    },
    {
      "cell_type": "code",
      "execution_count": 32,
      "id": "c3adc408",
      "metadata": {
        "id": "c3adc408",
        "outputId": "5dd5d1e2-400b-48ff-f1a1-789d6053e75b",
        "colab": {
          "base_uri": "https://localhost:8080/"
        }
      },
      "outputs": [
        {
          "output_type": "stream",
          "name": "stdout",
          "text": [
            "Digite a quantidade de dias que você irá viajar: 7\n",
            "Digite a quantidade de quilômetros que você irá percorrer: 13\n",
            "O custo total do aluguel do carro será de: R$595.05\n"
          ]
        }
      ],
      "source": [
        "# RESPOSTA AQUI\n",
        "quantidade_dias = int(input(\"Digite a quantidade de dias que você irá viajar: \"))\n",
        "quantidade_km = float(input(\"Digite a quantidade de quilômetros que você irá percorrer: \"))\n",
        "\n",
        "preco_diaria = 85\n",
        "preco_km = 0.35\n",
        "\n",
        "custo_diarias = quantidade_dias * preco_diaria\n",
        "custo_km = quantidade_km * preco_km / 100\n",
        "\n",
        "custo_total = custo_diarias + custo_km\n",
        "\n",
        "\n",
        "print(f\"O custo total do aluguel do carro será de: R${custo_total:.2f}\")\n"
      ]
    },
    {
      "cell_type": "markdown",
      "id": "0376787d",
      "metadata": {
        "id": "0376787d"
      },
      "source": [
        "Questão 11: Escreva um programa que leia um número que exiba sua parte inteira."
      ]
    },
    {
      "cell_type": "code",
      "execution_count": 30,
      "id": "d1d48d68",
      "metadata": {
        "id": "d1d48d68",
        "outputId": "d889fbd6-0e5b-4303-eb89-070feda5811f",
        "colab": {
          "base_uri": "https://localhost:8080/"
        }
      },
      "outputs": [
        {
          "output_type": "stream",
          "name": "stdout",
          "text": [
            "Digite um número: 15.6\n",
            "A parte inteira de 15.6 é: 15\n"
          ]
        }
      ],
      "source": [
        "# RESPOSTA AQUI\n",
        "numero = float(input(\"Digite um número: \"))\n",
        "\n",
        "parte_inteira = int(numero)\n",
        "print(f\"A parte inteira de {numero} é: {parte_inteira}\")\n"
      ]
    },
    {
      "cell_type": "markdown",
      "id": "9aeddde4",
      "metadata": {
        "id": "9aeddde4"
      },
      "source": [
        "Questão 12: Encontre o tipo das seguintes variáveis, usando a função type(). Imprima o resultado com print(f.\n",
        "Amanda\n",
        "12\n",
        "12.4\n"
      ]
    },
    {
      "cell_type": "code",
      "execution_count": 29,
      "id": "e2f0adfb",
      "metadata": {
        "id": "e2f0adfb",
        "outputId": "664cb641-508c-4f8d-b1ff-d89b95517f99",
        "colab": {
          "base_uri": "https://localhost:8080/"
        }
      },
      "outputs": [
        {
          "output_type": "stream",
          "name": "stdout",
          "text": [
            "'Amanda': <class 'str'>\n",
            "12: <class 'int'>\n",
            "12.4: <class 'float'>\n"
          ]
        }
      ],
      "source": [
        "# RESPOSTA AQUI\n",
        "nome = \"Amanda\"\n",
        "inteiro = 12\n",
        "decimal = 12.4\n",
        "\n",
        "print(f\"'{nome}': {type(nome)}\")\n",
        "print(f\"{inteiro}: {type(inteiro)}\")\n",
        "print(f\"{decimal}: {type(decimal)}\")\n"
      ]
    },
    {
      "cell_type": "markdown",
      "id": "327493cd",
      "metadata": {
        "id": "327493cd"
      },
      "source": [
        "Questão 13:Você vai fazer intercâmbio nos Eua, e quer saber se você tem que levar muitas roupas de frio.\n",
        "\n",
        "a)então precisa fazer um conversor de temperatura de fahrenheit para celsius\n"
      ]
    },
    {
      "cell_type": "code",
      "execution_count": 27,
      "id": "80645449",
      "metadata": {
        "id": "80645449",
        "outputId": "d943c05b-bab3-494f-a20d-a2bdff6fb04d",
        "colab": {
          "base_uri": "https://localhost:8080/"
        }
      },
      "outputs": [
        {
          "output_type": "stream",
          "name": "stdout",
          "text": [
            "Conversor de Fahrenheit p/ Celsius: 79.5\n",
            "A temperatura em Celsius é: 26.38888888888889\n"
          ]
        }
      ],
      "source": [
        "# RESPOSTA AQUI\n",
        "temperatura_fahrenheit = float(input(\"Conversor de Fahrenheit p/ Celsius: \"))\n",
        "\n",
        "temperatura_celsius = (temperatura_fahrenheit - 32) * 5/9\n",
        "\n",
        "print(\"A temperatura em Celsius é:\", temperatura_celsius)\n",
        "\n",
        "\n",
        "\n"
      ]
    },
    {
      "cell_type": "markdown",
      "id": "fa24c31f",
      "metadata": {
        "id": "fa24c31f"
      },
      "source": [
        "b)Agora, suponha que a temperatura convertida é um número com vírgula, arredonde ele com a função round."
      ]
    },
    {
      "cell_type": "code",
      "execution_count": 24,
      "id": "b170cf6c",
      "metadata": {
        "id": "b170cf6c",
        "outputId": "1229ca37-a4c8-49f2-8148-dc2a60c98bd0",
        "colab": {
          "base_uri": "https://localhost:8080/"
        }
      },
      "outputs": [
        {
          "output_type": "stream",
          "name": "stdout",
          "text": [
            "Digite a temperatura: 26.6\n",
            "Temperatura arredondada: 27\n"
          ]
        }
      ],
      "source": [
        "# RESPOSTA AQUI\n",
        "temp_str = input(\"Digite a temperatura: \")\n",
        "\n",
        "temp = float(temp_str)\n",
        "\n",
        "temp_arredondada = round(temp)\n",
        "\n",
        "print(\"Temperatura arredondada:\", temp_arredondada)\n"
      ]
    },
    {
      "cell_type": "markdown",
      "id": "60427fa0",
      "metadata": {
        "id": "60427fa0"
      },
      "source": [
        "Questão 14: Faça um programa que mostre se a cidade inserida começa com \"SANTO\" ou não.\n",
        "    "
      ]
    },
    {
      "cell_type": "code",
      "execution_count": 22,
      "id": "1e269cd1",
      "metadata": {
        "id": "1e269cd1",
        "outputId": "213317c5-a6e6-44a2-963f-910ed48e98aa",
        "colab": {
          "base_uri": "https://localhost:8080/"
        }
      },
      "outputs": [
        {
          "output_type": "stream",
          "name": "stdout",
          "text": [
            "Digite o nome da cidade: santo antao\n",
            "O nome da cidade começa com 'SANTO'.\n"
          ]
        }
      ],
      "source": [
        "# RESPOSTA AQUI\n",
        "cidade = input(\"Digite o nome da cidade: \")\n",
        "\n",
        "if cidade[:5].upper() == \"SANTO\":\n",
        "    print(\"O nome da cidade começa com 'SANTO'.\")\n",
        "else:\n",
        "    print(\"O nome da cidade não começa com 'SANTO'.\")\n"
      ]
    },
    {
      "cell_type": "markdown",
      "id": "4fa1e207",
      "metadata": {
        "id": "4fa1e207"
      },
      "source": [
        "Questão 15:Escreva um programa que leia o nome completo de uma pessoa e mostre:\n",
        "        -O nome com todas as letras maiúsculas e minúsculas\n",
        "        -Quantas letras ao todo sem contar os espaços\n",
        "        -Quantas letras tem o primeiro nome"
      ]
    },
    {
      "cell_type": "code",
      "execution_count": 18,
      "id": "e1bb43cb",
      "metadata": {
        "id": "e1bb43cb",
        "outputId": "88fc673c-7481-4cb4-fd7c-f662a4f1c5f3",
        "colab": {
          "base_uri": "https://localhost:8080/"
        }
      },
      "outputs": [
        {
          "output_type": "stream",
          "name": "stdout",
          "text": [
            "Insira o  seu nome completo: Athos Matheus Pugliese da Silva\n",
            "Maiúsculas: ATHOS MATHEUS PUGLIESE DA SILVA\n",
            "Minúsculas: athos matheus pugliese da silva\n",
            "Número total de letras (sem contar espaços): 27\n",
            "Número de letras no primeiro nome: 5\n"
          ]
        }
      ],
      "source": [
        "# RESPOSTA AQUI\n",
        "nome_completo = input(\"Insira o  seu nome completo: \")\n",
        "\n",
        "print(\"Maiúsculas:\", nome_completo.upper())\n",
        "print(\"Minúsculas:\", nome_completo.lower())\n",
        "\n",
        "# Remover e contar spacings\n",
        "total_letras = len(nome_completo.replace(\" \", \"\"))\n",
        "print(\"Número total de letras (sem contar espaços):\", total_letras)\n",
        "\n",
        "# Contar o número de letras no primeiro nome\n",
        "primeiro_nome = nome_completo.split()[0]\n",
        "letras_primeiro_nome = len(primeiro_nome)\n",
        "print(\"Número de letras no primeiro nome:\", letras_primeiro_nome)\n"
      ]
    },
    {
      "cell_type": "markdown",
      "id": "2094f174",
      "metadata": {
        "id": "2094f174"
      },
      "source": [
        "Questão 16: Você quer achar seus parentes da família \"Soares\". Então, faça um programa que detecte se o nome inserido é da sua família."
      ]
    },
    {
      "cell_type": "code",
      "execution_count": 17,
      "id": "4618ae4a",
      "metadata": {
        "id": "4618ae4a",
        "outputId": "12b85ced-11e8-42b3-97d8-5a242dd18b32",
        "colab": {
          "base_uri": "https://localhost:8080/"
        }
      },
      "outputs": [
        {
          "output_type": "stream",
          "name": "stdout",
          "text": [
            "Digite um texto: Athos Pugliese\n",
            "sobrenome 'Soares' não foi encontrado.\n"
          ]
        }
      ],
      "source": [
        "# RESPOSTA AQUI\n",
        "texto_inserido = input(\"Digite um texto: \")\n",
        "\n",
        "if \"Soares\" in texto_inserido:\n",
        "    print(\"sobrenome 'Soares' encontrado!\")\n",
        "else:\n",
        "    print(\"sobrenome 'Soares' não foi encontrado.\")\n"
      ]
    },
    {
      "cell_type": "markdown",
      "id": "80d66cd3",
      "metadata": {
        "id": "80d66cd3"
      },
      "source": [
        "Questão 17:Você está indo para o interusp, e está fazendo a lista dos 5 objetos mais importantes:bota,protetor-solar,camisinha,shorts e desodorante.\n",
        "a)Você se lembrou que as tattoos são mais importantes que o proteto-solar. Retire o protetor da lista e adicione as tattoos."
      ]
    },
    {
      "cell_type": "code",
      "execution_count": 12,
      "id": "9781c566",
      "metadata": {
        "id": "9781c566",
        "outputId": "b7ab8eb7-f852-4751-efab-4df97824e226",
        "colab": {
          "base_uri": "https://localhost:8080/"
        }
      },
      "outputs": [
        {
          "output_type": "stream",
          "name": "stdout",
          "text": [
            "Lista Atualizada de Objetos para o InterUSP: ['bota', 'camisinha', 'shorts', 'desodorante', 'tattoos']\n"
          ]
        }
      ],
      "source": [
        "# RESPOSTA AQUI\n",
        "\n",
        "itens = ['bota', 'protetor_solar', 'camisinha', 'shorts', 'desodorante']\n",
        "\n",
        "itens.remove('protetor_solar')\n",
        "\n",
        "itens.append('tattoos')\n",
        "\n",
        "print(\"Lista Atualizada de Objetos para o InterUSP:\", itens)\n"
      ]
    },
    {
      "cell_type": "markdown",
      "id": "d38c2ac4",
      "metadata": {
        "id": "d38c2ac4"
      },
      "source": [
        "b)Além disso, você gosta de listas organizadas por ordem alfabética, coloque-as como tal, e imprima o índice do item 'desodorante'."
      ]
    },
    {
      "cell_type": "code",
      "execution_count": 15,
      "id": "b8f866f2",
      "metadata": {
        "id": "b8f866f2",
        "outputId": "4d54de38-7759-4a39-b026-12024a79486e",
        "colab": {
          "base_uri": "https://localhost:8080/"
        }
      },
      "outputs": [
        {
          "output_type": "stream",
          "name": "stdout",
          "text": [
            "Ordem Alfabética: ['bota', 'camisinha', 'desodorante', 'shorts', 'tattoos']\n",
            "Desodorante: 2\n"
          ]
        }
      ],
      "source": [
        "# RESPOSTA AQUI\n",
        "\n",
        "itens.sort()\n",
        "\n",
        "print(\"Ordem Alfabética:\", itens)\n",
        "\n",
        "indice_desodorante = itens.index('desodorante')\n",
        "print(\"Desodorante:\", indice_desodorante)\n"
      ]
    },
    {
      "cell_type": "markdown",
      "id": "97eaf882",
      "metadata": {
        "id": "97eaf882"
      },
      "source": [
        "Questão 18:Chegou o final do semestre e você tem suas notas 7,9.5,8.0,2.0,1.0,3.0. Imprima sua nota máxima, mínima e a soma delas."
      ]
    },
    {
      "cell_type": "code",
      "execution_count": 4,
      "id": "4adec086",
      "metadata": {
        "id": "4adec086",
        "outputId": "def27f85-544b-4921-e0a2-cff365c13d10",
        "colab": {
          "base_uri": "https://localhost:8080/"
        }
      },
      "outputs": [
        {
          "output_type": "stream",
          "name": "stdout",
          "text": [
            "Nota Máxima: 9.5\n",
            "Nota Mínima: 1.0\n",
            "Soma das Notas: 10.5\n"
          ]
        }
      ],
      "source": [
        "# RESPOSTA AQUI\n",
        "notas = [7.0, 9.5, 8.0, 2.0, 1.0, 3.0]\n",
        "\n",
        "nota_maxima = max(notas)\n",
        "nota_minima = min(notas)\n",
        "nota_final = nota_maxima + nota_minima\n",
        "\n",
        "print(f\"Nota Máxima: {nota_maxima}\")\n",
        "print(f\"Nota Mínima: {nota_minima}\")\n",
        "print(f\"Soma: {nota_final}\")\n"
      ]
    },
    {
      "cell_type": "markdown",
      "id": "5205ead5",
      "metadata": {
        "id": "5205ead5"
      },
      "source": [
        "Questão 19: Chegando a Copa do mundo, é importante saber as 10 melhores seleções do mundo rankeadas pela FIFA:\n",
        "'Brasil','Belgica','Argentina','França','Iglaterra','Italia','Holanda','Espanha','Portugal','Alemanha'.Sabendo disso, extraia:\n",
        "        a)Os 2 primeiros colocados\n",
        "        b)os últimos 4 colocados\n",
        "        c)Em que posição está o nosso rival 'Argentina'"
      ]
    },
    {
      "cell_type": "code",
      "execution_count": 7,
      "id": "7aeed7e6",
      "metadata": {
        "id": "7aeed7e6",
        "outputId": "75fceeb1-4280-4945-ca57-3db645ead0c0",
        "colab": {
          "base_uri": "https://localhost:8080/"
        }
      },
      "outputs": [
        {
          "output_type": "stream",
          "name": "stdout",
          "text": [
            "a) Os 2 primeiros colocados: ['Brasil', 'Belgica']\n",
            "b) Os últimos 4 colocados: ['Holanda', 'Espanha', 'Portugal', 'Alemanha']\n",
            "c) Posição da Argentina: 3\n"
          ]
        }
      ],
      "source": [
        "# RESPOSTA AQUI\n",
        "\n",
        "# Não entendi muito bem mas optei por considerar a ordem em que foi colocados os países no enunciado\n",
        "paises = ['Brasil', 'Belgica', 'Argentina', 'França', 'Inglaterra', 'Italia', 'Holanda', 'Espanha', 'Portugal', 'Alemanha']\n",
        "\n",
        "dois_primeiros = paises[:2]\n",
        "\n",
        "ultimos_quatro = paises[-4:]\n",
        "\n",
        "# Mais 1 pois o index do array como na maioria das linguagens começa em 0\n",
        "posicao_argentina = paises.index('Argentina') + 1\n",
        "\n",
        "# Exibir resultados\n",
        "print(\"a) Os 2 primeiros colocados:\", dois_primeiros)\n",
        "print(\"b) Os últimos 4 colocados:\", ultimos_quatro)\n",
        "print(\"c) Posição da Argentina:\", posicao_argentina)\n"
      ]
    },
    {
      "cell_type": "markdown",
      "id": "7990e715",
      "metadata": {
        "id": "7990e715"
      },
      "source": [
        "Questão 20:Faça um dicionário com os seguintes dados cadastrais dos alunos da Usp\n",
        "    Nome - Juliano\n",
        "    idade - 20 anos\n",
        "    Instituto - ECA\n",
        "    "
      ]
    },
    {
      "cell_type": "code",
      "execution_count": 9,
      "id": "66c3bc17",
      "metadata": {
        "id": "66c3bc17",
        "outputId": "15d04314-e480-4da3-e30d-3d2d06eae54f",
        "colab": {
          "base_uri": "https://localhost:8080/"
        }
      },
      "outputs": [
        {
          "output_type": "stream",
          "name": "stdout",
          "text": [
            "{'Nome': 'Juliano', 'Idade': 20, 'Instituto': 'ECA'}\n"
          ]
        }
      ],
      "source": [
        "# RESPOSTA AQUI\n",
        "\n",
        "aluno = dict(\n",
        "    Nome='Juliano',\n",
        "    Idade=20,\n",
        "    Instituto='ECA'\n",
        ")\n",
        "\n",
        "print(aluno)\n"
      ]
    },
    {
      "cell_type": "markdown",
      "id": "9f98d738",
      "metadata": {
        "id": "9f98d738"
      },
      "source": [
        "b) Agora você vai precisar fazer algumas alterações\n",
        "    1. Mude o nome de Juliano para Pedro\n",
        "    2.Adicione mais um campo 'Ano de ingresso - 2019'\n",
        "    3.Imprima só o ano de ingresso do aluno(só o valor)\n",
        "    4.Imprima todo o dicionário"
      ]
    },
    {
      "cell_type": "code",
      "execution_count": 10,
      "id": "b33a6987",
      "metadata": {
        "id": "b33a6987",
        "outputId": "3255e5bc-8ecd-46ef-aedd-abe92eda58e7",
        "colab": {
          "base_uri": "https://localhost:8080/"
        }
      },
      "outputs": [
        {
          "output_type": "stream",
          "name": "stdout",
          "text": [
            "Ano de Ingresso: 2019\n",
            "Novo dict: {'Nome': 'Pedro', 'Idade': 20, 'Instituto': 'ECA', 'Ano de ingresso': 2019}\n"
          ]
        }
      ],
      "source": [
        "# RESPOSTA AQUI\n",
        "aluno['Nome'] = 'Pedro'\n",
        "\n",
        "aluno['Ano de ingresso'] = 2019\n",
        "\n",
        "ano_ingresso = aluno['Ano de ingresso']\n",
        "print(\"Ano de Ingresso:\", ano_ingresso)\n",
        "\n",
        "print(\"Novo dict:\", aluno)"
      ]
    }
  ],
  "metadata": {
    "kernelspec": {
      "display_name": "Python 3 (ipykernel)",
      "language": "python",
      "name": "python3"
    },
    "language_info": {
      "codemirror_mode": {
        "name": "ipython",
        "version": 3
      },
      "file_extension": ".py",
      "mimetype": "text/x-python",
      "name": "python",
      "nbconvert_exporter": "python",
      "pygments_lexer": "ipython3",
      "version": "3.9.12"
    },
    "colab": {
      "provenance": [],
      "include_colab_link": true
    }
  },
  "nbformat": 4,
  "nbformat_minor": 5
}