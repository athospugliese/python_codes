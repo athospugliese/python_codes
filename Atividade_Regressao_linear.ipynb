{
  "cells": [
    {
      "cell_type": "markdown",
      "metadata": {
        "id": "view-in-github",
        "colab_type": "text"
      },
      "source": [
        "<a href=\"https://colab.research.google.com/github/athospugliesedev/python_codes/blob/main/Atividade_Regressao_linear.ipynb\" target=\"_parent\"><img src=\"https://colab.research.google.com/assets/colab-badge.svg\" alt=\"Open In Colab\"/></a>"
      ]
    },
    {
      "cell_type": "markdown",
      "id": "4d17c66f",
      "metadata": {
        "id": "4d17c66f"
      },
      "source": [
        " <h align=centre><font size = 8, style=\"color:rgb(200,0,0)\">Atividade: Regressão Linear</font></h>"
      ]
    },
    {
      "cell_type": "markdown",
      "id": "c03e81b5-5852-40a6-9732-4eacec0126d1",
      "metadata": {
        "id": "c03e81b5-5852-40a6-9732-4eacec0126d1"
      },
      "source": [
        "**Importanto a biblioteca a ser utilizada**"
      ]
    },
    {
      "cell_type": "code",
      "execution_count": 2,
      "id": "e753ee18",
      "metadata": {
        "id": "e753ee18"
      },
      "outputs": [],
      "source": [
        "import pandas as pd\n",
        "import numpy as np"
      ]
    },
    {
      "cell_type": "markdown",
      "id": "eb7863ac-b70b-4d44-9ac8-918d27c210e3",
      "metadata": {
        "tags": [],
        "toc-hr-collapsed": true,
        "id": "eb7863ac-b70b-4d44-9ac8-918d27c210e3"
      },
      "source": [
        "# QUESTÃO 01"
      ]
    },
    {
      "cell_type": "markdown",
      "id": "f9b24360-47e8-4a8e-9aa1-09a1ac99e40c",
      "metadata": {
        "id": "f9b24360-47e8-4a8e-9aa1-09a1ac99e40c"
      },
      "source": [
        "Na\t engenharia de\t recursos\t hídricos\t a\t estimativa dos\t tamanhos\t dos reservatórios\t depende\t de\testimativas\tacuradas\t do\tescoamento\t da\tágua\t do\t rio\t que\testá sendo\tconfinado.\tEm\talguns\trios,\tregistros\thistóricos\tde\tlonga\tduração\tde\t tais\tdados\tde\tescoamento\t são\t difíceis\t de\t obter.\t Já\t os\t dados\t meteorológicos\t sobre precipitação\t estão\tdisponíveis\t para\t muitos\t anos\t do\t passado.\t Portanto,\t é\t útil\t determinar\t a\t relação\t entre\tescoamento\te\tprecipitação.\t<br>\n",
        "Essa\t relação\t pode\t ser\t usada\t para\t fazer\t uma\t estimativa\t do\t escoamento\t nos\tanos\tnos\tquais\tapenas\tmedidas\tde\tprecipitação\tforam\tfeitos.\tOs\tseguintes\tdados\testão\tdisponíveis\tpara\tum\trio\tque\tdeve\tser\testancado:\n",
        "\n",
        "Precipitação [cm/ano] e Escoamento [m3/s]\n"
      ]
    },
    {
      "cell_type": "markdown",
      "id": "fa4c74a8-67c6-4c15-9ff6-d3b3bbabf7a5",
      "metadata": {
        "id": "fa4c74a8-67c6-4c15-9ff6-d3b3bbabf7a5"
      },
      "source": [
        "a) Calcula através do método de regressão linear a função que melhor ajusta aos dados <br>\n",
        "b) Determine o coeficiente de correlação dos dados. <br>\n",
        "c) Utilize a função da reta para prever o escoamento se a precipitação for de (cm)\n",
        "- 55.5\n",
        "- 66.4\n",
        "- 22.1\n",
        "- 1\n",
        "<br>\n",
        "d) Faça\tuma\testimativa\tde\tescoamento\tpara\t140 cm/ano"
      ]
    },
    {
      "cell_type": "markdown",
      "id": "f8e69b01-e9ef-4aaf-bfbc-6f5d418e7c99",
      "metadata": {
        "id": "f8e69b01-e9ef-4aaf-bfbc-6f5d418e7c99"
      },
      "source": [
        "## Base de Dados"
      ]
    },
    {
      "cell_type": "code",
      "execution_count": 3,
      "id": "8d6cc682-79b7-4638-9e09-1e449fd05678",
      "metadata": {
        "tags": [],
        "id": "8d6cc682-79b7-4638-9e09-1e449fd05678",
        "outputId": "3121f65d-e37a-4ebd-f71f-de6fd1d64351",
        "colab": {
          "base_uri": "https://localhost:8080/",
          "height": 206
        }
      },
      "outputs": [
        {
          "output_type": "execute_result",
          "data": {
            "text/plain": [
              "   Precipitação  Escoamento\n",
              "0          88.9        14.6\n",
              "1         108.5        16.7\n",
              "2         104.1        15.3\n",
              "3         139.7        23.2\n",
              "4         127.0        19.5"
            ],
            "text/html": [
              "\n",
              "  <div id=\"df-f7c520c4-6aa2-4c7b-b002-d42b750e8b09\" class=\"colab-df-container\">\n",
              "    <div>\n",
              "<style scoped>\n",
              "    .dataframe tbody tr th:only-of-type {\n",
              "        vertical-align: middle;\n",
              "    }\n",
              "\n",
              "    .dataframe tbody tr th {\n",
              "        vertical-align: top;\n",
              "    }\n",
              "\n",
              "    .dataframe thead th {\n",
              "        text-align: right;\n",
              "    }\n",
              "</style>\n",
              "<table border=\"1\" class=\"dataframe\">\n",
              "  <thead>\n",
              "    <tr style=\"text-align: right;\">\n",
              "      <th></th>\n",
              "      <th>Precipitação</th>\n",
              "      <th>Escoamento</th>\n",
              "    </tr>\n",
              "  </thead>\n",
              "  <tbody>\n",
              "    <tr>\n",
              "      <th>0</th>\n",
              "      <td>88.9</td>\n",
              "      <td>14.6</td>\n",
              "    </tr>\n",
              "    <tr>\n",
              "      <th>1</th>\n",
              "      <td>108.5</td>\n",
              "      <td>16.7</td>\n",
              "    </tr>\n",
              "    <tr>\n",
              "      <th>2</th>\n",
              "      <td>104.1</td>\n",
              "      <td>15.3</td>\n",
              "    </tr>\n",
              "    <tr>\n",
              "      <th>3</th>\n",
              "      <td>139.7</td>\n",
              "      <td>23.2</td>\n",
              "    </tr>\n",
              "    <tr>\n",
              "      <th>4</th>\n",
              "      <td>127.0</td>\n",
              "      <td>19.5</td>\n",
              "    </tr>\n",
              "  </tbody>\n",
              "</table>\n",
              "</div>\n",
              "    <div class=\"colab-df-buttons\">\n",
              "\n",
              "  <div class=\"colab-df-container\">\n",
              "    <button class=\"colab-df-convert\" onclick=\"convertToInteractive('df-f7c520c4-6aa2-4c7b-b002-d42b750e8b09')\"\n",
              "            title=\"Convert this dataframe to an interactive table.\"\n",
              "            style=\"display:none;\">\n",
              "\n",
              "  <svg xmlns=\"http://www.w3.org/2000/svg\" height=\"24px\" viewBox=\"0 -960 960 960\">\n",
              "    <path d=\"M120-120v-720h720v720H120Zm60-500h600v-160H180v160Zm220 220h160v-160H400v160Zm0 220h160v-160H400v160ZM180-400h160v-160H180v160Zm440 0h160v-160H620v160ZM180-180h160v-160H180v160Zm440 0h160v-160H620v160Z\"/>\n",
              "  </svg>\n",
              "    </button>\n",
              "\n",
              "  <style>\n",
              "    .colab-df-container {\n",
              "      display:flex;\n",
              "      gap: 12px;\n",
              "    }\n",
              "\n",
              "    .colab-df-convert {\n",
              "      background-color: #E8F0FE;\n",
              "      border: none;\n",
              "      border-radius: 50%;\n",
              "      cursor: pointer;\n",
              "      display: none;\n",
              "      fill: #1967D2;\n",
              "      height: 32px;\n",
              "      padding: 0 0 0 0;\n",
              "      width: 32px;\n",
              "    }\n",
              "\n",
              "    .colab-df-convert:hover {\n",
              "      background-color: #E2EBFA;\n",
              "      box-shadow: 0px 1px 2px rgba(60, 64, 67, 0.3), 0px 1px 3px 1px rgba(60, 64, 67, 0.15);\n",
              "      fill: #174EA6;\n",
              "    }\n",
              "\n",
              "    .colab-df-buttons div {\n",
              "      margin-bottom: 4px;\n",
              "    }\n",
              "\n",
              "    [theme=dark] .colab-df-convert {\n",
              "      background-color: #3B4455;\n",
              "      fill: #D2E3FC;\n",
              "    }\n",
              "\n",
              "    [theme=dark] .colab-df-convert:hover {\n",
              "      background-color: #434B5C;\n",
              "      box-shadow: 0px 1px 3px 1px rgba(0, 0, 0, 0.15);\n",
              "      filter: drop-shadow(0px 1px 2px rgba(0, 0, 0, 0.3));\n",
              "      fill: #FFFFFF;\n",
              "    }\n",
              "  </style>\n",
              "\n",
              "    <script>\n",
              "      const buttonEl =\n",
              "        document.querySelector('#df-f7c520c4-6aa2-4c7b-b002-d42b750e8b09 button.colab-df-convert');\n",
              "      buttonEl.style.display =\n",
              "        google.colab.kernel.accessAllowed ? 'block' : 'none';\n",
              "\n",
              "      async function convertToInteractive(key) {\n",
              "        const element = document.querySelector('#df-f7c520c4-6aa2-4c7b-b002-d42b750e8b09');\n",
              "        const dataTable =\n",
              "          await google.colab.kernel.invokeFunction('convertToInteractive',\n",
              "                                                    [key], {});\n",
              "        if (!dataTable) return;\n",
              "\n",
              "        const docLinkHtml = 'Like what you see? Visit the ' +\n",
              "          '<a target=\"_blank\" href=https://colab.research.google.com/notebooks/data_table.ipynb>data table notebook</a>'\n",
              "          + ' to learn more about interactive tables.';\n",
              "        element.innerHTML = '';\n",
              "        dataTable['output_type'] = 'display_data';\n",
              "        await google.colab.output.renderOutput(dataTable, element);\n",
              "        const docLink = document.createElement('div');\n",
              "        docLink.innerHTML = docLinkHtml;\n",
              "        element.appendChild(docLink);\n",
              "      }\n",
              "    </script>\n",
              "  </div>\n",
              "\n",
              "\n",
              "<div id=\"df-29d64821-4189-49ee-8e5b-84ac18fd4436\">\n",
              "  <button class=\"colab-df-quickchart\" onclick=\"quickchart('df-29d64821-4189-49ee-8e5b-84ac18fd4436')\"\n",
              "            title=\"Suggest charts\"\n",
              "            style=\"display:none;\">\n",
              "\n",
              "<svg xmlns=\"http://www.w3.org/2000/svg\" height=\"24px\"viewBox=\"0 0 24 24\"\n",
              "     width=\"24px\">\n",
              "    <g>\n",
              "        <path d=\"M19 3H5c-1.1 0-2 .9-2 2v14c0 1.1.9 2 2 2h14c1.1 0 2-.9 2-2V5c0-1.1-.9-2-2-2zM9 17H7v-7h2v7zm4 0h-2V7h2v10zm4 0h-2v-4h2v4z\"/>\n",
              "    </g>\n",
              "</svg>\n",
              "  </button>\n",
              "\n",
              "<style>\n",
              "  .colab-df-quickchart {\n",
              "      --bg-color: #E8F0FE;\n",
              "      --fill-color: #1967D2;\n",
              "      --hover-bg-color: #E2EBFA;\n",
              "      --hover-fill-color: #174EA6;\n",
              "      --disabled-fill-color: #AAA;\n",
              "      --disabled-bg-color: #DDD;\n",
              "  }\n",
              "\n",
              "  [theme=dark] .colab-df-quickchart {\n",
              "      --bg-color: #3B4455;\n",
              "      --fill-color: #D2E3FC;\n",
              "      --hover-bg-color: #434B5C;\n",
              "      --hover-fill-color: #FFFFFF;\n",
              "      --disabled-bg-color: #3B4455;\n",
              "      --disabled-fill-color: #666;\n",
              "  }\n",
              "\n",
              "  .colab-df-quickchart {\n",
              "    background-color: var(--bg-color);\n",
              "    border: none;\n",
              "    border-radius: 50%;\n",
              "    cursor: pointer;\n",
              "    display: none;\n",
              "    fill: var(--fill-color);\n",
              "    height: 32px;\n",
              "    padding: 0;\n",
              "    width: 32px;\n",
              "  }\n",
              "\n",
              "  .colab-df-quickchart:hover {\n",
              "    background-color: var(--hover-bg-color);\n",
              "    box-shadow: 0 1px 2px rgba(60, 64, 67, 0.3), 0 1px 3px 1px rgba(60, 64, 67, 0.15);\n",
              "    fill: var(--button-hover-fill-color);\n",
              "  }\n",
              "\n",
              "  .colab-df-quickchart-complete:disabled,\n",
              "  .colab-df-quickchart-complete:disabled:hover {\n",
              "    background-color: var(--disabled-bg-color);\n",
              "    fill: var(--disabled-fill-color);\n",
              "    box-shadow: none;\n",
              "  }\n",
              "\n",
              "  .colab-df-spinner {\n",
              "    border: 2px solid var(--fill-color);\n",
              "    border-color: transparent;\n",
              "    border-bottom-color: var(--fill-color);\n",
              "    animation:\n",
              "      spin 1s steps(1) infinite;\n",
              "  }\n",
              "\n",
              "  @keyframes spin {\n",
              "    0% {\n",
              "      border-color: transparent;\n",
              "      border-bottom-color: var(--fill-color);\n",
              "      border-left-color: var(--fill-color);\n",
              "    }\n",
              "    20% {\n",
              "      border-color: transparent;\n",
              "      border-left-color: var(--fill-color);\n",
              "      border-top-color: var(--fill-color);\n",
              "    }\n",
              "    30% {\n",
              "      border-color: transparent;\n",
              "      border-left-color: var(--fill-color);\n",
              "      border-top-color: var(--fill-color);\n",
              "      border-right-color: var(--fill-color);\n",
              "    }\n",
              "    40% {\n",
              "      border-color: transparent;\n",
              "      border-right-color: var(--fill-color);\n",
              "      border-top-color: var(--fill-color);\n",
              "    }\n",
              "    60% {\n",
              "      border-color: transparent;\n",
              "      border-right-color: var(--fill-color);\n",
              "    }\n",
              "    80% {\n",
              "      border-color: transparent;\n",
              "      border-right-color: var(--fill-color);\n",
              "      border-bottom-color: var(--fill-color);\n",
              "    }\n",
              "    90% {\n",
              "      border-color: transparent;\n",
              "      border-bottom-color: var(--fill-color);\n",
              "    }\n",
              "  }\n",
              "</style>\n",
              "\n",
              "  <script>\n",
              "    async function quickchart(key) {\n",
              "      const quickchartButtonEl =\n",
              "        document.querySelector('#' + key + ' button');\n",
              "      quickchartButtonEl.disabled = true;  // To prevent multiple clicks.\n",
              "      quickchartButtonEl.classList.add('colab-df-spinner');\n",
              "      try {\n",
              "        const charts = await google.colab.kernel.invokeFunction(\n",
              "            'suggestCharts', [key], {});\n",
              "      } catch (error) {\n",
              "        console.error('Error during call to suggestCharts:', error);\n",
              "      }\n",
              "      quickchartButtonEl.classList.remove('colab-df-spinner');\n",
              "      quickchartButtonEl.classList.add('colab-df-quickchart-complete');\n",
              "    }\n",
              "    (() => {\n",
              "      let quickchartButtonEl =\n",
              "        document.querySelector('#df-29d64821-4189-49ee-8e5b-84ac18fd4436 button');\n",
              "      quickchartButtonEl.style.display =\n",
              "        google.colab.kernel.accessAllowed ? 'block' : 'none';\n",
              "    })();\n",
              "  </script>\n",
              "</div>\n",
              "\n",
              "  <div id=\"id_7529dfa6-52b4-4059-8532-d7d7585259fe\">\n",
              "    <style>\n",
              "      .colab-df-generate {\n",
              "        background-color: #E8F0FE;\n",
              "        border: none;\n",
              "        border-radius: 50%;\n",
              "        cursor: pointer;\n",
              "        display: none;\n",
              "        fill: #1967D2;\n",
              "        height: 32px;\n",
              "        padding: 0 0 0 0;\n",
              "        width: 32px;\n",
              "      }\n",
              "\n",
              "      .colab-df-generate:hover {\n",
              "        background-color: #E2EBFA;\n",
              "        box-shadow: 0px 1px 2px rgba(60, 64, 67, 0.3), 0px 1px 3px 1px rgba(60, 64, 67, 0.15);\n",
              "        fill: #174EA6;\n",
              "      }\n",
              "\n",
              "      [theme=dark] .colab-df-generate {\n",
              "        background-color: #3B4455;\n",
              "        fill: #D2E3FC;\n",
              "      }\n",
              "\n",
              "      [theme=dark] .colab-df-generate:hover {\n",
              "        background-color: #434B5C;\n",
              "        box-shadow: 0px 1px 3px 1px rgba(0, 0, 0, 0.15);\n",
              "        filter: drop-shadow(0px 1px 2px rgba(0, 0, 0, 0.3));\n",
              "        fill: #FFFFFF;\n",
              "      }\n",
              "    </style>\n",
              "    <button class=\"colab-df-generate\" onclick=\"generateWithVariable('df')\"\n",
              "            title=\"Generate code using this dataframe.\"\n",
              "            style=\"display:none;\">\n",
              "\n",
              "  <svg xmlns=\"http://www.w3.org/2000/svg\" height=\"24px\"viewBox=\"0 0 24 24\"\n",
              "       width=\"24px\">\n",
              "    <path d=\"M7,19H8.4L18.45,9,17,7.55,7,17.6ZM5,21V16.75L18.45,3.32a2,2,0,0,1,2.83,0l1.4,1.43a1.91,1.91,0,0,1,.58,1.4,1.91,1.91,0,0,1-.58,1.4L9.25,21ZM18.45,9,17,7.55Zm-12,3A5.31,5.31,0,0,0,4.9,8.1,5.31,5.31,0,0,0,1,6.5,5.31,5.31,0,0,0,4.9,4.9,5.31,5.31,0,0,0,6.5,1,5.31,5.31,0,0,0,8.1,4.9,5.31,5.31,0,0,0,12,6.5,5.46,5.46,0,0,0,6.5,12Z\"/>\n",
              "  </svg>\n",
              "    </button>\n",
              "    <script>\n",
              "      (() => {\n",
              "      const buttonEl =\n",
              "        document.querySelector('#id_7529dfa6-52b4-4059-8532-d7d7585259fe button.colab-df-generate');\n",
              "      buttonEl.style.display =\n",
              "        google.colab.kernel.accessAllowed ? 'block' : 'none';\n",
              "\n",
              "      buttonEl.onclick = () => {\n",
              "        google.colab.notebook.generateWithVariable('df');\n",
              "      }\n",
              "      })();\n",
              "    </script>\n",
              "  </div>\n",
              "\n",
              "    </div>\n",
              "  </div>\n"
            ],
            "application/vnd.google.colaboratory.intrinsic+json": {
              "type": "dataframe",
              "variable_name": "df",
              "summary": "{\n  \"name\": \"df\",\n  \"rows\": 5,\n  \"fields\": [\n    {\n      \"column\": \"Precipita\\u00e7\\u00e3o\",\n      \"properties\": {\n        \"dtype\": \"number\",\n        \"std\": 19.91928713583897,\n        \"min\": 88.9,\n        \"max\": 139.7,\n        \"num_unique_values\": 5,\n        \"samples\": [\n          108.5,\n          127.0,\n          104.1\n        ],\n        \"semantic_type\": \"\",\n        \"description\": \"\"\n      }\n    },\n    {\n      \"column\": \"Escoamento\",\n      \"properties\": {\n        \"dtype\": \"number\",\n        \"std\": 3.526045944113604,\n        \"min\": 14.6,\n        \"max\": 23.2,\n        \"num_unique_values\": 5,\n        \"samples\": [\n          16.7,\n          19.5,\n          15.3\n        ],\n        \"semantic_type\": \"\",\n        \"description\": \"\"\n      }\n    }\n  ]\n}"
            }
          },
          "metadata": {},
          "execution_count": 3
        }
      ],
      "source": [
        "v1 = [88.9, 108.5, 104.1, 139.7, 127]\n",
        "v2 = [14.6, 16.7, 15.3, 23.2, 19.5]\n",
        "dados = {'Precipitação': v1, 'Escoamento': v2}\n",
        "df = pd.DataFrame(dados)\n",
        "df"
      ]
    },
    {
      "cell_type": "markdown",
      "id": "e267e360-8df4-4571-a64e-161b6104e415",
      "metadata": {
        "id": "e267e360-8df4-4571-a64e-161b6104e415"
      },
      "source": [
        "## Pré-Analise dos dados"
      ]
    },
    {
      "cell_type": "code",
      "execution_count": 4,
      "id": "321f9c74-0c1a-4e8e-9423-1169c8bb4593",
      "metadata": {
        "id": "321f9c74-0c1a-4e8e-9423-1169c8bb4593",
        "outputId": "acde6e6a-a71c-4ab2-84de-e1562ec6d37d",
        "colab": {
          "base_uri": "https://localhost:8080/"
        }
      },
      "outputs": [
        {
          "output_type": "stream",
          "name": "stdout",
          "text": [
            "       Precipitação  Escoamento\n",
            "count      5.000000    5.000000\n",
            "mean     113.640000   17.860000\n",
            "std       19.919287    3.526046\n",
            "min       88.900000   14.600000\n",
            "25%      104.100000   15.300000\n",
            "50%      108.500000   16.700000\n",
            "75%      127.000000   19.500000\n",
            "max      139.700000   23.200000\n"
          ]
        }
      ],
      "source": [
        "v1 = [88.9, 108.5, 104.1, 139.7, 127]\n",
        "v2 = [14.6, 16.7, 15.3, 23.2, 19.5]\n",
        "\n",
        "dados = {'Precipitação': v1, 'Escoamento': v2}\n",
        "df = pd.DataFrame(dados)\n",
        "\n",
        "descricao = df.describe()\n",
        "print(descricao)\n"
      ]
    },
    {
      "cell_type": "markdown",
      "id": "7b0e1309-e0ff-4842-a4c3-ee9972aaeae8",
      "metadata": {
        "id": "7b0e1309-e0ff-4842-a4c3-ee9972aaeae8"
      },
      "source": [
        "## Seleção das variveis"
      ]
    },
    {
      "cell_type": "code",
      "execution_count": 5,
      "id": "8cdb3e4e-0f55-43ab-a208-f904cb50e015",
      "metadata": {
        "id": "8cdb3e4e-0f55-43ab-a208-f904cb50e015",
        "outputId": "443d252b-3f4a-4364-b7ba-6301f0137401",
        "colab": {
          "base_uri": "https://localhost:8080/"
        }
      },
      "outputs": [
        {
          "output_type": "stream",
          "name": "stdout",
          "text": [
            "Variável Precipitação:\n",
            "0     88.9\n",
            "1    108.5\n",
            "2    104.1\n",
            "3    139.7\n",
            "4    127.0\n",
            "Name: Precipitação, dtype: float64\n",
            "\n",
            "Variável Escoamento:\n",
            "0    14.6\n",
            "1    16.7\n",
            "2    15.3\n",
            "3    23.2\n",
            "4    19.5\n",
            "Name: Escoamento, dtype: float64\n"
          ]
        }
      ],
      "source": [
        "precipitacao = df['Precipitação']\n",
        "print(\"Variável Precipitação:\")\n",
        "print(precipitacao)\n",
        "\n",
        "escoamento = df['Escoamento']\n",
        "print(\"\\nVariável Escoamento:\")\n",
        "print(escoamento)\n"
      ]
    },
    {
      "cell_type": "markdown",
      "id": "946834ae-164f-4060-a6c8-ccd754dff5e2",
      "metadata": {
        "id": "946834ae-164f-4060-a6c8-ccd754dff5e2"
      },
      "source": [
        "## Divisão - Treino e Teste"
      ]
    },
    {
      "cell_type": "code",
      "execution_count": 6,
      "id": "63584b4a-9565-4353-9c8b-0877674c0c16",
      "metadata": {
        "id": "63584b4a-9565-4353-9c8b-0877674c0c16",
        "outputId": "58a2de6a-0a29-4dfb-e2c6-88c9da037849",
        "colab": {
          "base_uri": "https://localhost:8080/"
        }
      },
      "outputs": [
        {
          "output_type": "stream",
          "name": "stdout",
          "text": [
            "Shape do conjunto de treinamento de entrada (X_train): (4, 1)\n",
            "Shape do conjunto de teste de entrada (X_test): (1, 1)\n",
            "Shape do conjunto de treinamento do alvo (y_train): (4,)\n",
            "Shape do conjunto de teste do alvo (y_test): (1,)\n"
          ]
        }
      ],
      "source": [
        "from sklearn.model_selection import train_test_split\n",
        "\n",
        "X = df[['Precipitação']]\n",
        "y = df['Escoamento']\n",
        "\n",
        "X_train, X_test, y_train, y_test = train_test_split(X, y, test_size=0.2, random_state=42)\n",
        "\n",
        "print(\"Shape do conjunto de treinamento de entrada (X_train):\", X_train.shape)\n",
        "print(\"Shape do conjunto de teste de entrada (X_test):\", X_test.shape)\n",
        "print(\"Shape do conjunto de treinamento do alvo (y_train):\", y_train.shape)\n",
        "print(\"Shape do conjunto de teste do alvo (y_test):\", y_test.shape)\n"
      ]
    },
    {
      "cell_type": "markdown",
      "id": "d2b7125c-6ecf-4b8b-8b23-76ea839264a7",
      "metadata": {
        "id": "d2b7125c-6ecf-4b8b-8b23-76ea839264a7"
      },
      "source": [
        "## Seleção do modelo --> Regressão Linear"
      ]
    },
    {
      "cell_type": "code",
      "execution_count": 7,
      "id": "d02bcad7-4036-4a73-8ad1-b80fae1fe868",
      "metadata": {
        "id": "d02bcad7-4036-4a73-8ad1-b80fae1fe868",
        "outputId": "7455ac23-b117-4dc9-c063-a963c4e6acea",
        "colab": {
          "base_uri": "https://localhost:8080/"
        }
      },
      "outputs": [
        {
          "output_type": "stream",
          "name": "stdout",
          "text": [
            "Erro Quadrático Médio (MSE): 0.12662760278046092\n",
            "Coeficiente de Determinação (R²): nan\n"
          ]
        },
        {
          "output_type": "stream",
          "name": "stderr",
          "text": [
            "/usr/local/lib/python3.10/dist-packages/sklearn/metrics/_regression.py:918: UndefinedMetricWarning: R^2 score is not well-defined with less than two samples.\n",
            "  warnings.warn(msg, UndefinedMetricWarning)\n"
          ]
        }
      ],
      "source": [
        "from sklearn.linear_model import LinearRegression\n",
        "from sklearn.metrics import mean_squared_error, r2_score\n",
        "\n",
        "modelo_regressao = LinearRegression()\n",
        "\n",
        "modelo_regressao.fit(X_train, y_train)\n",
        "\n",
        "y_pred = modelo_regressao.predict(X_test)\n",
        "\n",
        "mse = mean_squared_error(y_test, y_pred)\n",
        "r2 = r2_score(y_test, y_pred)\n",
        "\n",
        "print(\"Erro Quadrático Médio (MSE):\", mse)\n",
        "print(\"Coeficiente de Determinação (R²):\", r2)\n"
      ]
    },
    {
      "cell_type": "markdown",
      "id": "8103c698-61f9-4822-96b8-330323869e54",
      "metadata": {
        "id": "8103c698-61f9-4822-96b8-330323869e54"
      },
      "source": [
        "## Treinamento do modelo"
      ]
    },
    {
      "cell_type": "code",
      "execution_count": 8,
      "id": "3269b7ac-1e86-4fdf-a2aa-e5d830bb8141",
      "metadata": {
        "id": "3269b7ac-1e86-4fdf-a2aa-e5d830bb8141",
        "outputId": "867b73bc-9f4f-455b-b43e-21827907f57b",
        "colab": {
          "base_uri": "https://localhost:8080/"
        }
      },
      "outputs": [
        {
          "output_type": "stream",
          "name": "stdout",
          "text": [
            "Erro Quadrático Médio (MSE): 0.6158973430986581\n",
            "Coeficiente de Determinação (R²): 0.9380783657304493\n"
          ]
        }
      ],
      "source": [
        "from sklearn.linear_model import LinearRegression\n",
        "from sklearn.metrics import mean_squared_error, r2_score\n",
        "\n",
        "modelo_regressao = LinearRegression()\n",
        "\n",
        "modelo_regressao.fit(X, y)\n",
        "\n",
        "y_pred = modelo_regressao.predict(X)\n",
        "\n",
        "mse = mean_squared_error(y, y_pred)\n",
        "r2 = r2_score(y, y_pred)\n",
        "\n",
        "print(\"Erro Quadrático Médio (MSE):\", mse)\n",
        "print(\"Coeficiente de Determinação (R²):\", r2)\n"
      ]
    },
    {
      "cell_type": "markdown",
      "id": "04b9961b-0801-44f7-bb05-7b20cf44e409",
      "metadata": {
        "id": "04b9961b-0801-44f7-bb05-7b20cf44e409"
      },
      "source": [
        "## Metricas do modelo"
      ]
    },
    {
      "cell_type": "code",
      "execution_count": 9,
      "id": "95865d45-278e-4ebd-95ea-d2f81ad0b5c2",
      "metadata": {
        "id": "95865d45-278e-4ebd-95ea-d2f81ad0b5c2",
        "outputId": "192247b2-e62b-4cfe-b5fc-321e8dd63c57",
        "colab": {
          "base_uri": "https://localhost:8080/"
        }
      },
      "outputs": [
        {
          "output_type": "stream",
          "name": "stdout",
          "text": [
            "Erro Quadrático Médio (MSE): 0.6158973430986581\n",
            "Raiz do Erro Quadrático Médio (RMSE): 0.7847912735872247\n",
            "Coeficiente de Determinação (R²): 0.9380783657304493\n"
          ]
        }
      ],
      "source": [
        "from math import sqrt\n",
        "\n",
        "mse = mean_squared_error(y, y_pred)\n",
        "\n",
        "rmse = sqrt(mse)\n",
        "\n",
        "r2 = r2_score(y, y_pred)\n",
        "\n",
        "print(\"Erro Quadrático Médio (MSE):\", mse)\n",
        "print(\"Raiz do Erro Quadrático Médio (RMSE):\", rmse)\n",
        "print(\"Coeficiente de Determinação (R²):\", r2)\n"
      ]
    },
    {
      "cell_type": "markdown",
      "id": "b48f4a1b-21ba-4d10-a728-167fb7753be6",
      "metadata": {
        "id": "b48f4a1b-21ba-4d10-a728-167fb7753be6"
      },
      "source": [
        "## Previsão dos novos dados"
      ]
    },
    {
      "cell_type": "code",
      "execution_count": 10,
      "id": "928bab2a-3079-4a3f-898a-fd6aa8b64540",
      "metadata": {
        "id": "928bab2a-3079-4a3f-898a-fd6aa8b64540",
        "outputId": "f81a6f31-3fbf-4aa8-c6e6-3eac3fd192ac",
        "colab": {
          "base_uri": "https://localhost:8080/"
        }
      },
      "outputs": [
        {
          "output_type": "stream",
          "name": "stdout",
          "text": [
            "Previsões de Escoamento:\n",
            "Para a precipitação 110.0, a previsão de escoamento é 17.235927395168076\n",
            "Para a precipitação 120.0, a previsão de escoamento é 18.950412573277752\n",
            "Para a precipitação 130.0, a previsão de escoamento é 20.664897751387425\n"
          ]
        },
        {
          "output_type": "stream",
          "name": "stderr",
          "text": [
            "/usr/local/lib/python3.10/dist-packages/sklearn/base.py:439: UserWarning: X does not have valid feature names, but LinearRegression was fitted with feature names\n",
            "  warnings.warn(\n"
          ]
        }
      ],
      "source": [
        "novos_dados_precipitacao = [[110.0], [120.0], [130.0]]\n",
        "\n",
        "previsoes_escoamento = modelo_regressao.predict(novos_dados_precipitacao)\n",
        "\n",
        "print(\"Previsões de Escoamento:\")\n",
        "for i, previsao in enumerate(previsoes_escoamento):\n",
        "    print(f\"Para a precipitação {novos_dados_precipitacao[i][0]}, a previsão de escoamento é {previsao}\")\n"
      ]
    },
    {
      "cell_type": "markdown",
      "source": [
        "### A) Calcula através do método de regressão linear a função que melhor ajusta aos dados"
      ],
      "metadata": {
        "id": "cLdY7a4rD7Ai"
      },
      "id": "cLdY7a4rD7Ai"
    },
    {
      "cell_type": "code",
      "source": [
        "import numpy as np\n",
        "from sklearn.linear_model import LinearRegression\n",
        "\n",
        "precipitacao = np.array([55.5, 66.4, 22.1, 1]).reshape(-1, 1)  # Convertendo para matriz coluna\n",
        "escoamento = np.array([110.0, 120.0, 130.0, 140.0])\n",
        "\n",
        "modelo_regressao = LinearRegression()\n",
        "modelo_regressao.fit(precipitacao, escoamento)\n",
        "\n",
        "coeficiente_angular = modelo_regressao.coef_[0]\n",
        "intercepto = modelo_regressao.intercept_\n",
        "\n",
        "print(\"Coeficiente Angular:\", coeficiente_angular)\n",
        "print(\"Intercepto:\", intercepto)\n"
      ],
      "metadata": {
        "id": "NgXZLwHTD-x6",
        "outputId": "ca0557bf-b632-44d4-88e1-f970d6dfe079",
        "colab": {
          "base_uri": "https://localhost:8080/"
        }
      },
      "id": "NgXZLwHTD-x6",
      "execution_count": 11,
      "outputs": [
        {
          "output_type": "stream",
          "name": "stdout",
          "text": [
            "Coeficiente Angular: -0.3816527510955527\n",
            "Intercepto: 138.83491222721378\n"
          ]
        }
      ]
    },
    {
      "cell_type": "markdown",
      "source": [
        "## b) Determinando o coeficiente de correlação dos dados:\n"
      ],
      "metadata": {
        "id": "2Eq9MiTzEKtV"
      },
      "id": "2Eq9MiTzEKtV"
    },
    {
      "cell_type": "code",
      "source": [
        "coeficiente_correlacao = np.corrcoef(precipitacao.flatten(), escoamento)[0, 1]\n",
        "print(\"Coeficiente de Correlação:\", coeficiente_correlacao)\n"
      ],
      "metadata": {
        "id": "7aAqCEk_EJ1t",
        "outputId": "5d1bc92c-46bf-4a5a-eb25-34c5544e431f",
        "colab": {
          "base_uri": "https://localhost:8080/"
        }
      },
      "id": "7aAqCEk_EJ1t",
      "execution_count": 12,
      "outputs": [
        {
          "output_type": "stream",
          "name": "stdout",
          "text": [
            "Coeficiente de Correlação: -0.8905472569024953\n"
          ]
        }
      ]
    },
    {
      "cell_type": "markdown",
      "source": [
        "## c) Utilize a função da reta para prever o escoamento se a precipitação for de (cm)"
      ],
      "metadata": {
        "id": "qCBFuIAJEPj3"
      },
      "id": "qCBFuIAJEPj3"
    },
    {
      "cell_type": "code",
      "source": [
        "precipitacao_previsao = np.array([[55.5], [66.4], [22.1], [1]])\n",
        "\n",
        "previsao_escoamento = modelo_regressao.predict(precipitacao_previsao)\n",
        "\n",
        "for i, prec in enumerate(precipitacao_previsao):\n",
        "    print(f\"Para uma precipitação de {prec[0]} cm/ano, a previsão de escoamento é {previsao_escoamento[i]} m3/s\")\n"
      ],
      "metadata": {
        "id": "xthZjkWREPPu",
        "outputId": "9806f273-e57e-4d2d-faf2-34ba183a7959",
        "colab": {
          "base_uri": "https://localhost:8080/"
        }
      },
      "id": "xthZjkWREPPu",
      "execution_count": 13,
      "outputs": [
        {
          "output_type": "stream",
          "name": "stdout",
          "text": [
            "Para uma precipitação de 55.5 cm/ano, a previsão de escoamento é 117.65318454141061 m3/s\n",
            "Para uma precipitação de 66.4 cm/ano, a previsão de escoamento é 113.49316955446908 m3/s\n",
            "Para uma precipitação de 22.1 cm/ano, a previsão de escoamento é 130.40038642800207 m3/s\n",
            "Para uma precipitação de 1.0 cm/ano, a previsão de escoamento é 138.45325947611823 m3/s\n"
          ]
        }
      ]
    },
    {
      "cell_type": "markdown",
      "source": [
        "## d) Fazendo uma estimativa de escoamento para 140 cm/ano:\n"
      ],
      "metadata": {
        "id": "uEzFKXwaEvqk"
      },
      "id": "uEzFKXwaEvqk"
    },
    {
      "cell_type": "code",
      "source": [
        "estimativa_escoamento = modelo_regressao.predict([[140]])\n",
        "print(\"Estimativa de Escoamento para 140 cm/ano de Precipitação:\", estimativa_escoamento[0])\n"
      ],
      "metadata": {
        "id": "lmn5ZLF3Ey0p",
        "outputId": "5c75fc8c-b8fc-4c26-f6a7-ae1b5d427f2c",
        "colab": {
          "base_uri": "https://localhost:8080/"
        }
      },
      "id": "lmn5ZLF3Ey0p",
      "execution_count": 14,
      "outputs": [
        {
          "output_type": "stream",
          "name": "stdout",
          "text": [
            "Estimativa de Escoamento para 140 cm/ano de Precipitação: 85.4035270738364\n"
          ]
        }
      ]
    },
    {
      "cell_type": "markdown",
      "id": "fa39c90c",
      "metadata": {
        "tags": [],
        "id": "fa39c90c"
      },
      "source": [
        "# QUESTÃO 02"
      ]
    },
    {
      "cell_type": "markdown",
      "id": "daa1d8be-4aa5-4b01-9723-6f9490cdaf2b",
      "metadata": {
        "id": "daa1d8be-4aa5-4b01-9723-6f9490cdaf2b"
      },
      "source": [
        " É esperado que a massa muscular de uma pessoa diminua com a idade. Para estudar essa relação, uma nutricionista selecionou 18 mulheres, com idade entre 40 e 79 anos, e observou em cada uma delas a idade (X) e a massa muscular (Y)."
      ]
    },
    {
      "cell_type": "markdown",
      "id": "679960fb-b89f-4a51-a87b-7c064ad1164c",
      "metadata": {
        "id": "679960fb-b89f-4a51-a87b-7c064ad1164c"
      },
      "source": [
        "- a. Construa o diagrama de dispersão e interprete-o.\n",
        "\n",
        "- b. Calcule o coeficiente de correlação linear entre X e Y.\n",
        "\n",
        "- c. Ajuste uma reta de regressão para a relação entre as variáveis Y: massa muscular (dependente) e X: idade (independente).\n",
        "\n",
        "- d. Considerando a reta estimada dada no item (c), estime a massa muscular média de mulheres com 50 anos."
      ]
    },
    {
      "cell_type": "code",
      "execution_count": 15,
      "id": "95032418",
      "metadata": {
        "id": "95032418"
      },
      "outputs": [],
      "source": [
        "# Dados de fornecidos e formatando para formato adequado.\n",
        "\n",
        "X = np.array([71,64,43,67,56,73,68,56,76,65,45,58,45,53,49,78,73,68]).reshape(-1, 1)\n",
        "Y = np.array([82,91,100,68,87,73,78,80,65,84,116, 76,97,100,105,77, 73,78]).reshape(-1, 1)"
      ]
    },
    {
      "cell_type": "code",
      "source": [
        "from sklearn.linear_model import LinearRegression\n",
        "import matplotlib.pyplot as plt\n",
        "\n",
        "plt.scatter(X, Y)\n",
        "plt.title('Diagrama de Dispersão')\n",
        "plt.xlabel('Idade')\n",
        "plt.ylabel('Massa Muscular')\n",
        "plt.show()\n",
        "\n",
        "correlation_matrix = np.corrcoef(X.reshape(-1), Y.reshape(-1))\n",
        "correlation_coef = correlation_matrix[0, 1]\n",
        "print(\"Coeficiente de Correlação Linear:\", correlation_coef)\n",
        "\n",
        "model = LinearRegression().fit(X, Y)\n",
        "slope = model.coef_[0]\n",
        "intercept = model.intercept_\n",
        "print(\"Reta de regressão: Y =\", slope[0], \"X +\", intercept[0])\n",
        "\n",
        "age_50 = np.array([[50]])\n",
        "predicted_mass_50 = model.predict(age_50)\n",
        "print(\"Massa muscular média para mulheres com 50 anos:\", predicted_mass_50[0][0])\n"
      ],
      "metadata": {
        "id": "3i4LvRhIMgNO",
        "outputId": "8b05674f-3e4d-41ea-fc9a-cb9de4be520b",
        "colab": {
          "base_uri": "https://localhost:8080/",
          "height": 524
        }
      },
      "id": "3i4LvRhIMgNO",
      "execution_count": 16,
      "outputs": [
        {
          "output_type": "display_data",
          "data": {
            "text/plain": [
              "<Figure size 640x480 with 1 Axes>"
            ],
            "image/png": "[encoded data removed]"
          },
          "metadata": {}
        },
        {
          "output_type": "stream",
          "name": "stdout",
          "text": [
            "Coeficiente de Correlação Linear: -0.8366766292645965\n",
            "Reta de regressão: Y = -1.0266652939359624 X + 148.1969525378359\n",
            "Massa muscular média para mulheres com 50 anos: 96.86368784103777\n"
          ]
        }
      ]
    },
    {
      "cell_type": "markdown",
      "id": "344043f2",
      "metadata": {
        "tags": [],
        "id": "344043f2"
      },
      "source": [
        "# QUESTÃO 03"
      ]
    },
    {
      "cell_type": "markdown",
      "id": "28b36d2b-394f-4d0e-88eb-16d26e544e4a",
      "metadata": {
        "id": "28b36d2b-394f-4d0e-88eb-16d26e544e4a"
      },
      "source": [
        "Os dados abaixo correspondem às variáveis renda familiar e gasto com alimentação numa amostra de dez famílias, representadas em salários mínimos.\n",
        "\n",
        "(a)\n",
        "Qual a previsão do gasto com alimentação para uma família com renda de 170 reais?\n",
        "\n",
        "(b)\n",
        "Qual a previsão do gasto para famílias com excepcional renda, por exemplo 1.000 reais? Você acha esse valor razoável? Por quê?\n"
      ]
    },
    {
      "cell_type": "code",
      "execution_count": 17,
      "id": "ac9b1858",
      "metadata": {
        "id": "ac9b1858"
      },
      "outputs": [],
      "source": [
        "# Dados de fornecidos e formatando para formato adequado.\n",
        "\n",
        "Renda = np.array([3,5,10,20,30,50,70,100,150,200]).reshape(-1, 1)\n",
        "Gasto = np.array([1.5,2.0,6.0,10.0,15.0,20.0,25.0,40.0,60.0,80.0]).reshape(-1, 1)"
      ]
    },
    {
      "cell_type": "code",
      "source": [
        "model = LinearRegression().fit(Renda, Gasto)\n",
        "\n",
        "renda_170 = np.array([[170]])\n",
        "previsao_170 = model.predict(renda_170)\n",
        "print(\"Previsão do gasto com alimentação para uma família com renda de 170 reais:\", previsao_170[0][0])\n",
        "\n",
        "renda_1000 = np.array([[1000]])\n",
        "previsao_1000 = model.predict(renda_1000)\n",
        "print(\"Previsão do gasto para famílias com renda excepcional de 1000 reais:\", previsao_1000[0][0])\n"
      ],
      "metadata": {
        "id": "Kaal2faTMiZY",
        "outputId": "e579672d-6e92-470a-e5de-9e4f890c496f",
        "colab": {
          "base_uri": "https://localhost:8080/"
        }
      },
      "id": "Kaal2faTMiZY",
      "execution_count": 18,
      "outputs": [
        {
          "output_type": "stream",
          "name": "stdout",
          "text": [
            "Previsão do gasto com alimentação para uma família com renda de 170 reais: 67.55843522948787\n",
            "Previsão do gasto para famílias com renda excepcional de 1000 reais: 392.7467708271802\n"
          ]
        }
      ]
    }
  ],
  "metadata": {
    "kernelspec": {
      "display_name": "Python 3 (ipykernel)",
      "language": "python",
      "name": "python3"
    },
    "language_info": {
      "codemirror_mode": {
        "name": "ipython",
        "version": 3
      },
      "file_extension": ".py",
      "mimetype": "text/x-python",
      "name": "python",
      "nbconvert_exporter": "python",
      "pygments_lexer": "ipython3",
      "version": "3.11.2"
    },
    "colab": {
      "provenance": [],
      "include_colab_link": true
    }
  },
  "nbformat": 4,
  "nbformat_minor": 5
}