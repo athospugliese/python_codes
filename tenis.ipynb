{
  "nbformat": 4,
  "nbformat_minor": 0,
  "metadata": {
    "colab": {
      "provenance": [],
      "gpuType": "T4",
      "authorship_tag": "ABX9TyOJRHc/ObrF8lOiwwRsSc7H",
      "include_colab_link": true
    },
    "kernelspec": {
      "name": "python3",
      "display_name": "Python 3"
    },
    "language_info": {
      "name": "python"
    },
    "accelerator": "GPU"
  },
  "cells": [
    {
      "cell_type": "markdown",
      "metadata": {
        "id": "view-in-github",
        "colab_type": "text"
      },
      "source": [
        "<a href=\"https://colab.research.google.com/github/athospugliesedev/python_codes/blob/main/tenis.ipynb\" target=\"_parent\"><img src=\"https://colab.research.google.com/assets/colab-badge.svg\" alt=\"Open In Colab\"/></a>"
      ]
    },
    {
      "cell_type": "code",
      "source": [
        "import pandas as pd\n",
        "import numpy as np\n",
        "from sklearn.model_selection import train_test_split\n",
        "from sklearn.preprocessing import StandardScaler\n",
        "from sklearn.metrics import accuracy_score\n",
        "import tensorflow as tf\n",
        "from tensorflow import keras\n",
        "from tensorflow.keras import layers\n",
        "\n",
        "# Carregar o dataset sem nomes de colunas\n",
        "data = pd.read_csv(\"play_tenis.csv\", header=None, names=[\"coluna1\", \"coluna2\", \"coluna3\", \"target_column\"])\n",
        "\n",
        "# Dividir os dados em recursos (X) e rótulos (y)\n",
        "X = data.drop(\"target_column\", axis=1)\n",
        "y = data[\"target_column\"]\n",
        "\n",
        "# Dividir os dados em conjuntos de treinamento e teste\n",
        "X_train, X_test, y_train, y_test = train_test_split(X, y, test_size=0.2, random_state=42)\n",
        "\n",
        "# Padronizar os dados (opcional, mas geralmente recomendado)\n",
        "scaler = StandardScaler()\n",
        "X_train = scaler.fit_transform(X_train)\n",
        "X_test = scaler.transform(X_test)\n",
        "\n",
        "# Configurações de modelos MLP\n",
        "hidden_layers = [1, 5, 7, 10]\n",
        "neurons_per_layer = [25, 50, 100, 200, 500]\n",
        "\n",
        "results = []\n",
        "\n",
        "for num_layers in hidden_layers:\n",
        "    for num_neurons in neurons_per_layer:\n",
        "        model = keras.Sequential()\n",
        "        model.add(layers.InputLayer(input_shape=(X_train.shape[1])))\n",
        "\n",
        "        for _ in range(num_layers):\n",
        "            model.add(layers.Dense(num_neurons, activation='relu'))\n",
        "\n",
        "        model.add(layers.Dense(1, activation='sigmoid'))\n",
        "\n",
        "        gd = tf.compat.v1.train.GradientDescentOptimizer(0.01)\n",
        "\n",
        "        model.compile(optimizer=gd, loss='mse')\n",
        "\n",
        "        batch_size = 32  # Escolha um tamanho de lote adequado\n",
        "        train_dataset = tf.data.Dataset.from_tensor_slices((X_train, y_train))\n",
        "        train_dataset = train_dataset.shuffle(buffer_size=1000).batch(batch_size)\n",
        "\n",
        "        model.fit(train_dataset, epochs=1000, verbose=0)\n",
        "\n",
        "        y_pred = (model.predict(X_test) > 0.5).astype(int)\n",
        "        accuracy = accuracy_score(y_test, y_pred)\n",
        "\n",
        "        results.append((num_layers, num_neurons, accuracy))\n",
        "\n",
        "        # Salve o modelo em formato JSON\n",
        "        model_json = model.to_json()\n",
        "        with open(f'model_{num_layers}_{num_neurons}.json', 'w') as json_file:\n",
        "            json_file.write(model_json)\n",
        "\n",
        "        # Salve os pesos do modelo em um arquivo separado\n",
        "        model.save_weights(f'model_{num_layers}_{num_neurons}_weights.h5')\n",
        "\n",
        "# Escreva um mini relatório com as observações dos resultados\n",
        "for num_layers, num_neurons, accuracy in results:\n",
        "    print(f\"Camadas Escondidas: {num_layers}, Neurônios por Camada: {num_neurons}, Acurácia: {accuracy}\")\n"
      ],
      "metadata": {
        "colab": {
          "base_uri": "https://localhost:8080/"
        },
        "id": "bCJW9_zlLxwd",
        "outputId": "ec40c0fc-6ca9-4de3-8550-b3b33402686d"
      },
      "execution_count": null,
      "outputs": [
        {
          "output_type": "stream",
          "name": "stdout",
          "text": [
            "1/1 [==============================] - 0s 42ms/step\n",
            "1/1 [==============================] - 0s 257ms/step\n",
            "1/1 [==============================] - 0s 41ms/step\n",
            "1/1 [==============================] - 0s 42ms/step\n",
            "1/1 [==============================] - 0s 41ms/step\n",
            "1/1 [==============================] - 0s 64ms/step\n",
            "1/1 [==============================] - 0s 64ms/step\n",
            "1/1 [==============================] - 0s 72ms/step\n",
            "1/1 [==============================] - 0s 65ms/step\n",
            "1/1 [==============================] - 0s 72ms/step\n",
            "1/1 [==============================] - 0s 86ms/step\n",
            "1/1 [==============================] - 0s 78ms/step\n",
            "1/1 [==============================] - 0s 103ms/step\n",
            "1/1 [==============================] - 0s 75ms/step\n",
            "1/1 [==============================] - 0s 112ms/step\n",
            "1/1 [==============================] - 0s 92ms/step\n",
            "1/1 [==============================] - 0s 93ms/step\n",
            "1/1 [==============================] - 0s 93ms/step\n",
            "1/1 [==============================] - 0s 92ms/step\n",
            "1/1 [==============================] - 0s 94ms/step\n",
            "Camadas Escondidas: 1, Neurônios por Camada: 25, Acurácia: 0.6666666666666666\n",
            "Camadas Escondidas: 1, Neurônios por Camada: 50, Acurácia: 0.6666666666666666\n",
            "Camadas Escondidas: 1, Neurônios por Camada: 100, Acurácia: 0.6666666666666666\n",
            "Camadas Escondidas: 1, Neurônios por Camada: 200, Acurácia: 0.6666666666666666\n",
            "Camadas Escondidas: 1, Neurônios por Camada: 500, Acurácia: 0.6666666666666666\n",
            "Camadas Escondidas: 5, Neurônios por Camada: 25, Acurácia: 0.3333333333333333\n",
            "Camadas Escondidas: 5, Neurônios por Camada: 50, Acurácia: 0.6666666666666666\n",
            "Camadas Escondidas: 5, Neurônios por Camada: 100, Acurácia: 0.6666666666666666\n",
            "Camadas Escondidas: 5, Neurônios por Camada: 200, Acurácia: 0.6666666666666666\n",
            "Camadas Escondidas: 5, Neurônios por Camada: 500, Acurácia: 0.6666666666666666\n",
            "Camadas Escondidas: 7, Neurônios por Camada: 25, Acurácia: 0.6666666666666666\n",
            "Camadas Escondidas: 7, Neurônios por Camada: 50, Acurácia: 0.6666666666666666\n",
            "Camadas Escondidas: 7, Neurônios por Camada: 100, Acurácia: 0.6666666666666666\n",
            "Camadas Escondidas: 7, Neurônios por Camada: 200, Acurácia: 0.6666666666666666\n",
            "Camadas Escondidas: 7, Neurônios por Camada: 500, Acurácia: 0.6666666666666666\n",
            "Camadas Escondidas: 10, Neurônios por Camada: 25, Acurácia: 0.6666666666666666\n",
            "Camadas Escondidas: 10, Neurônios por Camada: 50, Acurácia: 0.6666666666666666\n",
            "Camadas Escondidas: 10, Neurônios por Camada: 100, Acurácia: 0.6666666666666666\n",
            "Camadas Escondidas: 10, Neurônios por Camada: 200, Acurácia: 0.6666666666666666\n",
            "Camadas Escondidas: 10, Neurônios por Camada: 500, Acurácia: 0.6666666666666666\n"
          ]
        }
      ]
    }
  ]
}