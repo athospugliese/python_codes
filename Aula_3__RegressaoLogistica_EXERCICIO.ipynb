{
  "cells": [
    {
      "cell_type": "markdown",
      "metadata": {
        "id": "view-in-github",
        "colab_type": "text"
      },
      "source": [
        "<a href=\"https://colab.research.google.com/github/athospugliese/python_codes/blob/main/Aula_3__RegressaoLogistica_EXERCICIO.ipynb\" target=\"_parent\"><img src=\"https://colab.research.google.com/assets/colab-badge.svg\" alt=\"Open In Colab\"/></a>"
      ]
    },
    {
      "cell_type": "markdown",
      "metadata": {
        "id": "80CF3Eq9EXDW"
      },
      "source": [
        "\n",
        "<img src=\"https://portal.unicap.br/image/layout_set_logo?img_id=2214787&t=1657846438895\" width=300, align=\"right\">\n",
        "<!-- <h1 align=left><font size = 6, style=\"color:rgb(200,0,0)\"> optional title </font></h1> -->\n"
      ]
    },
    {
      "cell_type": "markdown",
      "metadata": {
        "id": "g1Hap25KEXDX"
      },
      "source": [
        "# **3. Classificação: Regressão Logística**\n",
        "---\n",
        "\n",
        "Após fazer os exercícios deste laboratório responda ao **questionário correspondente da aula no Moodle**.\n",
        "\n"
      ]
    },
    {
      "cell_type": "markdown",
      "metadata": {
        "id": "9898hEksOPD_"
      },
      "source": [
        "## Relembrando aqui...\n",
        "\n",
        "Abaixo você pode rever o esquema geral de aplicação do modelo logístico."
      ]
    },
    {
      "cell_type": "code",
      "execution_count": null,
      "metadata": {
        "id": "9_7mcJXbFnyU"
      },
      "outputs": [],
      "source": [
        "%%script false\n",
        "from sklearn.model_selection import train_test_split\n",
        "from sklearn.linear_model import LogisticRegression\n",
        "\n",
        "# separando variável dependente e independentes\n",
        "x = df.drop('y',axis=1)\n",
        "y = df['y']\n",
        "\n",
        "# separando conjuntos de treinamento e teste\n",
        "X_train, X_test, y_train, y_test = train_test_split(x, y, test_size=0.3, stratify=y, random_state=1)\n",
        "\n",
        "# selecionando o modelo\n",
        "clf = LogisticRegression()\n",
        "\n",
        "# treinando o modelo\n",
        "clf.fit(X_train,y_train)\n",
        "\n",
        "# utilizando o modelo\n",
        "y_pred = clf.predict(X_test)\n",
        "\n",
        "# verificando o resultado\n",
        "print( clf.score(X_test,y_test) )"
      ]
    },
    {
      "cell_type": "markdown",
      "metadata": {
        "_uuid": "9dd9e07c590ca22f0c525222f60f0ebff4e092c6",
        "id": "SLTshJXLA4LT"
      },
      "source": [
        "# Caso: **Consumo de combustível em veículos**\n",
        "\n",
        "Neste Lab você vai empregar o modelo de Regressão Logística para classificar a origem de veículos a partir de dados de consumo de combustível em veículos (milhas por galão, mpg) e outras informações.\n",
        "\n",
        "Dados (originais): https://archive.ics.uci.edu/ml/datasets/auto+mpg"
      ]
    },
    {
      "cell_type": "markdown",
      "metadata": {
        "id": "ufen9jyZN7Kr"
      },
      "source": [
        "## Seus imports"
      ]
    },
    {
      "cell_type": "code",
      "source": [
        "pip install ucimlrepo"
      ],
      "metadata": {
        "id": "-hL_jIZQLIaA",
        "outputId": "c5d83af9-69f5-48fb-f8ad-31c05d087694",
        "colab": {
          "base_uri": "https://localhost:8080/"
        }
      },
      "execution_count": 1,
      "outputs": [
        {
          "output_type": "stream",
          "name": "stdout",
          "text": [
            "Collecting ucimlrepo\n",
            "  Downloading ucimlrepo-0.0.7-py3-none-any.whl (8.0 kB)\n",
            "Requirement already satisfied: pandas>=1.0.0 in /usr/local/lib/python3.10/dist-packages (from ucimlrepo) (2.0.3)\n",
            "Requirement already satisfied: certifi>=2020.12.5 in /usr/local/lib/python3.10/dist-packages (from ucimlrepo) (2024.2.2)\n",
            "Requirement already satisfied: python-dateutil>=2.8.2 in /usr/local/lib/python3.10/dist-packages (from pandas>=1.0.0->ucimlrepo) (2.8.2)\n",
            "Requirement already satisfied: pytz>=2020.1 in /usr/local/lib/python3.10/dist-packages (from pandas>=1.0.0->ucimlrepo) (2023.4)\n",
            "Requirement already satisfied: tzdata>=2022.1 in /usr/local/lib/python3.10/dist-packages (from pandas>=1.0.0->ucimlrepo) (2024.1)\n",
            "Requirement already satisfied: numpy>=1.21.0 in /usr/local/lib/python3.10/dist-packages (from pandas>=1.0.0->ucimlrepo) (1.25.2)\n",
            "Requirement already satisfied: six>=1.5 in /usr/local/lib/python3.10/dist-packages (from python-dateutil>=2.8.2->pandas>=1.0.0->ucimlrepo) (1.16.0)\n",
            "Installing collected packages: ucimlrepo\n",
            "Successfully installed ucimlrepo-0.0.7\n"
          ]
        }
      ]
    },
    {
      "cell_type": "code",
      "execution_count": 3,
      "metadata": {
        "id": "UPVeFK3a5i6d",
        "outputId": "1f80745a-2d2d-4047-c208-d1215a837b09",
        "colab": {
          "base_uri": "https://localhost:8080/"
        }
      },
      "outputs": [
        {
          "output_type": "stream",
          "name": "stdout",
          "text": [
            "{'uci_id': 9, 'name': 'Auto MPG', 'repository_url': 'https://archive.ics.uci.edu/dataset/9/auto+mpg', 'data_url': 'https://archive.ics.uci.edu/static/public/9/data.csv', 'abstract': 'Revised from CMU StatLib library, data concerns city-cycle fuel consumption', 'area': 'Other', 'tasks': ['Regression'], 'characteristics': ['Multivariate'], 'num_instances': 398, 'num_features': 7, 'feature_types': ['Real', 'Categorical', 'Integer'], 'demographics': [], 'target_col': ['mpg'], 'index_col': ['car_name'], 'has_missing_values': 'yes', 'missing_values_symbol': 'NaN', 'year_of_dataset_creation': 1993, 'last_updated': 'Thu Aug 10 2023', 'dataset_doi': '10.24432/C5859H', 'creators': ['R. Quinlan'], 'intro_paper': None, 'additional_info': {'summary': 'This dataset is a slightly modified version of the dataset provided in the StatLib library.  In line with the use by Ross Quinlan (1993) in predicting the attribute \"mpg\", 8 of the original instances were removed because they had unknown values for the \"mpg\" attribute.  The original dataset is available in the file \"auto-mpg.data-original\".\\r\\n\\r\\n\"The data concerns city-cycle fuel consumption in miles per gallon, to be predicted in terms of 3 multivalued discrete and 5 continuous attributes.\" (Quinlan, 1993)', 'purpose': None, 'funded_by': None, 'instances_represent': None, 'recommended_data_splits': None, 'sensitive_data': None, 'preprocessing_description': None, 'variable_info': '    1. mpg:           continuous\\r\\n    2. cylinders:     multi-valued discrete\\r\\n    3. displacement:  continuous\\r\\n    4. horsepower:    continuous\\r\\n    5. weight:        continuous\\r\\n    6. acceleration:  continuous\\r\\n    7. model year:    multi-valued discrete\\r\\n    8. origin:        multi-valued discrete\\r\\n    9. car name:      string (unique for each instance)', 'citation': None}}\n",
            "           name     role         type demographic description units  \\\n",
            "0  displacement  Feature   Continuous        None        None  None   \n",
            "1           mpg   Target   Continuous        None        None  None   \n",
            "2     cylinders  Feature      Integer        None        None  None   \n",
            "3    horsepower  Feature   Continuous        None        None  None   \n",
            "4        weight  Feature   Continuous        None        None  None   \n",
            "5  acceleration  Feature   Continuous        None        None  None   \n",
            "6    model_year  Feature      Integer        None        None  None   \n",
            "7        origin  Feature      Integer        None        None  None   \n",
            "8      car_name       ID  Categorical        None        None  None   \n",
            "\n",
            "  missing_values  \n",
            "0             no  \n",
            "1             no  \n",
            "2             no  \n",
            "3            yes  \n",
            "4             no  \n",
            "5             no  \n",
            "6             no  \n",
            "7             no  \n",
            "8             no  \n"
          ]
        }
      ],
      "source": [
        "# seu código\n",
        "\n",
        "from ucimlrepo import fetch_ucirepo\n",
        "import seaborn as sns\n",
        "\n",
        "# fetch dataset\n",
        "mpg = fetch_ucirepo(id=9)\n",
        "\n",
        "# data (as pandas dataframes)\n",
        "X = mpg.data.features\n",
        "y = mpg.data.targets\n",
        "\n",
        "# metadata\n",
        "print(mpg.metadata)\n",
        "\n",
        "# variable information\n",
        "print(mpg.variables)\n"
      ]
    },
    {
      "cell_type": "markdown",
      "metadata": {
        "id": "-xbHxSQ8Px1-"
      },
      "source": [
        "## Load data set"
      ]
    },
    {
      "cell_type": "code",
      "execution_count": 6,
      "metadata": {
        "colab": {
          "base_uri": "https://localhost:8080/"
        },
        "id": "S4n19clB0fvg",
        "outputId": "1355a70f-40de-4d2f-91d3-5a5757750ea7"
      },
      "outputs": [
        {
          "output_type": "stream",
          "name": "stdout",
          "text": [
            "    mpg  cylinders  displacement  horsepower  weight  acceleration  \\\n",
            "0  18.0          8         307.0       130.0    3504          12.0   \n",
            "1  15.0          8         350.0       165.0    3693          11.5   \n",
            "2  18.0          8         318.0       150.0    3436          11.0   \n",
            "3  16.0          8         304.0       150.0    3433          12.0   \n",
            "4  17.0          8         302.0       140.0    3449          10.5   \n",
            "\n",
            "   model_year origin                       name  \n",
            "0          70    usa  chevrolet chevelle malibu  \n",
            "1          70    usa          buick skylark 320  \n",
            "2          70    usa         plymouth satellite  \n",
            "3          70    usa              amc rebel sst  \n",
            "4          70    usa                ford torino  \n"
          ]
        }
      ],
      "source": [
        "import seaborn as sns\n",
        "import pandas as pd\n",
        "\n",
        "# Carregar o dataset mpg do seaborn\n",
        "mpg = sns.load_dataset('mpg')\n",
        "\n",
        "# Exibir as primeiras linhas do dataset para ver a estrutura\n",
        "print(mpg.head())\n",
        "\n"
      ]
    },
    {
      "cell_type": "markdown",
      "metadata": {
        "id": "A08qG6zaQi6t"
      },
      "source": [
        "# Exercício. Exclua os valores ausentes\n",
        "\n",
        "Valores ausentes não podem ser empregados no cálculo dos coeficientes da regressão logística, e são um problema para muitos outros modelos. Existem várias formas de se tratar dados ausentes. Aqui vamos, por simplicidade, simplesmente excluir as linhas com dados ausentes.\n",
        "\n",
        "> Qual atributo apresenta valores ausentes e quantas linhas foram excluídas dos dados?\n",
        "\n",
        "**Dica:** Empregue `df.isna().sum()` para identificar dados ausentes e `df.dropna()` para excluir as linhas.\n",
        "\n"
      ]
    },
    {
      "cell_type": "code",
      "execution_count": 7,
      "metadata": {
        "id": "B4CVYeZbQUVc",
        "outputId": "c9178c31-3bd1-44b5-c96c-37807c17c3d6",
        "colab": {
          "base_uri": "https://localhost:8080/"
        }
      },
      "outputs": [
        {
          "output_type": "stream",
          "name": "stdout",
          "text": [
            "Valores ausentes por coluna:\n",
            "mpg             0\n",
            "cylinders       0\n",
            "displacement    0\n",
            "horsepower      6\n",
            "weight          0\n",
            "acceleration    0\n",
            "model_year      0\n",
            "origin          0\n",
            "name            0\n",
            "dtype: int64\n",
            "Número de linhas antes da exclusão: 398\n",
            "Número de linhas depois da exclusão: 392\n",
            "Número de linhas excluídas: 6\n",
            "Colunas com valores ausentes: ['horsepower']\n"
          ]
        }
      ],
      "source": [
        "# Identificar valores ausentes\n",
        "missing_values = mpg.isna().sum()\n",
        "print(\"Valores ausentes por coluna:\")\n",
        "print(missing_values)\n",
        "\n",
        "# Número de linhas antes de excluir as ausentes\n",
        "num_rows_before = len(mpg)\n",
        "\n",
        "# Excluir linhas com valores ausentes\n",
        "mpg_cleaned = mpg.dropna()\n",
        "\n",
        "# Número de linhas depois de excluir as ausentes\n",
        "num_rows_after = len(mpg_cleaned)\n",
        "\n",
        "# Número de linhas excluídas\n",
        "num_rows_excluded = num_rows_before - num_rows_after\n",
        "\n",
        "# Resultados\n",
        "print(f\"Número de linhas antes da exclusão: {num_rows_before}\")\n",
        "print(f\"Número de linhas depois da exclusão: {num_rows_after}\")\n",
        "print(f\"Número de linhas excluídas: {num_rows_excluded}\")\n",
        "\n",
        "# Mostrar as colunas que tinham valores ausentes\n",
        "columns_with_missing = missing_values[missing_values > 0].index.tolist()\n",
        "print(f\"Colunas com valores ausentes: {columns_with_missing}\")\n"
      ]
    },
    {
      "cell_type": "markdown",
      "metadata": {
        "id": "fMajp0a6SAqS"
      },
      "source": [
        "# Exercício. Altere os valores do campo `origin`\n",
        "\n",
        "A Regressão Logística é um classificador binário. Altere os valores do campo `origin`:"
      ]
    },
    {
      "cell_type": "code",
      "execution_count": null,
      "metadata": {
        "id": "ca-1fpjAEhQG"
      },
      "outputs": [],
      "source": [
        "# origin estava vazio"
      ]
    },
    {
      "cell_type": "markdown",
      "metadata": {
        "id": "yN84HQeOSd62"
      },
      "source": [
        "para os valores `usa` e `non-usa` para podermos classificar a origem dos veículos como sendo dos Estados Unidos ou não.\n",
        "\n",
        "> Quantos veículos `usa` e `non-usa` foram obtidos?\n",
        "\n",
        "**Dica:** Empregue `df.campo.replace('old','new')`"
      ]
    },
    {
      "cell_type": "code",
      "execution_count": 8,
      "metadata": {
        "id": "m6Mj132ha8dJ",
        "outputId": "ca4ed593-a84b-4441-d700-391423747f2a",
        "colab": {
          "base_uri": "https://localhost:8080/"
        }
      },
      "outputs": [
        {
          "output_type": "stream",
          "name": "stdout",
          "text": [
            "\n",
            "DataFrame modificado:\n",
            "    mpg  cylinders  displacement  horsepower  weight  acceleration  \\\n",
            "0  18.0          8         307.0       130.0    3504          12.0   \n",
            "1  15.0          8         350.0       165.0    3693          11.5   \n",
            "2  18.0          8         318.0       150.0    3436          11.0   \n",
            "3  16.0          8         304.0       150.0    3433          12.0   \n",
            "4  17.0          8         302.0       140.0    3449          10.5   \n",
            "\n",
            "   model_year origin                       name  \n",
            "0          70    usa  chevrolet chevelle malibu  \n",
            "1          70    usa          buick skylark 320  \n",
            "2          70    usa         plymouth satellite  \n",
            "3          70    usa              amc rebel sst  \n",
            "4          70    usa                ford torino  \n"
          ]
        },
        {
          "output_type": "stream",
          "name": "stderr",
          "text": [
            "<ipython-input-8-be36cb6b8b3f>:1: SettingWithCopyWarning: \n",
            "A value is trying to be set on a copy of a slice from a DataFrame.\n",
            "Try using .loc[row_indexer,col_indexer] = value instead\n",
            "\n",
            "See the caveats in the documentation: https://pandas.pydata.org/pandas-docs/stable/user_guide/indexing.html#returning-a-view-versus-a-copy\n",
            "  mpg_cleaned['origin'] = mpg_cleaned['origin'].replace({'usa': 'usa', 'europe': 'non-usa', 'japan': 'non-usa'})\n"
          ]
        }
      ],
      "source": [
        "mpg_cleaned['origin'] = mpg_cleaned['origin'].replace({'usa': 'usa', 'europe': 'non-usa', 'japan': 'non-usa'})\n",
        "\n",
        "usa_count = (mpg_cleaned['origin'] == 'usa').sum()\n",
        "non_usa_count = (mpg_cleaned['origin'] == 'non-usa').sum()\n",
        "\n",
        "print(\"\\nDataFrame modificado:\")\n",
        "print(mpg_cleaned.head())\n"
      ]
    },
    {
      "cell_type": "markdown",
      "metadata": {
        "id": "AIKiwRtxT114"
      },
      "source": [
        "# Exercício. Classifique a `origin` dos veículos a partir dos valores de `mpg` e `cylinders`\n",
        "\n",
        "Empregue o modelo de Regressão Logística para classificar a `origin` dos veículos a partir somente dos valores de `mpg` e `cylinders`.\n",
        "\n",
        "Empregue $30$% para dados de teste, estratificados pelo atributo de classe e a semente de geração aleatória (`random_state=1`).\n",
        "\n",
        "> Qual a acuracidade (*score*) obtido pelo modelo?\n",
        "\n",
        "**Dica:** *Muito Cuidado*. Se você não empregar exatamente as configurações acima você vai criar conjuntos de treinamento e testes diferentes e não vai chegar às respostas que encontra nos testes!"
      ]
    },
    {
      "cell_type": "code",
      "execution_count": 10,
      "metadata": {
        "id": "570uz7Mk26jy",
        "outputId": "a45ef89f-4456-42c1-d6d2-d8f2cc813825",
        "colab": {
          "base_uri": "https://localhost:8080/"
        }
      },
      "outputs": [
        {
          "output_type": "stream",
          "name": "stdout",
          "text": [
            "Acuracidade do modelo: 0.81\n"
          ]
        }
      ],
      "source": [
        "import seaborn as sns\n",
        "import pandas as pd\n",
        "from sklearn.model_selection import train_test_split\n",
        "from sklearn.linear_model import LogisticRegression\n",
        "from sklearn.metrics import accuracy_score\n",
        "\n",
        "mpg = sns.load_dataset('mpg')\n",
        "\n",
        "X = mpg_cleaned[['mpg', 'cylinders']]\n",
        "y = mpg_cleaned['origin'].apply(lambda x: 1 if x == 'usa' else 0)\n",
        "\n",
        "X_train, X_test, y_train, y_test = train_test_split(X, y, test_size=0.3, stratify=y, random_state=1)\n",
        "\n",
        "logreg = LogisticRegression(random_state=1)\n",
        "logreg.fit(X_train, y_train)\n",
        "\n",
        "\n",
        "y_pred = logreg.predict(X_test)\n",
        "\n",
        "accuracy = accuracy_score(y_test, y_pred)\n",
        "\n",
        "print(f\"Acuracidade do modelo: {accuracy:.2f}\")\n"
      ]
    },
    {
      "cell_type": "markdown",
      "metadata": {
        "id": "NevXaFi5VFLB"
      },
      "source": [
        "# Exercício. Classifique os veículos com valores `mpg` e `cylinders` igual aos valores máximos e mínimos dos dados\n",
        "\n",
        "Você não vai ter nenhuma surpresa aqui com o resultado :-)\n",
        "\n",
        "> Qual o resultado da classificação?\n",
        "\n",
        "**Dica:** Crie um dataframe exatamente com esses atributos e os valores minímo e máximos encontrados no dataframe original para sua entrada no `predict()`.\n"
      ]
    },
    {
      "cell_type": "code",
      "execution_count": 14,
      "metadata": {
        "id": "7vRGQx-9VjSN",
        "outputId": "ad2c8848-8e52-4896-8636-abf84f702964",
        "colab": {
          "base_uri": "https://localhost:8080/"
        }
      },
      "outputs": [
        {
          "output_type": "stream",
          "name": "stdout",
          "text": [
            "\n",
            "Valores testados e suas respectivas previsões:\n",
            "    mpg  cylinders prediction\n",
            "0   9.0          3    non-usa\n",
            "1   9.0          8        usa\n",
            "2  46.6          3    non-usa\n",
            "3  46.6          8        usa\n"
          ]
        }
      ],
      "source": [
        "mpg_min, mpg_max = mpg_cleaned['mpg'].min(), mpg_cleaned['mpg'].max()\n",
        "cylinders_min, cylinders_max = mpg_cleaned['cylinders'].min(), mpg_cleaned['cylinders'].max()\n",
        "\n",
        "test_values = pd.DataFrame({\n",
        "    'mpg': [mpg_min, mpg_min, mpg_max, mpg_max],\n",
        "    'cylinders': [cylinders_min, cylinders_max, cylinders_min, cylinders_max]\n",
        "})\n",
        "\n",
        "# Fazer previsões com os valores extremos\n",
        "predictions = logreg.predict(test_values)\n",
        "\n",
        "# Mapeando os resultados para 'usa' e 'non-usa'\n",
        "predictions_mapped = ['usa' if pred == 1 else 'non-usa' for pred in predictions]\n",
        "\n",
        "# Exibir os valores testados e suas respectivas previsões\n",
        "result_df = test_values.copy()\n",
        "result_df['prediction'] = predictions_mapped\n",
        "\n",
        "print(\"\\nValores testados e suas respectivas previsões:\")\n",
        "print(result_df)\n"
      ]
    },
    {
      "cell_type": "markdown",
      "metadata": {
        "id": "OkKRssUpXK4t"
      },
      "source": [
        "# Exercício. Classifique a `origin` dos veículos a partir de todos os preditores válidos\n",
        "\n",
        "Empregue agora o modelo de Regressão Logística para classificar a `origin` dos veículos a partir de todos os preditores válidos\n",
        "\n",
        "Empregue $30$% para dados de teste, estratificados pelo atributo de classe e a semente de geração aleatória (`random_state=1`).\n",
        "\n",
        "> Qual a acuracidade (*score*) obtido pelo modelo?\n",
        "\n",
        "**Dica:** *Muito Cuidado*. Se você não empregar exatamente as configurações acima você vai criar conjuntos de treinamento e testes diferentes e não vai chegar às respostas que encontra nos testes!\n",
        "\n",
        "**Dica:** Existe um atributo que não faz sentido ser empregado como preditor e precisa ser excluído das variáveis de entrada. Qual?"
      ]
    },
    {
      "cell_type": "code",
      "execution_count": 17,
      "metadata": {
        "id": "WG8usyodXHrP",
        "outputId": "114653fa-1ed7-479e-b50d-948a99c5c336",
        "colab": {
          "base_uri": "https://localhost:8080/"
        }
      },
      "outputs": [
        {
          "output_type": "stream",
          "name": "stdout",
          "text": [
            "Acuracidade do modelo: 0.81\n"
          ]
        }
      ],
      "source": [
        "X_train, X_test, y_train, y_test = train_test_split(X, y, test_size=0.3, stratify=y, random_state=1)\n",
        "\n",
        "logreg = LogisticRegression(random_state=1)\n",
        "logreg.fit(X_train, y_train)\n",
        "\n",
        "y_pred = logreg.predict(X_test)\n",
        "\n",
        "accuracy = accuracy_score(y_test, y_pred)\n",
        "\n",
        "print(f\"Acuracidade do modelo: {accuracy:.2f}\")\n"
      ]
    }
  ],
  "metadata": {
    "anaconda-cloud": {},
    "colab": {
      "provenance": [],
      "include_colab_link": true
    },
    "kernelspec": {
      "display_name": "Python 3",
      "language": "python",
      "name": "python3"
    },
    "language_info": {
      "codemirror_mode": {
        "name": "ipython",
        "version": 3
      },
      "file_extension": ".py",
      "mimetype": "text/x-python",
      "name": "python",
      "nbconvert_exporter": "python",
      "pygments_lexer": "ipython3",
      "version": "3.8.8"
    }
  },
  "nbformat": 4,
  "nbformat_minor": 0
}