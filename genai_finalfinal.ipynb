{
  "nbformat": 4,
  "nbformat_minor": 0,
  "metadata": {
    "colab": {
      "provenance": [],
      "gpuType": "T4",
      "authorship_tag": "ABX9TyOlz0h58p0NGHRutTQ60UPB",
      "include_colab_link": true
    },
    "kernelspec": {
      "name": "python3",
      "display_name": "Python 3"
    },
    "language_info": {
      "name": "python"
    },
    "accelerator": "GPU"
  },
  "cells": [
    {
      "cell_type": "markdown",
      "metadata": {
        "id": "view-in-github",
        "colab_type": "text"
      },
      "source": [
        "<a href=\"https://colab.research.google.com/github/athospugliesedev/python_codes/blob/main/genai_finalfinal.ipynb\" target=\"_parent\"><img src=\"https://colab.research.google.com/assets/colab-badge.svg\" alt=\"Open In Colab\"/></a>"
      ]
    },
    {
      "cell_type": "code",
      "execution_count": null,
      "metadata": {
        "id": "93Noi1XT1oCy"
      },
      "outputs": [],
      "source": [
        "!pip install pandasai==1.4.7\n",
        "!pip install pandas\n",
        "from google.colab import drive\n",
        "drive.mount('/content/drive/')"
      ]
    },
    {
      "cell_type": "code",
      "source": [
        "import pandasai\n",
        "import pandas as pd\n",
        "from pandasai.llm import AzureOpenAI\n",
        "from pandasai.llm import OpenAI\n",
        "from pandasai import SmartDataframe\n",
        "import openai\n",
        "\n",
        "llm = AzureOpenAI(\n",
        "    api_version=\"2023-05-15\",\n",
        "    deployment_name=\"gpt-35-turbo\",\n",
        "    api_token=\"9f21fc3ae81e4a15b3fb40524f4c837a\",\n",
        "    api_base=\"https://openai-portodigital.openai.azure.com/\",\n",
        "    is_chat_model=True\n",
        ")\n",
        "\n",
        "df = pd.read_csv(\"/content/drive/MyDrive/reclamacoes-n1e2-distribuidoras.csv\", sep=\";\", dtype='unicode', encoding='latin-1')\n",
        "print(df.head())\n",
        "\n",
        "sdf = SmartDataframe(df, config={\n",
        "                    \"llm\": llm,\n",
        "                    \"enable_cache\": False,\n",
        "                    \"verbose\": True,\n",
        "                    }\n",
        ")\n",
        "\n",
        "\n",
        "print(df.columns)"
      ],
      "metadata": {
        "id": "xLB2xrqk-uPZ",
        "colab": {
          "base_uri": "https://localhost:8080/"
        },
        "outputId": "15c829be-dcf1-44f3-c299-31e66194a0d8"
      },
      "execution_count": 2,
      "outputs": [
        {
          "output_type": "stream",
          "name": "stdout",
          "text": [
            "  DatGeracaoConjuntoDados DatReferencia SigAgente      NumCPFCNPJ  \\\n",
            "0              2023-11-05    2010-01-01   ENEL RJ  33050071000158   \n",
            "1              2023-11-05    2010-01-01   ENEL RJ  33050071000158   \n",
            "2              2023-11-05    2010-01-01   ENEL RJ  33050071000158   \n",
            "3              2023-11-05    2010-01-01   ENEL RJ  33050071000158   \n",
            "4              2023-11-05    2010-01-01   ENEL RJ  33050071000158   \n",
            "\n",
            "  CodMunicipio NomMunicipio SigUF SigRegiao NomClassificacaoAgente  \\\n",
            "0          NaN          NaN    RJ        SE         Concessionária   \n",
            "1          NaN          NaN    RJ        SE         Concessionária   \n",
            "2          NaN          NaN    RJ        SE         Concessionária   \n",
            "3          NaN          NaN    RJ        SE         Concessionária   \n",
            "4          NaN          NaN    RJ        SE         Concessionária   \n",
            "\n",
            "  CodTipoReclamacao NomCanalReclamacao  \\\n",
            "0                 1            Nível 1   \n",
            "1                11            Nível 1   \n",
            "2                10            Nível 1   \n",
            "3                 9            Nível 1   \n",
            "4                13            Nível 1   \n",
            "\n",
            "                                      DescReclamacao QtdReclamacoesRecebidas  \\\n",
            "0          Reclamação de Interrupção do Fornecimento                  178999   \n",
            "1                                             Prazos                     868   \n",
            "2                        Cobrança por Irregularidade                     177   \n",
            "3                                Variação de Consumo                   14134   \n",
            "4  Indisponibilidade de Agência/Postos e Canais d...                       0   \n",
            "\n",
            "  QtdReclamacoesImprocedentes QtdReclamacoesProcedentes NumPrazoMedioSolucao  \\\n",
            "0                       51059                    123665        12,2300000000   \n",
            "1                         396                       533       400,9700000000   \n",
            "2                           0                       180       245,2100000000   \n",
            "3                         863                     11809       236,9800000000   \n",
            "4                           0                         0          ,0000000000   \n",
            "\n",
            "  CodFormaContato DscFormaContato NumCtaPrazoMedioSolucaoImproc  \\\n",
            "0             NaN   Não informado                           NaN   \n",
            "1             NaN   Não informado                           NaN   \n",
            "2             NaN   Não informado                           NaN   \n",
            "3             NaN   Não informado                           NaN   \n",
            "4             NaN   Não informado                           NaN   \n",
            "\n",
            "  NumOuvPrazoMedioSolucaoImproc  \n",
            "0                       ,000000  \n",
            "1                       ,000000  \n",
            "2                       ,000000  \n",
            "3                       ,000000  \n",
            "4                       ,000000  \n",
            "Index(['DatGeracaoConjuntoDados', 'DatReferencia', 'SigAgente', 'NumCPFCNPJ',\n",
            "       'CodMunicipio', 'NomMunicipio', 'SigUF', 'SigRegiao',\n",
            "       'NomClassificacaoAgente', 'CodTipoReclamacao', 'NomCanalReclamacao',\n",
            "       'DescReclamacao', 'QtdReclamacoesRecebidas',\n",
            "       'QtdReclamacoesImprocedentes', 'QtdReclamacoesProcedentes',\n",
            "       'NumPrazoMedioSolucao', 'CodFormaContato', 'DscFormaContato',\n",
            "       'NumCtaPrazoMedioSolucaoImproc', 'NumOuvPrazoMedioSolucaoImproc'],\n",
            "      dtype='object')\n"
          ]
        }
      ]
    },
    {
      "cell_type": "code",
      "source": [
        "\n",
        "response = sdf.chat(\"Quais são as cincos agências com mais reclamações recebidas por Reclamação de Interrupção do Fornecimento? Me retorne em um rank de 1 a 5, seus nomes em texto.\")\n",
        "print(response)"
      ],
      "metadata": {
        "colab": {
          "base_uri": "https://localhost:8080/"
        },
        "id": "qjUnlF6OwIvl",
        "outputId": "7a9f9f71-5849-4dc4-9115-9a92345d7314"
      },
      "execution_count": 3,
      "outputs": [
        {
          "output_type": "stream",
          "name": "stdout",
          "text": [
            "CERPALO, COSERN, CELESC-DIS, CERTREL, CETRIL\n"
          ]
        }
      ]
    },
    {
      "cell_type": "code",
      "source": [
        "response = sdf.chat(\"Which agencies have the fewest complaints? Summarize ten of them in a ranked. Return to me only the agency name.\")\n",
        "print(response)"
      ],
      "metadata": {
        "id": "tOZk0N_AffbH",
        "colab": {
          "base_uri": "https://localhost:8080/"
        },
        "outputId": "b42cb087-bb7e-4eef-fb35-125001cb324b"
      },
      "execution_count": 4,
      "outputs": [
        {
          "output_type": "stream",
          "name": "stdout",
          "text": [
            "CERAL ANITÁPOLIS\n",
            "COPREL\n",
            "CERTREL\n",
            "CERGAPA\n",
            "CERAL ARAPOTI\n",
            "CEDRAP\n",
            "CERCOS\n",
            "COOPERMILA\n",
            "CERRP\n",
            "CEPRAG\n"
          ]
        }
      ]
    },
    {
      "cell_type": "code",
      "source": [
        "response = sdf.chat(\"What is the most common type of complaint across regions of Brazil? Return in text the answer\")\n",
        "print(response)"
      ],
      "metadata": {
        "id": "elGT9DyhgFhV"
      },
      "execution_count": null,
      "outputs": []
    },
    {
      "cell_type": "code",
      "source": [
        "response = sdf.chat(\"Qual ano teve mais reclamações?\")\n",
        "print(response)"
      ],
      "metadata": {
        "colab": {
          "base_uri": "https://localhost:8080/"
        },
        "id": "rp4CGS_SgspA",
        "outputId": "4c66c485-2bbe-469d-8545-d46fb50da04f"
      },
      "execution_count": null,
      "outputs": [
        {
          "output_type": "stream",
          "name": "stderr",
          "text": [
            "WARNING:pandasai.helpers.logger:Error of executing code\n"
          ]
        }
      ]
    },
    {
      "cell_type": "code",
      "source": [
        "response = sdf.chat(\"Durante esse ano, qual foi o local com pico de reclamações?\")\n",
        "print(response)"
      ],
      "metadata": {
        "id": "LWCYbsogg6Wu"
      },
      "execution_count": null,
      "outputs": []
    },
    {
      "cell_type": "code",
      "source": [
        "response = sdf.chat(\"Qual é a forma de contato mais utilizado pela população para fazer reclamação? Digital ou telefonico?\")\n",
        "print(response)"
      ],
      "metadata": {
        "id": "bTWDGB7Cg-j-"
      },
      "execution_count": null,
      "outputs": []
    }
  ]
}