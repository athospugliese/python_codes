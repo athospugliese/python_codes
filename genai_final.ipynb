{
  "nbformat": 4,
  "nbformat_minor": 0,
  "metadata": {
    "colab": {
      "provenance": [],
      "authorship_tag": "ABX9TyNFWRPlsP9/2aCwRZz9ej4y",
      "include_colab_link": true
    },
    "kernelspec": {
      "name": "python3",
      "display_name": "Python 3"
    },
    "language_info": {
      "name": "python"
    },
    "accelerator": "TPU"
  },
  "cells": [
    {
      "cell_type": "markdown",
      "metadata": {
        "id": "view-in-github",
        "colab_type": "text"
      },
      "source": [
        "<a href=\"https://colab.research.google.com/github/athospugliesedev/python_codes/blob/main/genai_final.ipynb\" target=\"_parent\"><img src=\"https://colab.research.google.com/assets/colab-badge.svg\" alt=\"Open In Colab\"/></a>"
      ]
    },
    {
      "cell_type": "code",
      "execution_count": 9,
      "metadata": {
        "id": "93Noi1XT1oCy",
        "colab": {
          "base_uri": "https://localhost:8080/"
        },
        "outputId": "e15f352d-8231-4289-d7c0-2877dcd8d850"
      },
      "outputs": [
        {
          "output_type": "stream",
          "name": "stdout",
          "text": [
            "Requirement already satisfied: pandasai==1.4.7 in /usr/local/lib/python3.10/dist-packages (1.4.7)\n",
            "Requirement already satisfied: astor<0.9.0,>=0.8.1 in /usr/local/lib/python3.10/dist-packages (from pandasai==1.4.7) (0.8.1)\n",
            "Requirement already satisfied: duckdb<0.9.0,>=0.8.1 in /usr/local/lib/python3.10/dist-packages (from pandasai==1.4.7) (0.8.1)\n",
            "Requirement already satisfied: ipython<9.0.0,>=8.13.1 in /usr/local/lib/python3.10/dist-packages (from pandasai==1.4.7) (8.18.0)\n",
            "Requirement already satisfied: matplotlib<4.0.0,>=3.7.1 in /usr/local/lib/python3.10/dist-packages (from pandasai==1.4.7) (3.7.1)\n",
            "Requirement already satisfied: openai<0.28.0,>=0.27.5 in /usr/local/lib/python3.10/dist-packages (from pandasai==1.4.7) (0.27.10)\n",
            "Requirement already satisfied: pandas==1.5.3 in /usr/local/lib/python3.10/dist-packages (from pandasai==1.4.7) (1.5.3)\n",
            "Requirement already satisfied: pydantic<2,>=1 in /usr/local/lib/python3.10/dist-packages (from pandasai==1.4.7) (1.10.13)\n",
            "Requirement already satisfied: python-dotenv<2.0.0,>=1.0.0 in /usr/local/lib/python3.10/dist-packages (from pandasai==1.4.7) (1.0.0)\n",
            "Requirement already satisfied: scipy<2.0.0,>=1.9.0 in /usr/local/lib/python3.10/dist-packages (from pandasai==1.4.7) (1.11.3)\n",
            "Requirement already satisfied: sqlalchemy<2.0.0,>=1.4.49 in /usr/local/lib/python3.10/dist-packages (from pandasai==1.4.7) (1.4.50)\n",
            "Requirement already satisfied: python-dateutil>=2.8.1 in /usr/local/lib/python3.10/dist-packages (from pandas==1.5.3->pandasai==1.4.7) (2.8.2)\n",
            "Requirement already satisfied: pytz>=2020.1 in /usr/local/lib/python3.10/dist-packages (from pandas==1.5.3->pandasai==1.4.7) (2023.3.post1)\n",
            "Requirement already satisfied: numpy>=1.21.0 in /usr/local/lib/python3.10/dist-packages (from pandas==1.5.3->pandasai==1.4.7) (1.23.5)\n",
            "Requirement already satisfied: decorator in /usr/local/lib/python3.10/dist-packages (from ipython<9.0.0,>=8.13.1->pandasai==1.4.7) (4.4.2)\n",
            "Requirement already satisfied: jedi>=0.16 in /usr/local/lib/python3.10/dist-packages (from ipython<9.0.0,>=8.13.1->pandasai==1.4.7) (0.19.1)\n",
            "Requirement already satisfied: matplotlib-inline in /usr/local/lib/python3.10/dist-packages (from ipython<9.0.0,>=8.13.1->pandasai==1.4.7) (0.1.6)\n",
            "Requirement already satisfied: prompt-toolkit!=3.0.37,<3.1.0,>=3.0.30 in /usr/local/lib/python3.10/dist-packages (from ipython<9.0.0,>=8.13.1->pandasai==1.4.7) (3.0.41)\n",
            "Requirement already satisfied: pygments>=2.4.0 in /usr/local/lib/python3.10/dist-packages (from ipython<9.0.0,>=8.13.1->pandasai==1.4.7) (2.16.1)\n",
            "Requirement already satisfied: stack-data in /usr/local/lib/python3.10/dist-packages (from ipython<9.0.0,>=8.13.1->pandasai==1.4.7) (0.6.3)\n",
            "Requirement already satisfied: traitlets>=5 in /usr/local/lib/python3.10/dist-packages (from ipython<9.0.0,>=8.13.1->pandasai==1.4.7) (5.7.1)\n",
            "Requirement already satisfied: exceptiongroup in /usr/local/lib/python3.10/dist-packages (from ipython<9.0.0,>=8.13.1->pandasai==1.4.7) (1.1.3)\n",
            "Requirement already satisfied: pexpect>4.3 in /usr/local/lib/python3.10/dist-packages (from ipython<9.0.0,>=8.13.1->pandasai==1.4.7) (4.8.0)\n",
            "Requirement already satisfied: contourpy>=1.0.1 in /usr/local/lib/python3.10/dist-packages (from matplotlib<4.0.0,>=3.7.1->pandasai==1.4.7) (1.2.0)\n",
            "Requirement already satisfied: cycler>=0.10 in /usr/local/lib/python3.10/dist-packages (from matplotlib<4.0.0,>=3.7.1->pandasai==1.4.7) (0.12.1)\n",
            "Requirement already satisfied: fonttools>=4.22.0 in /usr/local/lib/python3.10/dist-packages (from matplotlib<4.0.0,>=3.7.1->pandasai==1.4.7) (4.44.3)\n",
            "Requirement already satisfied: kiwisolver>=1.0.1 in /usr/local/lib/python3.10/dist-packages (from matplotlib<4.0.0,>=3.7.1->pandasai==1.4.7) (1.4.5)\n",
            "Requirement already satisfied: packaging>=20.0 in /usr/local/lib/python3.10/dist-packages (from matplotlib<4.0.0,>=3.7.1->pandasai==1.4.7) (23.2)\n",
            "Requirement already satisfied: pillow>=6.2.0 in /usr/local/lib/python3.10/dist-packages (from matplotlib<4.0.0,>=3.7.1->pandasai==1.4.7) (9.4.0)\n",
            "Requirement already satisfied: pyparsing>=2.3.1 in /usr/local/lib/python3.10/dist-packages (from matplotlib<4.0.0,>=3.7.1->pandasai==1.4.7) (3.1.1)\n",
            "Requirement already satisfied: requests>=2.20 in /usr/local/lib/python3.10/dist-packages (from openai<0.28.0,>=0.27.5->pandasai==1.4.7) (2.31.0)\n",
            "Requirement already satisfied: tqdm in /usr/local/lib/python3.10/dist-packages (from openai<0.28.0,>=0.27.5->pandasai==1.4.7) (4.66.1)\n",
            "Requirement already satisfied: aiohttp in /usr/local/lib/python3.10/dist-packages (from openai<0.28.0,>=0.27.5->pandasai==1.4.7) (3.8.6)\n",
            "Requirement already satisfied: typing-extensions>=4.2.0 in /usr/local/lib/python3.10/dist-packages (from pydantic<2,>=1->pandasai==1.4.7) (4.5.0)\n",
            "Requirement already satisfied: greenlet!=0.4.17 in /usr/local/lib/python3.10/dist-packages (from sqlalchemy<2.0.0,>=1.4.49->pandasai==1.4.7) (3.0.1)\n",
            "Requirement already satisfied: parso<0.9.0,>=0.8.3 in /usr/local/lib/python3.10/dist-packages (from jedi>=0.16->ipython<9.0.0,>=8.13.1->pandasai==1.4.7) (0.8.3)\n",
            "Requirement already satisfied: ptyprocess>=0.5 in /usr/local/lib/python3.10/dist-packages (from pexpect>4.3->ipython<9.0.0,>=8.13.1->pandasai==1.4.7) (0.7.0)\n",
            "Requirement already satisfied: wcwidth in /usr/local/lib/python3.10/dist-packages (from prompt-toolkit!=3.0.37,<3.1.0,>=3.0.30->ipython<9.0.0,>=8.13.1->pandasai==1.4.7) (0.2.10)\n",
            "Requirement already satisfied: six>=1.5 in /usr/local/lib/python3.10/dist-packages (from python-dateutil>=2.8.1->pandas==1.5.3->pandasai==1.4.7) (1.16.0)\n",
            "Requirement already satisfied: charset-normalizer<4,>=2 in /usr/local/lib/python3.10/dist-packages (from requests>=2.20->openai<0.28.0,>=0.27.5->pandasai==1.4.7) (3.3.2)\n",
            "Requirement already satisfied: idna<4,>=2.5 in /usr/local/lib/python3.10/dist-packages (from requests>=2.20->openai<0.28.0,>=0.27.5->pandasai==1.4.7) (3.4)\n",
            "Requirement already satisfied: urllib3<3,>=1.21.1 in /usr/local/lib/python3.10/dist-packages (from requests>=2.20->openai<0.28.0,>=0.27.5->pandasai==1.4.7) (2.0.7)\n",
            "Requirement already satisfied: certifi>=2017.4.17 in /usr/local/lib/python3.10/dist-packages (from requests>=2.20->openai<0.28.0,>=0.27.5->pandasai==1.4.7) (2023.7.22)\n",
            "Requirement already satisfied: attrs>=17.3.0 in /usr/local/lib/python3.10/dist-packages (from aiohttp->openai<0.28.0,>=0.27.5->pandasai==1.4.7) (23.1.0)\n",
            "Requirement already satisfied: multidict<7.0,>=4.5 in /usr/local/lib/python3.10/dist-packages (from aiohttp->openai<0.28.0,>=0.27.5->pandasai==1.4.7) (6.0.4)\n",
            "Requirement already satisfied: async-timeout<5.0,>=4.0.0a3 in /usr/local/lib/python3.10/dist-packages (from aiohttp->openai<0.28.0,>=0.27.5->pandasai==1.4.7) (4.0.3)\n",
            "Requirement already satisfied: yarl<2.0,>=1.0 in /usr/local/lib/python3.10/dist-packages (from aiohttp->openai<0.28.0,>=0.27.5->pandasai==1.4.7) (1.9.2)\n",
            "Requirement already satisfied: frozenlist>=1.1.1 in /usr/local/lib/python3.10/dist-packages (from aiohttp->openai<0.28.0,>=0.27.5->pandasai==1.4.7) (1.4.0)\n",
            "Requirement already satisfied: aiosignal>=1.1.2 in /usr/local/lib/python3.10/dist-packages (from aiohttp->openai<0.28.0,>=0.27.5->pandasai==1.4.7) (1.3.1)\n",
            "Requirement already satisfied: executing>=1.2.0 in /usr/local/lib/python3.10/dist-packages (from stack-data->ipython<9.0.0,>=8.13.1->pandasai==1.4.7) (2.0.1)\n",
            "Requirement already satisfied: asttokens>=2.1.0 in /usr/local/lib/python3.10/dist-packages (from stack-data->ipython<9.0.0,>=8.13.1->pandasai==1.4.7) (2.4.1)\n",
            "Requirement already satisfied: pure-eval in /usr/local/lib/python3.10/dist-packages (from stack-data->ipython<9.0.0,>=8.13.1->pandasai==1.4.7) (0.2.2)\n",
            "Requirement already satisfied: pandas in /usr/local/lib/python3.10/dist-packages (1.5.3)\n",
            "Requirement already satisfied: python-dateutil>=2.8.1 in /usr/local/lib/python3.10/dist-packages (from pandas) (2.8.2)\n",
            "Requirement already satisfied: pytz>=2020.1 in /usr/local/lib/python3.10/dist-packages (from pandas) (2023.3.post1)\n",
            "Requirement already satisfied: numpy>=1.21.0 in /usr/local/lib/python3.10/dist-packages (from pandas) (1.23.5)\n",
            "Requirement already satisfied: six>=1.5 in /usr/local/lib/python3.10/dist-packages (from python-dateutil>=2.8.1->pandas) (1.16.0)\n",
            "Drive already mounted at /content/drive/; to attempt to forcibly remount, call drive.mount(\"/content/drive/\", force_remount=True).\n"
          ]
        }
      ],
      "source": [
        "!pip install pandasai==1.4.7\n",
        "!pip install pandas\n",
        "from google.colab import drive\n",
        "drive.mount('/content/drive/')"
      ]
    },
    {
      "cell_type": "code",
      "source": [
        "import pandasai\n",
        "import pandas as pd\n",
        "from pandasai.llm import AzureOpenAI\n",
        "from pandasai.llm import OpenAI\n",
        "from pandasai import SmartDataframe\n",
        "import openai\n",
        "\n",
        "llm = AzureOpenAI(\n",
        "    api_version=\"2023-05-15\",\n",
        "    deployment_name=\"gpt-35-turbo\",\n",
        "    api_token=\"9f21fc3ae81e4a15b3fb40524f4c837a\",\n",
        "    api_base=\"https://openai-portodigital.openai.azure.com/\",\n",
        "    is_chat_model=True\n",
        ")\n",
        "\n",
        "df = pd.read_csv(\"/content/drive/MyDrive/reclamacoes-n1e2-distribuidoras.csv\", sep=\";\", dtype='unicode', encoding='latin-1')\n",
        "\n",
        "\n",
        "sdf = SmartDataframe(df, config={\n",
        "                    \"llm\": llm,\n",
        "                    \"enable_cache\": False,\n",
        "                    \"verbose\": True,\n",
        "                    }\n",
        ")\n"
      ],
      "metadata": {
        "id": "xLB2xrqk-uPZ"
      },
      "execution_count": 10,
      "outputs": []
    },
    {
      "cell_type": "code",
      "source": [
        "\n",
        "response = sdf.chat(\"Summarize in a list the agencies which suffer most from energy shortages? \")\n",
        "print(response)"
      ],
      "metadata": {
        "colab": {
          "base_uri": "https://localhost:8080/"
        },
        "id": "qjUnlF6OwIvl",
        "outputId": "aafa41d2-bceb-4872-c33c-bb45634cfd2e"
      },
      "execution_count": 11,
      "outputs": [
        {
          "output_type": "stream",
          "name": "stdout",
          "text": [
            "['EFLJC', 'EMT', 'Equatorial PI', 'CERMC', 'CERNHE', 'CHESP', 'EMR', 'CERGAPA', 'CERMOFUL', 'CERSUL']\n"
          ]
        }
      ]
    },
    {
      "cell_type": "code",
      "source": [
        "response = sdf.chat(\"Which agencies have the fewest complaints? Summarize ten of them in a ranked. Return to me only the agency name.\")\n",
        "print(response)"
      ],
      "metadata": {
        "colab": {
          "base_uri": "https://localhost:8080/"
        },
        "id": "tOZk0N_AffbH",
        "outputId": "5a9263eb-ffe1-4914-a8f8-5837b0b4d05c"
      },
      "execution_count": 3,
      "outputs": [
        {
          "output_type": "stream",
          "name": "stdout",
          "text": [
            "['CERAL ARAPOTI', 'CERAL ANITÁPOLIS', 'CERIS', 'COOPERCOCAL', 'CERAÇÁ', 'CERGAL', 'CERNHE', 'CERES', 'CERPRO', 'CERTREL']\n"
          ]
        }
      ]
    },
    {
      "cell_type": "code",
      "source": [
        "response = sdf.chat(\"Which SigRegiao has the highest number of QtdReclamacoesRecebidas in Brazil? Return to me only the region name.\")\n",
        "print(response)"
      ],
      "metadata": {
        "colab": {
          "base_uri": "https://localhost:8080/"
        },
        "id": "RzieeLmfgD3W",
        "outputId": "ab757adb-4635-4f26-8bd2-d465d8a4cf32"
      },
      "execution_count": null,
      "outputs": [
        {
          "output_type": "stream",
          "name": "stderr",
          "text": [
            "WARNING:pandasai.helpers.logger:Error of executing code\n"
          ]
        }
      ]
    },
    {
      "cell_type": "code",
      "source": [],
      "metadata": {
        "id": "J2iXykoaxeBn"
      },
      "execution_count": null,
      "outputs": []
    },
    {
      "cell_type": "code",
      "source": [
        "response = sdf.chat(\"What is the most common type of complaint across regions of Brazil? Return in text the answer\")\n",
        "print(response)"
      ],
      "metadata": {
        "colab": {
          "base_uri": "https://localhost:8080/"
        },
        "id": "elGT9DyhgFhV",
        "outputId": "0830f9a0-3c45-404c-8907-deacde59b8a2"
      },
      "execution_count": 5,
      "outputs": [
        {
          "output_type": "stream",
          "name": "stderr",
          "text": [
            "WARNING:pandasai.helpers.logger:Error of executing code\n",
            "WARNING:pandasai.helpers.logger:Failed to execute code with a correction framework [retry number: 1]\n",
            "ERROR:pandasai.helpers.logger:Failed with error: Traceback (most recent call last):\n",
            "  File \"/usr/local/lib/python3.10/dist-packages/pandasai/smart_datalake/__init__.py\", line 438, in chat\n",
            "    result = self._code_manager.execute_code(\n",
            "  File \"/usr/local/lib/python3.10/dist-packages/pandasai/helpers/code_manager.py\", line 286, in execute_code\n",
            "    return analyze_data(self._get_originals(dfs))\n",
            "  File \"<string>\", line 21, in analyze_data\n",
            "  File \"/usr/local/lib/python3.10/dist-packages/pandas/core/groupby/groupby.py\", line 1039, in wrapper\n",
            "    result = self._python_apply_general(\n",
            "  File \"/usr/local/lib/python3.10/dist-packages/pandas/core/groupby/groupby.py\", line 1629, in _python_apply_general\n",
            "    values, mutated = self.grouper.apply(f, data, self.axis)\n",
            "  File \"/usr/local/lib/python3.10/dist-packages/pandas/core/groupby/ops.py\", line 839, in apply\n",
            "    res = f(group)\n",
            "  File \"/usr/local/lib/python3.10/dist-packages/pandas/core/groupby/groupby.py\", line 1022, in curried\n",
            "    return f(x, *args, **kwargs)\n",
            "  File \"/usr/local/lib/python3.10/dist-packages/pandas/core/series.py\", line 2564, in idxmax\n",
            "    i = self.argmax(axis, skipna, *args, **kwargs)\n",
            "  File \"/usr/local/lib/python3.10/dist-packages/pandas/core/base.py\", line 655, in argmax\n",
            "    return nanops.nanargmax(  # type: ignore[return-value]\n",
            "  File \"/usr/local/lib/python3.10/dist-packages/pandas/core/nanops.py\", line 88, in _f\n",
            "    raise TypeError(\n",
            "TypeError: reduction operation 'argmax' not allowed for this dtype\n",
            ". Retrying\n"
          ]
        },
        {
          "output_type": "stream",
          "name": "stdout",
          "text": [
            "Unfortunately, I was not able to answer your question, because of the following error:\n",
            "\n",
            "No code found in the response\n",
            "\n"
          ]
        }
      ]
    },
    {
      "cell_type": "code",
      "source": [
        "response = sdf.chat(\"What was the year in which the most complaints occurred?\")\n",
        "print(response)"
      ],
      "metadata": {
        "colab": {
          "base_uri": "https://localhost:8080/"
        },
        "id": "rp4CGS_SgspA",
        "outputId": "af0f1924-5dfd-4240-af7a-3ffd09926f9a"
      },
      "execution_count": 6,
      "outputs": [
        {
          "output_type": "stream",
          "name": "stderr",
          "text": [
            "WARNING:pandasai.helpers.logger:Error of executing code\n",
            "WARNING:pandasai.helpers.logger:Failed to execute code with a correction framework [retry number: 1]\n",
            "ERROR:pandasai.helpers.logger:Failed with error: Traceback (most recent call last):\n",
            "  File \"/usr/local/lib/python3.10/dist-packages/pandasai/smart_datalake/__init__.py\", line 438, in chat\n",
            "    result = self._code_manager.execute_code(\n",
            "  File \"/usr/local/lib/python3.10/dist-packages/pandasai/helpers/code_manager.py\", line 286, in execute_code\n",
            "    return analyze_data(self._get_originals(dfs))\n",
            "  File \"<string>\", line 20, in analyze_data\n",
            "  File \"/usr/local/lib/python3.10/dist-packages/pandas/core/generic.py\", line 5902, in __getattr__\n",
            "    return object.__getattribute__(self, name)\n",
            "  File \"/usr/local/lib/python3.10/dist-packages/pandas/core/accessor.py\", line 182, in __get__\n",
            "    accessor_obj = self._accessor(obj)\n",
            "  File \"/usr/local/lib/python3.10/dist-packages/pandas/core/indexes/accessors.py\", line 512, in __new__\n",
            "    raise AttributeError(\"Can only use .dt accessor with datetimelike values\")\n",
            "AttributeError: Can only use .dt accessor with datetimelike values\n",
            ". Retrying\n"
          ]
        },
        {
          "output_type": "stream",
          "name": "stdout",
          "text": [
            "The year with the most complaints is 2023.\n"
          ]
        }
      ]
    },
    {
      "cell_type": "code",
      "source": [
        "response = sdf.chat(\"What was the month this year with the biggest spike in complaints and where was it concentrated?\")\n",
        "print(response)"
      ],
      "metadata": {
        "colab": {
          "base_uri": "https://localhost:8080/"
        },
        "id": "LWCYbsogg6Wu",
        "outputId": "fbf453e6-7f1a-4a29-ee2e-e88cd9026a30"
      },
      "execution_count": 7,
      "outputs": [
        {
          "output_type": "stream",
          "name": "stderr",
          "text": [
            "WARNING:pandasai.helpers.logger:Error of executing code\n",
            "WARNING:pandasai.helpers.logger:Failed to execute code with a correction framework [retry number: 1]\n",
            "ERROR:pandasai.helpers.logger:Failed with error: Traceback (most recent call last):\n",
            "  File \"/usr/local/lib/python3.10/dist-packages/pandasai/smart_datalake/__init__.py\", line 438, in chat\n",
            "    result = self._code_manager.execute_code(\n",
            "  File \"/usr/local/lib/python3.10/dist-packages/pandasai/helpers/code_manager.py\", line 286, in execute_code\n",
            "    return analyze_data(self._get_originals(dfs))\n",
            "  File \"<string>\", line 24, in analyze_data\n",
            "  File \"/usr/local/lib/python3.10/dist-packages/pandas/core/series.py\", line 2564, in idxmax\n",
            "    i = self.argmax(axis, skipna, *args, **kwargs)\n",
            "  File \"/usr/local/lib/python3.10/dist-packages/pandas/core/base.py\", line 655, in argmax\n",
            "    return nanops.nanargmax(  # type: ignore[return-value]\n",
            "  File \"/usr/local/lib/python3.10/dist-packages/pandas/core/nanops.py\", line 88, in _f\n",
            "    raise TypeError(\n",
            "TypeError: reduction operation 'argmax' not allowed for this dtype\n",
            ". Retrying\n",
            "WARNING:pandasai.helpers.logger:Error of executing code\n",
            "WARNING:pandasai.helpers.logger:Failed to execute code with a correction framework [retry number: 2]\n",
            "ERROR:pandasai.helpers.logger:Failed with error: Traceback (most recent call last):\n",
            "  File \"/usr/local/lib/python3.10/dist-packages/pandasai/smart_datalake/__init__.py\", line 438, in chat\n",
            "    result = self._code_manager.execute_code(\n",
            "  File \"/usr/local/lib/python3.10/dist-packages/pandasai/helpers/code_manager.py\", line 286, in execute_code\n",
            "    return analyze_data(self._get_originals(dfs))\n",
            "  File \"<string>\", line 24, in analyze_data\n",
            "  File \"/usr/local/lib/python3.10/dist-packages/pandas/core/series.py\", line 2564, in idxmax\n",
            "    i = self.argmax(axis, skipna, *args, **kwargs)\n",
            "  File \"/usr/local/lib/python3.10/dist-packages/pandas/core/base.py\", line 655, in argmax\n",
            "    return nanops.nanargmax(  # type: ignore[return-value]\n",
            "  File \"/usr/local/lib/python3.10/dist-packages/pandas/core/nanops.py\", line 88, in _f\n",
            "    raise TypeError(\n",
            "TypeError: reduction operation 'argmax' not allowed for this dtype\n",
            ". Retrying\n",
            "WARNING:pandasai.helpers.logger:Error of executing code\n"
          ]
        },
        {
          "output_type": "stream",
          "name": "stdout",
          "text": [
            "Unfortunately, I was not able to answer your question, because of the following error:\n",
            "\n",
            "reduction operation 'argmax' not allowed for this dtype\n",
            "\n"
          ]
        }
      ]
    },
    {
      "cell_type": "code",
      "source": [
        "response = sdf.chat(\"Which method of making a complaint is most used by the population, digital or telephone?\")\n",
        "print(response)"
      ],
      "metadata": {
        "colab": {
          "base_uri": "https://localhost:8080/"
        },
        "id": "bTWDGB7Cg-j-",
        "outputId": "1a3b8ae3-cd63-4c56-cbca-a964f46187fd"
      },
      "execution_count": 8,
      "outputs": [
        {
          "output_type": "stream",
          "name": "stderr",
          "text": [
            "WARNING:pandasai.helpers.logger:Error of executing code\n",
            "WARNING:pandasai.helpers.logger:Failed to execute code with a correction framework [retry number: 1]\n",
            "ERROR:pandasai.helpers.logger:Failed with error: Traceback (most recent call last):\n",
            "  File \"/usr/local/lib/python3.10/dist-packages/pandasai/smart_datalake/__init__.py\", line 438, in chat\n",
            "    result = self._code_manager.execute_code(\n",
            "  File \"/usr/local/lib/python3.10/dist-packages/pandasai/helpers/code_manager.py\", line 286, in execute_code\n",
            "    return analyze_data(self._get_originals(dfs))\n",
            "  File \"<string>\", line 23, in analyze_data\n",
            "  File \"/usr/local/lib/python3.10/dist-packages/pandas/core/indexes/base.py\", line 5320, in __getitem__\n",
            "    return getitem(key)\n",
            "IndexError: index 0 is out of bounds for axis 0 with size 0\n",
            ". Retrying\n"
          ]
        },
        {
          "output_type": "stream",
          "name": "stdout",
          "text": [
            "Unfortunately, I was not able to answer your question, because of the following error:\n",
            "\n",
            "No code found in the response\n",
            "\n"
          ]
        }
      ]
    }
  ]
}