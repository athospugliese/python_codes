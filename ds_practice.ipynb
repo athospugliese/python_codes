{
  "nbformat": 4,
  "nbformat_minor": 0,
  "metadata": {
    "colab": {
      "provenance": [],
      "authorship_tag": "ABX9TyM8afbyTrwZRjFc76pXTD+A",
      "include_colab_link": true
    },
    "kernelspec": {
      "name": "python3",
      "display_name": "Python 3"
    },
    "language_info": {
      "name": "python"
    }
  },
  "cells": [
    {
      "cell_type": "markdown",
      "metadata": {
        "id": "view-in-github",
        "colab_type": "text"
      },
      "source": [
        "<a href=\"https://colab.research.google.com/github/athospugliesedev/python_codes/blob/main/ds_practice.ipynb\" target=\"_parent\"><img src=\"https://colab.research.google.com/assets/colab-badge.svg\" alt=\"Open In Colab\"/></a>"
      ]
    },
    {
      "cell_type": "code",
      "execution_count": 16,
      "metadata": {
        "colab": {
          "base_uri": "https://localhost:8080/"
        },
        "id": "VrhoVHjRSpE8",
        "outputId": "e806fda6-771c-49dc-ad47-6bf64526182b"
      },
      "outputs": [
        {
          "output_type": "stream",
          "name": "stdout",
          "text": [
            "        index      submission_date  \\\n",
            "0    109002.0  2018-05-03 18:51:35   \n",
            "1     49663.0  2018-03-05 05:14:06   \n",
            "2     40283.0  2018-02-19 04:40:58   \n",
            "3     55546.0  2018-03-10 15:50:02   \n",
            "4     85622.0  2018-04-10 16:31:01   \n",
            "..        ...                  ...   \n",
            "166       NaN  2018-04-18 15:24:42   \n",
            "167       NaN  2018-05-02 09:41:37   \n",
            "168       NaN  2018-05-23 17:13:29   \n",
            "169       NaN  2018-02-23 20:23:34   \n",
            "170       NaN  2018-03-22 05:19:19   \n",
            "\n",
            "                                           reviewer_id  product_id  \\\n",
            "0    6a0fb9be28a2e316bf5831ab5d952b201b8aa64187fb6a...   120674211   \n",
            "1    e098d14fa529f2553ddfe60a91b5fb5f53ed273687f3e3...    16400432   \n",
            "2    ab6d06df114227daf624a87294553622b3d081eb84daf8...    20893319   \n",
            "3    60396ffe0550bb1059f94c46858fdd9a93497beb4c08a8...   112935484   \n",
            "4    4d415e849478508d615f74ecb0849758efcb90e764fce3...   133210044   \n",
            "..                                                 ...         ...   \n",
            "166  f2e198316f3a341c0bda807dbb290f3876b66e68cfb72e...     8691167   \n",
            "167  c8a55031971eb3979b7e250ad7d0a0fa935a7d93a857ed...   122963809   \n",
            "168  5d60f7c57d691a5ed4fbd7ad623c38abed13a3b120cab1...   112118994   \n",
            "169  514261f96a3c01c549e3b18f8fbaeb1142a2b8721e23e0...   125863125   \n",
            "170  2ff946321993f2575b721381da2673d883c4ea6b7b14dd...   113662123   \n",
            "\n",
            "                                          product_name  product_brand  \\\n",
            "0                               Livro - Depois de 1945            NaN   \n",
            "1                  Coracao, Cabeca E Estomago - Vol. 1            NaN   \n",
            "2         Saison 1 cahier d activites + cd audio (a1+)            NaN   \n",
            "3    Livro - Abundância: O Futuro é Melhor do Que V...            NaN   \n",
            "4    Álbum da Copa do Mundo Rússia 2018 com Capa Du...            NaN   \n",
            "..                                                 ...            ...   \n",
            "166             Meditações Diária: Janelas Para A Vida            NaN   \n",
            "167  Livro - Desligue Isso e Vá Estudar: Orientaçõe...            NaN   \n",
            "168                             Livro - Batman: Ano Um            NaN   \n",
            "169                  Livro - Descobrindo a Gramática 5            NaN   \n",
            "170  Livro - Krause Alimentos, Nutrição e Dietoterapia            NaN   \n",
            "\n",
            "    site_category_lv1               site_category_lv2  \\\n",
            "0              Livros            História e Geografia   \n",
            "1              Livros             Literatura Nacional   \n",
            "2              Livros  Ensino de Línguas Estrangeiras   \n",
            "3              Livros        Administração e Negócios   \n",
            "4              Livros                        Esportes   \n",
            "..                ...                             ...   \n",
            "166            Livros            Autoajuda e Reflexão   \n",
            "167            Livros      Ciências Humanas e Sociais   \n",
            "168            Livros          História em Quadrinhos   \n",
            "169            Livros            Didáticos e Educação   \n",
            "170            Livros                Medicina e Saúde   \n",
            "\n",
            "                             review_title  overall_rating  \\\n",
            "0             Erudição de H.U. Gumbrecht.               5   \n",
            "1    Excelente. O livro estava igual novo               4   \n",
            "2                              Satisfação               5   \n",
            "3                   Produto não entregue.               2   \n",
            "4         Atraso na Entrega e sem retorno               1   \n",
            "..                                    ...             ...   \n",
            "166                           Ótimo livro               4   \n",
            "167                             Recomendo               5   \n",
            "168                              perfeito               5   \n",
            "169                                 Ótimo               4   \n",
            "170           Parabéns lojas americanas!!               5   \n",
            "\n",
            "    recommend_to_a_friend                                        review_text  \\\n",
            "0                     Yes  Excelente livro e boa entrega; recebi em perfe...   \n",
            "1                     Yes  Parabéns, livro em ótimo estado, entrega rápid...   \n",
            "2                     Yes  Entrega rápida e eficaz, estou grato a Livrari...   \n",
            "3                      No  Não posso avaliar o produto, porque ainda não ...   \n",
            "4                      No  Americanas,  Peço que me auxiliem, o vendedor ...   \n",
            "..                    ...                                                ...   \n",
            "166                   Yes  O produto é otimo . Porém a entrega não foi sa...   \n",
            "167                   Yes  Atendeu minhas expectativas quanto a qualidade...   \n",
            "168                   Yes  gostei de tudo desde a compra até a entrega, o...   \n",
            "169                   Yes  Gostei do produto e da rapidez da entrega. Obr...   \n",
            "170                   Yes  Entrega foi muito rápida, produto muito bem em...   \n",
            "\n",
            "     reviewer_birth_year reviewer_gender reviewer_state  review_sobre_entrega  \\\n",
            "0                 1996.0               M             MG                  True   \n",
            "1                 1968.0               M             SP                  True   \n",
            "2                 1996.0               M             PB                  True   \n",
            "3                 1984.0               F             CE                  True   \n",
            "4                 1982.0               M             SP                  True   \n",
            "..                   ...             ...            ...                   ...   \n",
            "166               1984.0               M             GO                  True   \n",
            "167               1965.0               M             PR                  True   \n",
            "168               1962.0               M             RJ                  True   \n",
            "169               1981.0               F             SP                  True   \n",
            "170                  NaN             NaN            NaN                  True   \n",
            "\n",
            "    review_sobre_a_entrega  Unnamed: 0  \n",
            "0                      Não         NaN  \n",
            "1                      Não         NaN  \n",
            "2                      SIM         NaN  \n",
            "3                      Sim         NaN  \n",
            "4                      SIM         NaN  \n",
            "..                     ...         ...  \n",
            "166                    SIM     93814.0  \n",
            "167                    SIM    107057.0  \n",
            "168                    NÃO    126910.0  \n",
            "169                    SIM     42163.0  \n",
            "170                    SIM     66172.0  \n",
            "\n",
            "[171 rows x 18 columns]\n"
          ]
        }
      ],
      "source": [
        "import pandas as pd\n",
        "df1 = pd.read_excel('/content/RECIFE - test_reviews_livros.xlsx')\n",
        "df2 = pd.read_excel('/content/FLORIPA - test_reviews_livros.xlsx')\n",
        "df3 = pd.read_excel('/content/SP - test_reviews_livros.xlsx')\n",
        "\n",
        "df_combined = pd.concat([df1, df2, df3], ignore_index=True)\n",
        "\n",
        "print(df_combined)\n"
      ]
    },
    {
      "cell_type": "code",
      "source": [
        "df_combined['review_sobre_a_entrega'] = df_combined['review_sobre_a_entrega'].str.upper()\n",
        "df_combined['review_sobre_a_entrega'] = df_combined['review_sobre_a_entrega'].replace('não', 'NAO')\n",
        "df_combined['review_sobre_a_entrega'] = df_combined['review_sobre_a_entrega'].replace('AMBIGUO', 'unclear')\n",
        "print(df_combined['review_sobre_a_entrega'])"
      ],
      "metadata": {
        "colab": {
          "base_uri": "https://localhost:8080/"
        },
        "id": "OX0AFuzjT4HG",
        "outputId": "60a3c36f-6886-4772-d62c-e3450c741d9b"
      },
      "execution_count": 17,
      "outputs": [
        {
          "output_type": "stream",
          "name": "stdout",
          "text": [
            "0      NÃO\n",
            "1      NÃO\n",
            "2      SIM\n",
            "3      SIM\n",
            "4      SIM\n",
            "      ... \n",
            "166    SIM\n",
            "167    SIM\n",
            "168    NÃO\n",
            "169    SIM\n",
            "170    SIM\n",
            "Name: review_sobre_a_entrega, Length: 171, dtype: object\n"
          ]
        }
      ]
    },
    {
      "cell_type": "code",
      "source": [
        "map_boolean = {'sim': True, 'não': False}\n",
        "df_combined['review_sobre_a_entrega'] = df_combined['review_sobre_a_entrega'].map(map_boolean).fillna(df_combined['review_sobre_a_entrega'])\n",
        "\n",
        "print(df_combined['review_sobre_a_entrega'])\n"
      ],
      "metadata": {
        "colab": {
          "base_uri": "https://localhost:8080/"
        },
        "id": "13-mojFBVlho",
        "outputId": "8aff0487-c512-4468-9c4d-711c9d286782"
      },
      "execution_count": 18,
      "outputs": [
        {
          "output_type": "stream",
          "name": "stdout",
          "text": [
            "0      NÃO\n",
            "1      NÃO\n",
            "2      SIM\n",
            "3      SIM\n",
            "4      SIM\n",
            "      ... \n",
            "166    SIM\n",
            "167    SIM\n",
            "168    NÃO\n",
            "169    SIM\n",
            "170    SIM\n",
            "Name: review_sobre_a_entrega, Length: 171, dtype: object\n"
          ]
        }
      ]
    }
  ]
}