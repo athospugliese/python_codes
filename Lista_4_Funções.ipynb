{
  "cells": [
    {
      "cell_type": "markdown",
      "metadata": {
        "id": "view-in-github",
        "colab_type": "text"
      },
      "source": [
        "<a href=\"https://colab.research.google.com/github/athospugliesedev/python_codes/blob/main/Lista_4_Fun%C3%A7%C3%B5es.ipynb\" target=\"_parent\"><img src=\"https://colab.research.google.com/assets/colab-badge.svg\" alt=\"Open In Colab\"/></a>"
      ]
    },
    {
      "cell_type": "markdown",
      "id": "321de7ba",
      "metadata": {
        "id": "321de7ba"
      },
      "source": [
        "# Funções"
      ]
    },
    {
      "cell_type": "markdown",
      "id": "ce7b04a5",
      "metadata": {
        "id": "ce7b04a5"
      },
      "source": [
        "Uma função em Python é uma sequência de códigos que possui nome próprio, executa tarefas específicas e evita repetição de código, podendo ser chamada pelo seu nome. Há funções já determinadas como print() e input(), entretanto, nesta lista de exercícios criaremos nossas próprias funções!"
      ]
    },
    {
      "cell_type": "markdown",
      "id": "3845636a",
      "metadata": {
        "id": "3845636a"
      },
      "source": [
        "Você adicionou o curso de Python da FEA.Dev em seu currículo e foi contratado como estagiário da empresa HelloWorld. Parabéns! Sua tarefa na empresa é automatizar o máximo de processos possíveis e, para isso, precisará criar muitas funções facilitadoras.\n",
        "\n",
        "Começaremos com dois exemplos básicos apenas como demonstração."
      ]
    },
    {
      "cell_type": "code",
      "execution_count": 1,
      "id": "bcc560ce",
      "metadata": {
        "id": "bcc560ce",
        "outputId": "d8491ba4-ba6d-4efd-9360-9845ac6b15de",
        "scrolled": false,
        "colab": {
          "base_uri": "https://localhost:8080/"
        }
      },
      "outputs": [
        {
          "output_type": "stream",
          "name": "stdout",
          "text": [
            "hello, world!\n",
            "12\n"
          ]
        }
      ],
      "source": [
        "def slogan():\n",
        "    print('hello, world!')\n",
        "\n",
        "#função com parâmetros e retornando um valor\n",
        "def soma(a, b):\n",
        "    print (a + b)\n",
        "\n",
        "slogan()\n",
        "\n",
        "#5 e 7 são argumentos da função soma\n",
        "soma(5, 7)\n"
      ]
    },
    {
      "cell_type": "markdown",
      "id": "74f3ecfd",
      "metadata": {
        "id": "74f3ecfd"
      },
      "source": [
        "# <font >Exercício 1: Parâmetros Opcionais </font>"
      ]
    },
    {
      "cell_type": "markdown",
      "id": "f5a20261",
      "metadata": {
        "id": "f5a20261"
      },
      "source": [
        "Observando o departamento de contabilidade da HelloWorld, você percebeu que os funcionários passam o dia multiplicando valores e, como um bom programador, resolveu tornar esse processo mais eficiente. Desenvolva a função *mult*, que retorna a multiplicação dos parâmetros a, b, c e d. Porém, a função não precisa necessariamente receber os 4 argumentos. Caso um parâmetro não receba um argumento, ele deve valer 1."
      ]
    },
    {
      "cell_type": "code",
      "execution_count": 2,
      "id": "6b68ecb8",
      "metadata": {
        "id": "6b68ecb8"
      },
      "outputs": [],
      "source": [
        "##### SEU CODIGO COMEÇA AQUI #####\n",
        "\n",
        "def mult(a=1, b=1, c=1, d=1):\n",
        "    return a*b*c*d\n"
      ]
    },
    {
      "cell_type": "code",
      "source": [],
      "metadata": {
        "id": "Qs3cHlGwgI9b"
      },
      "id": "Qs3cHlGwgI9b",
      "execution_count": null,
      "outputs": []
    },
    {
      "cell_type": "markdown",
      "id": "b2b34c1b",
      "metadata": {
        "id": "b2b34c1b"
      },
      "source": [
        "# <font >Exercício 2: Return X Print </font>"
      ]
    },
    {
      "cell_type": "markdown",
      "id": "4bfa7d1f",
      "metadata": {
        "id": "4bfa7d1f"
      },
      "source": [
        "Antes de tudo, rode todas as células do Colab\n",
        "1.   Item da lista\n",
        "2.   Item da lista\n",
        "\n",
        "\n",
        "\n",
        "O CEO da HelloWorld está desesperado, pois não consegue solucionar um erro de código que está impedindo a empresa de continuar funcionando. Assim, ele te ligou para ajudá-lo a corrigir tal erro.\n",
        "Rode o código abaixo para identificar o erro."
      ]
    },
    {
      "cell_type": "code",
      "execution_count": 3,
      "id": "ae60c242",
      "metadata": {
        "id": "ae60c242",
        "outputId": "93a33220-52d7-4886-f6b7-8d72c5a96093",
        "scrolled": true,
        "colab": {
          "base_uri": "https://localhost:8080/",
          "height": 245
        }
      },
      "outputs": [
        {
          "output_type": "stream",
          "name": "stdout",
          "text": [
            "10\n"
          ]
        },
        {
          "output_type": "error",
          "ename": "TypeError",
          "evalue": "unsupported operand type(s) for *: 'NoneType' and 'int'",
          "traceback": [
            "\u001b[0;31m---------------------------------------------------------------------------\u001b[0m",
            "\u001b[0;31mTypeError\u001b[0m                                 Traceback (most recent call last)",
            "\u001b[0;32m<ipython-input-3-d58fef185387>\u001b[0m in \u001b[0;36m<cell line: 1>\u001b[0;34m()\u001b[0m\n\u001b[0;32m----> 1\u001b[0;31m \u001b[0mmult\u001b[0m\u001b[0;34m(\u001b[0m\u001b[0msoma\u001b[0m\u001b[0;34m(\u001b[0m\u001b[0;36m5\u001b[0m\u001b[0;34m,\u001b[0m \u001b[0;36m5\u001b[0m\u001b[0;34m)\u001b[0m\u001b[0;34m,\u001b[0m \u001b[0;36m10\u001b[0m\u001b[0;34m)\u001b[0m\u001b[0;34m\u001b[0m\u001b[0;34m\u001b[0m\u001b[0m\n\u001b[0m",
            "\u001b[0;32m<ipython-input-2-0e0f701cf3e3>\u001b[0m in \u001b[0;36mmult\u001b[0;34m(a, b, c, d)\u001b[0m\n\u001b[1;32m      2\u001b[0m \u001b[0;34m\u001b[0m\u001b[0m\n\u001b[1;32m      3\u001b[0m \u001b[0;32mdef\u001b[0m \u001b[0mmult\u001b[0m\u001b[0;34m(\u001b[0m\u001b[0ma\u001b[0m\u001b[0;34m=\u001b[0m\u001b[0;36m1\u001b[0m\u001b[0;34m,\u001b[0m \u001b[0mb\u001b[0m\u001b[0;34m=\u001b[0m\u001b[0;36m1\u001b[0m\u001b[0;34m,\u001b[0m \u001b[0mc\u001b[0m\u001b[0;34m=\u001b[0m\u001b[0;36m1\u001b[0m\u001b[0;34m,\u001b[0m \u001b[0md\u001b[0m\u001b[0;34m=\u001b[0m\u001b[0;36m1\u001b[0m\u001b[0;34m)\u001b[0m\u001b[0;34m:\u001b[0m\u001b[0;34m\u001b[0m\u001b[0;34m\u001b[0m\u001b[0m\n\u001b[0;32m----> 4\u001b[0;31m     \u001b[0;32mreturn\u001b[0m \u001b[0ma\u001b[0m\u001b[0;34m*\u001b[0m\u001b[0mb\u001b[0m\u001b[0;34m*\u001b[0m\u001b[0mc\u001b[0m\u001b[0;34m*\u001b[0m\u001b[0md\u001b[0m\u001b[0;34m\u001b[0m\u001b[0;34m\u001b[0m\u001b[0m\n\u001b[0m",
            "\u001b[0;31mTypeError\u001b[0m: unsupported operand type(s) for *: 'NoneType' and 'int'"
          ]
        }
      ],
      "source": [
        "mult(soma(5, 5), 10)\n"
      ]
    },
    {
      "cell_type": "markdown",
      "id": "6f2193b5",
      "metadata": {
        "id": "6f2193b5"
      },
      "source": [
        "Reescreva a função soma para que o erro não ocorra. Lembre-se da diferença entre retornar um valor e imprimir um valor."
      ]
    },
    {
      "cell_type": "code",
      "execution_count": 4,
      "id": "07b9a948",
      "metadata": {
        "id": "07b9a948",
        "outputId": "e368da77-795f-4499-fe19-9db30bd6b1ba",
        "colab": {
          "base_uri": "https://localhost:8080/"
        }
      },
      "outputs": [
        {
          "output_type": "execute_result",
          "data": {
            "text/plain": [
              "100"
            ]
          },
          "metadata": {},
          "execution_count": 4
        }
      ],
      "source": [
        "def soma(a,b):\n",
        "    return a+b\n",
        "mult(soma(5, 5), 10)"
      ]
    },
    {
      "cell_type": "markdown",
      "id": "b9709749",
      "metadata": {
        "id": "b9709749"
      },
      "source": [
        "# <font >Exercício 3: Docstring </font>"
      ]
    },
    {
      "cell_type": "markdown",
      "id": "229efff7",
      "metadata": {
        "id": "229efff7"
      },
      "source": [
        "As funções, que permitem automatização dos procedimentos, são amplamente utilizadas pelos analistas de dados no mercado financeiro.\n",
        "Conversando com um analista da HelloWorld, você descobriu que a empresa opta por investir em um ativo, caso o quadrado da soma do retorno esperado e da liquidez do ativo seja maior que 50.\n",
        "\n",
        "Escreva a função inv, que recebe os valores ret e liq e imprime \"Investir\" ou \"Não investir\" de acordo com a estratégia da empresa."
      ]
    },
    {
      "cell_type": "code",
      "execution_count": 5,
      "id": "167b7af6",
      "metadata": {
        "id": "167b7af6"
      },
      "outputs": [],
      "source": [
        "##### SEU CODIGO COMEÇA AQUI #####\n",
        "def inv(ret, liq):\n",
        "    if (ret+liq)**2 > 50:\n",
        "        print('Investir')\n",
        "    else:\n",
        "        print('Não investir')\n",
        "\n"
      ]
    },
    {
      "cell_type": "markdown",
      "id": "c771fa4b",
      "metadata": {
        "id": "c771fa4b"
      },
      "source": [
        "Você apenas trabalha em dias úteis, porém a HelloWorld não pode parar.\n",
        "\n",
        "Assim, o programador Jorge foi contratado para assumir seu cargo durante o final de semana. Sábado a tarde, você está curtindo uma piscina com seus amigos e recebe uma ligação do Jorge dizendo que não entendeu a utilidade da função inv.\n",
        "\n",
        "Reescreva a função inv acrescentando uma docstring que explique o que a função faz. Para isso utilize o seguinte modelo: \"\"\"explicação\"\"\".\n",
        "\n",
        "Para checar se a docstring foi adicionada no jupyter, use help(inv) ou clique na função e pressione shif+tab."
      ]
    },
    {
      "cell_type": "code",
      "execution_count": 6,
      "id": "cc0971d7",
      "metadata": {
        "id": "cc0971d7",
        "outputId": "5e3c1a5e-9efa-4bc8-ee18-f191c48a0901",
        "colab": {
          "base_uri": "https://localhost:8080/"
        }
      },
      "outputs": [
        {
          "output_type": "stream",
          "name": "stdout",
          "text": [
            "Help on function inv in module __main__:\n",
            "\n",
            "inv(ret, liq)\n",
            "    esta função determina se a empresa deve ou não investir no ativo, baseando-se no retorno esperado e liquidez do ativo\n",
            "\n"
          ]
        }
      ],
      "source": [
        "##### SEU CODIGO COMEÇA AQUI #####\n",
        "\n",
        "def inv(ret, liq):\n",
        "    \"\"\"esta função determina se a empresa deve ou não investir no ativo, baseando-se no retorno esperado e liquidez do ativo\"\"\"\n",
        "    if (ret+liq)**2 > 50:\n",
        "        print('Investir')\n",
        "    else:\n",
        "        print('Não investir')\n",
        "help(inv)\n"
      ]
    },
    {
      "cell_type": "markdown",
      "id": "fa818778",
      "metadata": {
        "id": "fa818778"
      },
      "source": [
        "# <font >Exercício 4: Importação </font>"
      ]
    },
    {
      "cell_type": "markdown",
      "id": "711e6630",
      "metadata": {
        "id": "711e6630"
      },
      "source": [
        "Para calcular o risco de certos investimentos, a HelloWorld utiliza conceitos de probabilidade, cuja a maioria é baseada em contas com fatoriais. Visto isso, para acelerar o processo de contas, você foi requisitado para criar a função **\"fatorial\"** que calcula o fatorial de um número n."
      ]
    },
    {
      "cell_type": "code",
      "execution_count": 7,
      "id": "f875e792",
      "metadata": {
        "id": "f875e792"
      },
      "outputs": [],
      "source": [
        "def fatorial(n):\n",
        "    fatorial=1\n",
        "    while n>1:\n",
        "        fatorial=fatorial*n\n",
        "        n=n-1\n",
        "    return fatorial\n"
      ]
    },
    {
      "cell_type": "markdown",
      "id": "2501260f",
      "metadata": {
        "id": "2501260f"
      },
      "source": [
        "Um dos benefícios da linguagem Python é a possibilidade de importação de bibliotecas de funções prédefinidas.\n",
        "\n",
        "Importe a função factorial do módulo math e utilize-a para testar seu código acima."
      ]
    },
    {
      "cell_type": "code",
      "execution_count": 8,
      "id": "4e08942c",
      "metadata": {
        "id": "4e08942c",
        "outputId": "0a0d3ad8-055c-4fe0-a1c5-682fd66cca62",
        "colab": {
          "base_uri": "https://localhost:8080/"
        }
      },
      "outputs": [
        {
          "output_type": "execute_result",
          "data": {
            "text/plain": [
              "120"
            ]
          },
          "metadata": {},
          "execution_count": 8
        }
      ],
      "source": [
        "from math import factorial\n",
        "factorial(5)\n"
      ]
    },
    {
      "cell_type": "markdown",
      "id": "ea4df823",
      "metadata": {
        "id": "ea4df823"
      },
      "source": [
        "# <font >Exercício 5: Recursão </font>"
      ]
    },
    {
      "cell_type": "markdown",
      "id": "a94722da",
      "metadata": {
        "id": "a94722da"
      },
      "source": [
        "Um dos trabalhos mais cansativos e repetitivos da HelloWorld fundamenta-se na soma de capitais provenientes de diferentes fontes resultando no capital total da empresa. Para solucionar esse problema, o seguinte código foi desenvolvido:"
      ]
    },
    {
      "cell_type": "code",
      "execution_count": 9,
      "id": "b928df09",
      "metadata": {
        "id": "b928df09",
        "outputId": "874c129d-a595-4d8a-fcd2-4d97c1e798aa",
        "colab": {
          "base_uri": "https://localhost:8080/"
        }
      },
      "outputs": [
        {
          "output_type": "execute_result",
          "data": {
            "text/plain": [
              "10"
            ]
          },
          "metadata": {},
          "execution_count": 9
        }
      ],
      "source": [
        "capitais=[1,2,3,4]\n",
        "\n",
        "def soma_lista(lista):\n",
        "    j=0\n",
        "    for i in lista:\n",
        "        j+=i\n",
        "    return j\n",
        "\n",
        "soma_lista(capitais)"
      ]
    },
    {
      "cell_type": "markdown",
      "id": "7df4d24f",
      "metadata": {
        "id": "7df4d24f"
      },
      "source": [
        "Crie a função soma_capitais de maneira que nenhum laço de repetição, como for e while, seja usado. Lembre-se que uma função pode retornar ela mesma com um argumento diferente."
      ]
    },
    {
      "cell_type": "code",
      "execution_count": 10,
      "id": "8c5cd1e8",
      "metadata": {
        "id": "8c5cd1e8",
        "outputId": "941740ce-3ed0-41c5-d9f9-fa6d9de3a1f9",
        "colab": {
          "base_uri": "https://localhost:8080/"
        }
      },
      "outputs": [
        {
          "output_type": "stream",
          "name": "stdout",
          "text": [
            "10\n"
          ]
        },
        {
          "output_type": "execute_result",
          "data": {
            "text/plain": [
              "10"
            ]
          },
          "metadata": {},
          "execution_count": 10
        }
      ],
      "source": [
        "##### SEU CODIGO COMEÇA AQUI #####\n",
        "\n",
        "# use o comando -->\n",
        "def soma_capitais(lista):\n",
        "    if len(lista) == 1:\n",
        "        return lista[0]\n",
        "    else:\n",
        "        return lista[0] + soma_capitais(lista[1:])\n",
        "\n",
        "#OU\n",
        "capitais2=[1,2,3,4]\n",
        "def soma_capitais2(lista):\n",
        "    tamanho=len(lista)\n",
        "    if tamanho==1:\n",
        "        return lista[0]\n",
        "    else:\n",
        "        lista[tamanho-2]=lista[tamanho-2]+lista[tamanho-1]\n",
        "        return soma_capitais2(lista[0:tamanho-1])\n",
        "print(soma_capitais2(capitais2))\n",
        "soma_capitais(capitais)"
      ]
    },
    {
      "cell_type": "markdown",
      "id": "41304971",
      "metadata": {
        "id": "41304971"
      },
      "source": [
        "Parabéns! Você passou pelos principais tópicos relacionados a funções em Python e se provou o funcionário do mês da HelloWorld!"
      ]
    },
    {
      "cell_type": "code",
      "execution_count": null,
      "id": "CckiXM63M1gf",
      "metadata": {
        "id": "CckiXM63M1gf"
      },
      "outputs": [],
      "source": [
        "def comparar(x,y):\n",
        "  if x<y:\n",
        "    return x\n",
        "  else:\n",
        "    return y"
      ]
    },
    {
      "cell_type": "code",
      "execution_count": null,
      "id": "QMA9uWgoP0qO",
      "metadata": {
        "id": "QMA9uWgoP0qO"
      },
      "outputs": [],
      "source": [
        "def dolar_real(dolar):\n",
        "  return dolar * 5.4\n",
        "\n",
        "def euro_real(euro):\n",
        "  return euro * 5.6"
      ]
    },
    {
      "cell_type": "code",
      "execution_count": null,
      "id": "8HBxIHqkO151",
      "metadata": {
        "colab": {
          "base_uri": "https://localhost:8080/"
        },
        "id": "8HBxIHqkO151",
        "outputId": "3cf0d669-beef-4bad-a6bd-9bdc4b402c7a"
      },
      "outputs": [
        {
          "output_type": "execute_result",
          "data": {
            "text/plain": [
              "12880.0"
            ]
          },
          "metadata": {},
          "execution_count": 10
        }
      ],
      "source": [
        "melhores_precos_eua = [3000, 2600,2500]\n",
        "melhores_precos_europa = [2700, 2900, 2300]\n",
        "\n",
        "\n",
        "def escolher():\n",
        "  preco_eua = min(melhores_precos_eua)\n",
        "  preco_europa = min(melhores_precos_europa)\n",
        "  return comparar(dolar_real(preco_eua), euro_real(preco_europa))\n",
        "\n",
        "escolher()"
      ]
    },
    {
      "cell_type": "markdown",
      "id": "a3703b2f",
      "metadata": {
        "id": "a3703b2f"
      },
      "source": [
        "# <font >Exercícios Extras para treinar!</font>"
      ]
    },
    {
      "cell_type": "markdown",
      "id": "8da63bde",
      "metadata": {
        "id": "8da63bde"
      },
      "source": [
        "1) Faça uma função que receba um número inteiro e retorne se ele é um número primo ou não."
      ]
    },
    {
      "cell_type": "code",
      "execution_count": null,
      "id": "ce0c1ce0",
      "metadata": {
        "id": "ce0c1ce0",
        "outputId": "40b591fb-c577-4c5d-8912-2ea31dc1f428",
        "colab": {
          "base_uri": "https://localhost:8080/"
        }
      },
      "outputs": [
        {
          "output_type": "stream",
          "name": "stdout",
          "text": [
            "17 é um número primo!\n"
          ]
        }
      ],
      "source": [
        "# 1º Método\n",
        "\n",
        "def num_primo(x):\n",
        "    primo = True\n",
        "\n",
        "    for i in range(2, x):\n",
        "        if x % i == 0:\n",
        "            primo = False\n",
        "            break\n",
        "\n",
        "    if primo == False:\n",
        "        print(x, \"não é um número primo\")\n",
        "    else:\n",
        "        print(x, \"é um número primo!\")\n",
        "\n",
        "# Exemplo: x = 17\n",
        "\n",
        "num_primo(17)"
      ]
    },
    {
      "cell_type": "code",
      "execution_count": null,
      "id": "9100400b",
      "metadata": {
        "id": "9100400b"
      },
      "outputs": [],
      "source": [
        "### Resolução usando While ###\n",
        "\n",
        "number = int(input(\"Digite um número: \"))\n",
        "\n",
        "def prime(n):\n",
        "    # Setando variável de controle = 0\n",
        "    count = 0\n",
        "\n",
        "    # Se input for igual a 1 já define a variável de controle para 2, segundo a lógica do programa siginfica que é um nº primo\n",
        "    if n == 1:\n",
        "        count = 2\n",
        "    else:\n",
        "        # Declarando a variável i\n",
        "        i = 1\n",
        "        # Lógica do loop while: enquanto \"i\" for menor ou igual a \"n\", testa todos os números de 1 até o número inserido\n",
        "        # caso o resto da divisão entre o número atual e i seja \"0\" acrescenta +1 na variável \"count\"\n",
        "        # É normal ficar confuso quando não se tem muita familiaridade, qualquer dúvida podem entrar em contato conosco\n",
        "        while  i <= n:\n",
        "            if n % i == 0:\n",
        "                count += 1\n",
        "            i += 1\n",
        "\n",
        "    if count == 2:\n",
        "        print(f\"O número {n} é primo\")\n",
        "    else:\n",
        "        print(f\"O número {n} NÃO é primo\")\n",
        "\n",
        "# Chama Função\n",
        "prime(number)\n"
      ]
    },
    {
      "cell_type": "code",
      "execution_count": null,
      "id": "e76eb49f",
      "metadata": {
        "id": "e76eb49f"
      },
      "outputs": [],
      "source": [
        "# Usando range\n",
        "\n",
        "n = int(input(\"Digite um número:\"))\n",
        "#n = 1\n",
        "start = 1\n",
        "\n",
        "def prime (n):\n",
        "    count = 0\n",
        "\n",
        "    if n == 1:\n",
        "        count = 2\n",
        "    else:\n",
        "        for i in range(start, n + 1):\n",
        "            if n % i == 0:\n",
        "                count += 1\n",
        "\n",
        "    if count == 2:\n",
        "        print(f\"O número {n} é primo\")\n",
        "    else:\n",
        "        print(f\"O número {n} NÃO é primo\")\n",
        "\n",
        "prime(n)"
      ]
    },
    {
      "cell_type": "markdown",
      "id": "a4db8a6e",
      "metadata": {
        "id": "a4db8a6e"
      },
      "source": [
        "2) Crie uma função que calcule o x da fórmula de Bhaskara.\n",
        "\n",
        "    A função deverá ter 3 argumentos nomeados como \"a\", \"b\" e \"c\" e retornar o valor do x\n",
        "\n",
        "<img src='https://images.educamaisbrasil.com.br/content/banco_de_imagens/guia-de-estudo/D/formula-bhaskara-matematica.jpg' height=\"100%\" width=\"350\" style=\"margin-left: auto;margin-right: auto\">"
      ]
    },
    {
      "cell_type": "code",
      "execution_count": null,
      "id": "62969c02",
      "metadata": {
        "id": "62969c02"
      },
      "outputs": [],
      "source": [
        "import numpy as np # Iremos usar a função np.sqrt() para a raiz quadrada, mas delta**(1/2) também seria possível\n",
        "\n",
        "def bhaskara(a, b, c):\n",
        "    delta = (b**2 - 4*a*c)\n",
        "\n",
        "    x = [(-b + np.sqrt(delta))/2*a, (-b - np.sqrt(delta))/2*a] # Uma lista para retornar tanto -b + delta e -b - delta\n",
        "\n",
        "    return x\n",
        "\n",
        "# Exemplo: x² - 2x - 3\n",
        "\n",
        "print(bhaskara(1, -2, -3))"
      ]
    },
    {
      "cell_type": "code",
      "execution_count": null,
      "id": "e24542c3",
      "metadata": {
        "id": "e24542c3"
      },
      "outputs": [],
      "source": [
        "### 2º método ### Poderíamos ainda prever se o número será real ou não, assim como existem inúmeros fatores para deixar\n",
        "# código mais \"poderoso\"\n",
        "\n",
        "# Declaração de variáveis\n",
        "a = float(input(\"Digite o termo 'a': \"))\n",
        "b = float(input(\"Digite o termo 'b': \"))\n",
        "c = float(input(\"Digite o termo 'c': \"))\n",
        "\n",
        "# Fazer docstring\n",
        "def bhaskara (a, b, c):\n",
        "    x1 = (-b + (b**2 - 4*a*c)**(1/2))/(2*a)\n",
        "    x2 = (-b - (b**2 - 4*a*c)**(1/2))/(2*a)\n",
        "\n",
        "    return x1, x2\n",
        "\n",
        "# Chamando a função e armazenando os resultados nas variáveis x1 e x2\n",
        "x1, x2 = bhaskara(a, b, c)\n",
        "\n",
        "# Resposta\n",
        "print(f\"x1: {x1:5}\\nx2: {x2:5}\")"
      ]
    },
    {
      "cell_type": "markdown",
      "id": "373058ba",
      "metadata": {
        "id": "373058ba"
      },
      "source": [
        "3) Crie uma função que receba um texto (string) e conte a quantidade de espaços contidos nele."
      ]
    },
    {
      "cell_type": "code",
      "execution_count": null,
      "id": "7879c28f",
      "metadata": {
        "id": "7879c28f"
      },
      "outputs": [],
      "source": [
        "#1º Método:\n",
        "def whitespace(string):\n",
        "    num = 0\n",
        "\n",
        "    for i in range(0, len(string)):\n",
        "        if string[i] == \" \":\n",
        "            num += 1\n",
        "\n",
        "    return num\n",
        "\n",
        "# Exemplo: string = \"teste do meu código\"\n",
        "\n",
        "print(whitespace(\"teste do meu código\"))"
      ]
    },
    {
      "cell_type": "code",
      "execution_count": null,
      "id": "f5305932",
      "metadata": {
        "id": "f5305932"
      },
      "outputs": [],
      "source": [
        "# 2º Método:\n",
        "\n",
        "#frase = \"a b c\"\n",
        "frase = str(input(\"Digite uma frase qualquer: \"))\n",
        "\n",
        "def count_spaces(n):\n",
        "    count = n.count(\" \")\n",
        "    print(f\"A frase possui {count} espaços\")\n",
        "\n",
        "contagem = count_spaces(frase)"
      ]
    },
    {
      "cell_type": "markdown",
      "id": "25e556da",
      "metadata": {
        "id": "25e556da"
      },
      "source": [
        "4) Neste exercício, criaremos duas funções que serão chamadas dentro de uma outra função, a qual daremos o nome de \"main\".\n",
        "\n",
        "    a) Crie uma função chamada media_final que retorne a média de um aluno conforme o critério:\n",
        "            Média Final = 0,3 * P1 + 0,5 * P2 + 0,2 * Trab"
      ]
    },
    {
      "cell_type": "code",
      "execution_count": null,
      "id": "ad303c43",
      "metadata": {
        "id": "ad303c43"
      },
      "outputs": [],
      "source": [
        "def media_final(P1, P2, T):\n",
        "\n",
        "    return 0.3*P1 + 0.5*P2 + 0.2*T\n",
        "\n",
        "# Exemplo: 5 bola na P1, 7 no trabalho e 9 na P2\n",
        "\n",
        "print(media_final(5, 9, 7))"
      ]
    },
    {
      "cell_type": "markdown",
      "id": "ab34a4de",
      "metadata": {
        "id": "ab34a4de"
      },
      "source": [
        "   b) Agora crie uma nova função que receba a Média Final e retorne o status do aluno:\n",
        "   \n",
        "            Média Final >= 7: Aprovado\n",
        "            Média Final >= 5 e <7: Recuperação\n",
        "            Média Final < 5: Reprovado"
      ]
    },
    {
      "cell_type": "code",
      "execution_count": null,
      "id": "74cb4d4c",
      "metadata": {
        "id": "74cb4d4c"
      },
      "outputs": [],
      "source": [
        "def aprovado(media_final):\n",
        "    if media_final >= 7:\n",
        "        return \"Aprovado!\"\n",
        "    elif media_final >= 5 and media_final < 7:\n",
        "        return \"Recuperação\"\n",
        "    else:\n",
        "        return \"Reprovado :/\"\n",
        "\n",
        "# Exemplo: 5 bola na P1, 7 no trabalho e 9 na P2\n",
        "\n",
        "aprovado(media_final(5, 9, 7)) # Reutilizando a função que já fizemos"
      ]
    },
    {
      "cell_type": "markdown",
      "id": "edd0411a",
      "metadata": {
        "id": "edd0411a"
      },
      "source": [
        " c) Por fim, vamos criar a nossa função main, a qual irá utilizar as funções criadas anteriormente."
      ]
    },
    {
      "cell_type": "code",
      "execution_count": null,
      "id": "ced9ad17",
      "metadata": {
        "id": "ced9ad17"
      },
      "outputs": [],
      "source": [
        "### Seu código começa aqui ###\n",
        "\n",
        "def main(P1, P2, T):\n",
        "    \"\"\"\n",
        "    Esta função retorna a média do aluno e seu status na disciplina\n",
        "    P1: float\n",
        "    P2: float\n",
        "    T:  float\n",
        "    return: string\n",
        "    \"\"\"\n",
        "\n",
        "    med_fin = media_final(P1, P2, T)\n",
        "\n",
        "    status = aprovado(med_fin)\n",
        "\n",
        "    txt = \" A média final do aluno é: {0} \\n O status do aluno é: {1}\".format(med_fin, status)\n",
        "\n",
        "    return print(txt)\n",
        "\n",
        "# Exemplo: 5 bola na P1, 7 no trabalho e 9 na P2\n",
        "\n",
        "main(5, 9, 7)"
      ]
    },
    {
      "cell_type": "markdown",
      "id": "37824129",
      "metadata": {
        "id": "37824129"
      },
      "source": [
        "5)\n",
        "|QUESTÃO ADAPTADA MAC113 - FEA - Professores : Ana C V de Melo e Alexandre Locci |\n",
        "\n",
        "\n",
        "Após o período de festas você arruma um emprego em um bar pertencente a *holding* do Papai Noel (ele se aproveita da sazonalidade de seu trabalho e da ausência de leis trabalhistas no Polo Norte para demití-lo de seu emprego como *Data Scientist*).\n",
        "\n",
        "No bar todos os clientes possuem direito a pagar fiado com limite de **R$ 50,00**, ou seja, podem comprar refeições além da quantia em sua carteira no momento desde que não ultrapasse esse limite. Dependendo da situação do cliente e da conta que ele deverá pagar, ele poderá obter uma das seguintes situações:\n",
        "\n",
        "\n",
        "1. ‘PAGAMENTO ACEITO’: se o cliente possui saldo suficiente para efetuar o saque,\n",
        "\n",
        "2. ‘FIADO’: se o saldo do cliente junto com o valor disponível em fiado é suficiente\n",
        "para efetuar o pagamento, ou\n",
        "\n",
        "3. ‘QUANTIA INSUFICIENTE’: se o saldo do cliente junto com o valor disponível em fiado NÃO é suficiente para efetuar o saque.\n",
        "&nbsp;\n",
        "&nbsp;\n",
        "\n",
        "<img src=https://i.ibb.co/T8fZZ9j/57a776db766ee8c1077b23c6-w800.jpg>\n",
        "\n",
        "Como você é um *data scientist* nato você não pode fugir de sua natureza e decide fazer uma pequena análise sobre o poder financeiro dos consumidores do bar do Sr. Noel. Você decide criar uma função chamada `poder_consumidor` que receba como argumento:\n",
        "\n",
        "- O Nome do Cliente (str)\n",
        "\n",
        "- Dinheiro na carteira do cliente (float)\n",
        "\n",
        "- Valor do pagamento\n",
        "\n",
        "Usando a função do item anterior, seu programa retornará um print:\n",
        "\n",
        "A-B: C\n",
        "\n",
        "Onde:\n",
        "– A – Nome do cliente;\n",
        "– B – ‘PAGAMENTO ACEITO’, ‘FIADO’ ou ‘QUANTIA INSUFICIENTE’;\n",
        "– C – Dinheiro na carteira do cliente após o pagamento\n",
        "\n",
        "Observe que quando a transação tem o status ‘QUANTIA INSUFICIENTE’, o saldo continua o mesmo já que não poderá ser debitado. No caso do status \"FIADO\" o dinheiro restante na carteira do cliente será negativa."
      ]
    },
    {
      "cell_type": "code",
      "execution_count": null,
      "id": "64edde41",
      "metadata": {
        "id": "64edde41"
      },
      "outputs": [],
      "source": [
        "limite_fiado = 50\n",
        "\n",
        "def poder_consumidor(nome, carteira, pagamento):\n",
        "\n",
        "    if pagamento <= carteira:                  # Consumidor tem o valor necessário para realizar o pagamento\n",
        "        resultado = \"PAGAMENTO ACEITO\"\n",
        "        saldo = carteira - pagamento\n",
        "    elif pagamento <= carteira + limite_fiado: # Consumidor quer realizar um pagamento dentro do limite do fiado\n",
        "        resultado = \"FIADO\"\n",
        "        saldo = carteira - pagamento\n",
        "    else:                                      # Consumidor quer realizar um pagamento fora do limite do fiado\n",
        "        resultado = \"QUANTIA INSUFICIENTE\"\n",
        "        saldo = carteira\n",
        "\n",
        "    print(nome + \"-\" + resultado + \":\", saldo)\n",
        "\n",
        "# Exemplo: Kevyn quer fazer um pagamento de 350 reais com 35 na conta\n",
        "poder_consumidor(\"Kevyn\", 35, 350)\n",
        "\n",
        "# Agora testanto o inverso\n",
        "poder_consumidor(\"Kevyn\", 350, 35)\n"
      ]
    },
    {
      "cell_type": "code",
      "execution_count": null,
      "id": "26e7f77c",
      "metadata": {
        "id": "26e7f77c"
      },
      "outputs": [],
      "source": [
        "# Variação do código anterior:\n",
        "\n",
        "### Seu código começa aqui ###\n",
        "\n",
        "# Variáveis para armazenar as mensagens de status final\n",
        "aceito = \"PAGAMENTO ACEITO!\"\n",
        "fiado = \"FIADO!\"\n",
        "recusado = \"QUANTIA INSUFICIENTE\"\n",
        "\n",
        "# Variável para definir valor limite de fiado\n",
        "limite = - 50\n",
        "\n",
        "# Print por estética\n",
        "print(\"Nome:\" + ' ' * 11 + \"Status:\" + ' ' * 18 + \"Saldo final:\")\n",
        "\n",
        "# Função para checar qual o status e saldo final do cliente\n",
        "def poder_consumidor (nome, money, pg):\n",
        "    # Variável p armazenar o saldo que o comprador fica após ter pago\n",
        "    saldo = float(money - pg)\n",
        "\n",
        "    # Se o saldo restante for maior que 0 então o pagamento foi aceito\n",
        "    if saldo > 0:\n",
        "        status = aceito\n",
        "    # Senão verifica se o saldo que sobrou está entre o limite (-50) e 0, então o pagamento será no fiado\n",
        "    elif saldo >= limite:\n",
        "        status = fiado\n",
        "        # Senão entra na última condição possível, o cliente não tem dinheiro suficiente e a transação não é aprovada\n",
        "    else:\n",
        "        status = recusado\n",
        "        # Como a compra do cliente foi recusada o saldo volta a ser o inicial\n",
        "        saldo = money\n",
        "\n",
        "    # Print da resposta final de cada cliente\n",
        "    print(f\"{nome:15} {status:24} $ {saldo:.2f}\")\n",
        "\n",
        "\n",
        "# TESTES PARA CORREÇÃO\n",
        "poder_consumidor(\"Thomas\", 420, 500)\n",
        "poder_consumidor(\"Ed\", 1240, 1290)\n",
        "poder_consumidor(\"Alice\", 480, 500)\n",
        "poder_consumidor(\"Edu\", 500, 320)"
      ]
    }
  ],
  "metadata": {
    "colab": {
      "provenance": [],
      "include_colab_link": true
    },
    "kernelspec": {
      "display_name": "Python 3 (ipykernel)",
      "language": "python",
      "name": "python3"
    },
    "language_info": {
      "codemirror_mode": {
        "name": "ipython",
        "version": 3
      },
      "file_extension": ".py",
      "mimetype": "text/x-python",
      "name": "python",
      "nbconvert_exporter": "python",
      "pygments_lexer": "ipython3",
      "version": "3.9.12"
    }
  },
  "nbformat": 4,
  "nbformat_minor": 5
}