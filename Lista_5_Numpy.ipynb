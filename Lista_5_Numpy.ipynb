{
  "cells": [
    {
      "cell_type": "markdown",
      "metadata": {
        "id": "view-in-github",
        "colab_type": "text"
      },
      "source": [
        "<a href=\"https://colab.research.google.com/github/athospugliesedev/python_codes/blob/main/Lista_5_Numpy.ipynb\" target=\"_parent\"><img src=\"https://colab.research.google.com/assets/colab-badge.svg\" alt=\"Open In Colab\"/></a>"
      ]
    },
    {
      "cell_type": "markdown",
      "id": "b43aaa0c",
      "metadata": {
        "id": "b43aaa0c"
      },
      "source": [
        "# Numpy"
      ]
    },
    {
      "cell_type": "markdown",
      "id": "fcb03367",
      "metadata": {
        "id": "fcb03367"
      },
      "source": [
        "NumPy é uma biblioteca do Python especializada em computação científica e análise de dados. Ela é usada em diversos tipos de operações que envolvem operações matriciais. Além disso suas matrizes formam a base para outros pacotes, como o pandas e outras voltadas para o cálculo matemático e científico.\n",
        "\n",
        "NumPy, com suas matrizes, apresenta algumas vantagens sobre o cálculo usual com objetos do Python, como listas e tuplas. Essas operações são mais rápidas e flexíveis e foram construídas de forma a evitar a necessidade da realização de laços (loops)."
      ]
    },
    {
      "cell_type": "markdown",
      "id": "fe0a6a2d",
      "metadata": {
        "id": "fe0a6a2d"
      },
      "source": [
        "### <font color=green|black>**Futebol, Finanças e Python** </font>\n",
        "Os exercícios utilizam os dados disponíveis no relatório Convocados da XP: Finanças, História e Mercado do Futebol Brasileiro em 2021. Você verá como é fácil analisar tantos dados quando se entende de Python!\n",
        "#### <font color=green|black>**Bons estudos!**</font>"
      ]
    },
    {
      "cell_type": "markdown",
      "id": "2531e94a",
      "metadata": {
        "id": "2531e94a"
      },
      "source": [
        "# <font >Exercício 0: Importação </font>"
      ]
    },
    {
      "cell_type": "markdown",
      "id": "52473a88",
      "metadata": {
        "id": "52473a88"
      },
      "source": [
        "Utilizaremos diversas arrays, porém, para que o Python as reconheça, você primeiro precisa importar numpy como np."
      ]
    },
    {
      "cell_type": "code",
      "execution_count": null,
      "id": "c925603a",
      "metadata": {
        "id": "c925603a"
      },
      "outputs": [],
      "source": [
        "##### SEU CODIGO COMECA AQUI #####\n",
        "\n",
        "import numpy as np"
      ]
    },
    {
      "cell_type": "markdown",
      "id": "7c31f377",
      "metadata": {
        "id": "7c31f377"
      },
      "source": [
        "# <font >Exercício 1: String </font>"
      ]
    },
    {
      "cell_type": "markdown",
      "id": "579683dd",
      "metadata": {
        "id": "579683dd"
      },
      "source": [
        "**a)** Para verificarmos se você importou corretamente, converta a lista 'clubes' em uma array chamada 'np_clubes' e print três coisas: a np_clube, o seu tipo (type) e a quantidade de clubes (shape)."
      ]
    },
    {
      "cell_type": "code",
      "execution_count": null,
      "id": "441f7eec",
      "metadata": {
        "id": "441f7eec",
        "outputId": "3374725f-bb54-4a59-9bd8-589709aebd28"
      },
      "outputs": [
        {
          "name": "stdout",
          "output_type": "stream",
          "text": [
            "['America Mineiro' 'Athletico Paranaense' 'Atletico Goianiense'\n",
            " 'Atletico Mineiro' 'Avai' 'Bahia' 'Botafogo' 'Ceara' 'Chapecoense'\n",
            " 'Corinthians' 'Coritiba' 'Cuiaba' 'Cruzeiro' 'Flamengo' 'Fluminense'\n",
            " 'Fortaleza' 'Goias' 'Gremio' 'Internacional' 'Juventude' 'Palmeiras'\n",
            " 'Red Bull Bragantino' 'Santos' 'Sao Paulo' 'Sport' 'Vasco'] <class 'numpy.ndarray'> (26,)\n"
          ]
        }
      ],
      "source": [
        "clubes = ['America Mineiro', 'Athletico Paranaense', 'Atletico Goianiense', 'Atletico Mineiro', 'Avai', 'Bahia', 'Botafogo', 'Ceara', 'Chapecoense', 'Corinthians', 'Coritiba', 'Cuiaba', 'Cruzeiro', 'Flamengo', 'Fluminense', 'Fortaleza', 'Goias', 'Gremio', 'Internacional', 'Juventude', 'Palmeiras', 'Red Bull Bragantino', 'Santos', 'Sao Paulo', 'Sport', 'Vasco']\n",
        "\n",
        "##### SEU CODIGO COMECA AQUI #####\n",
        "\n",
        "np_clubes = np.array(clubes)\n",
        "print(np_clubes, type(np_clubes), np_clubes.shape)"
      ]
    },
    {
      "cell_type": "markdown",
      "id": "6736ddf0",
      "metadata": {
        "id": "6736ddf0"
      },
      "source": [
        "**b)** Suponha que você quer mostrar a array para alguém que não enxerga muito bem. Por isso, decide printar todos os nomes em maiúsculo! *Dica: utilize a function_upper criada por nós conforme mostramos no exemplo.*"
      ]
    },
    {
      "cell_type": "code",
      "execution_count": null,
      "id": "816b2668",
      "metadata": {
        "id": "816b2668",
        "outputId": "4687b188-0eb0-45dd-90b8-01f28293d883",
        "colab": {
          "base_uri": "https://localhost:8080/"
        }
      },
      "outputs": [
        {
          "output_type": "stream",
          "name": "stdout",
          "text": [
            "['MÃE, ENTREI NA USP!']\n"
          ]
        }
      ],
      "source": [
        "exemplo = ['mãe, entrei na usp!']\n",
        "\n",
        "function_upper = np.vectorize(str.upper)\n",
        "\n",
        "exemplo_em_maiusculo = function_upper(exemplo)\n",
        "\n",
        "print(exemplo_em_maiusculo)"
      ]
    },
    {
      "cell_type": "code",
      "execution_count": null,
      "id": "58df6491",
      "metadata": {
        "id": "58df6491",
        "outputId": "f22ffec8-ba3e-44ed-f9d3-37ff9221d5b2"
      },
      "outputs": [
        {
          "name": "stdout",
          "output_type": "stream",
          "text": [
            "['AMERICA MINEIRO' 'ATHLETICO PARANAENSE' 'ATLETICO GOIANIENSE'\n",
            " 'ATLETICO MINEIRO' 'AVAI' 'BAHIA' 'BOTAFOGO' 'CEARA' 'CHAPECOENSE'\n",
            " 'CORINTHIANS' 'CORITIBA' 'CUIABA' 'CRUZEIRO' 'FLAMENGO' 'FLUMINENSE'\n",
            " 'FORTALEZA' 'GOIAS' 'GREMIO' 'INTERNACIONAL' 'JUVENTUDE' 'PALMEIRAS'\n",
            " 'RED BULL BRAGANTINO' 'SANTOS' 'SAO PAULO' 'SPORT' 'VASCO']\n"
          ]
        }
      ],
      "source": [
        "##### SEU CODIGO COMECA AQUI #####\n",
        "\n",
        "print(function_upper(clubes))"
      ]
    },
    {
      "cell_type": "markdown",
      "id": "bf54de94",
      "metadata": {
        "id": "bf54de94"
      },
      "source": [
        "# <font >Exercício 2: Receita </font>"
      ]
    },
    {
      "cell_type": "markdown",
      "id": "34cf9cb5",
      "metadata": {
        "id": "34cf9cb5"
      },
      "source": [
        "Agora que já brincamos com strings, vamos à melhor parte: números.\n",
        "\n",
        "Disponibilizams uma array contendo a receita de cada clube em 2021. Os dados estão em milhões BRL. Você precisa analisar dois dados: soma e média. Print tua resposta da seguinte maneira: **No ano 2021, a receita total do setor de futebol foi de X e a média de Y.**"
      ]
    },
    {
      "cell_type": "code",
      "execution_count": null,
      "id": "b29c53cd",
      "metadata": {
        "id": "b29c53cd",
        "outputId": "3c490412-6c45-49e6-b294-5a90634eee5e"
      },
      "outputs": [
        {
          "name": "stdout",
          "output_type": "stream",
          "text": [
            "No ano 2021, a receita total do setor de futebol foi de 7183 e a média de 276.27.\n"
          ]
        }
      ],
      "source": [
        "receita_2021 = np.array([102, 265, 113, 506, 25, 200, 122, 140, 62, 503, 88, 70, 154, 1054, 324, 171, 50, 465, 382, 68, 911, 291, 372, 465, 94, 186])\n",
        "\n",
        "##### SEU CODIGO COMECA AQUI #####\n",
        "\n",
        "print('No ano 2021, a receita total do setor de futebol foi de ' + str(np.sum(receita_2021)) + ' e a média de ' + str(round(np.mean(receita_2021), 2)) + '.')"
      ]
    },
    {
      "cell_type": "markdown",
      "id": "65aaa8fd",
      "metadata": {
        "id": "65aaa8fd"
      },
      "source": [
        "# <font >Exercício 3: Custos e Despesas </font>"
      ]
    },
    {
      "cell_type": "markdown",
      "id": "b2a06423",
      "metadata": {
        "id": "b2a06423"
      },
      "source": [
        "Disponibilizamos uma array contendo os custos e despesas de cada clube em 2021. Os dados estão em milhões BRL. Você precisa analisar dois dados: soma e média. Print tua resposta da seguinte maneira: **No ano 2021, os custos e despesas totais do setor de futebol foram de X e a média de Y.**"
      ]
    },
    {
      "cell_type": "code",
      "execution_count": null,
      "id": "f29f1993",
      "metadata": {
        "id": "f29f1993",
        "outputId": "c5de7e07-8679-4da7-a62b-1453031d87d4"
      },
      "outputs": [
        {
          "name": "stdout",
          "output_type": "stream",
          "text": [
            "No ano 2021, os custos e despesas totais foram de de 4975 e a média de 191.35.\n"
          ]
        }
      ],
      "source": [
        "custos_e_despesas_2021 = np.array([87, 170, 73, 386, 52, 132, 113, 108, 74, 324, 88, 66, 175, 545, 243, 132, 44, 336, 251, 51, 555, 185, 226, 363, 59, 137])\n",
        "\n",
        "##### SEU CODIGO COMECA AQUI #####\n",
        "\n",
        "print('No ano 2021, os custos e despesas totais foram de de ' + str(np.sum(custos_e_despesas_2021)) + ' e a média de ' + str(round(np.mean(custos_e_despesas_2021), 2)) + '.')"
      ]
    },
    {
      "cell_type": "markdown",
      "id": "8bc57b94",
      "metadata": {
        "id": "8bc57b94"
      },
      "source": [
        "# <font >Exercício 4: Resultado Líquido </font>"
      ]
    },
    {
      "cell_type": "markdown",
      "id": "2f51283d",
      "metadata": {
        "id": "2f51283d"
      },
      "source": [
        "Para se chegar ao Resultado Líquido é preciso recolher os impostos ICMS, PIS, COFINS, IRPJ e CSLL. Entretanto, devido à Lei nº 9.615 (Lei Pelé), os clubes brasileiros recebem imunidade destes tributos em suas Demonstrações de Resultado. Sendo assim, ao subtrair os custos e despesas da Receita Total, o valor obtido já é o próprio Resultado Líquido.\n",
        "\n",
        "**a)** Crie e print uma array chamada resultado_liquido_2021 que subtraia os custos e despesas das receitas totais."
      ]
    },
    {
      "cell_type": "code",
      "execution_count": null,
      "id": "bf02a65b",
      "metadata": {
        "id": "bf02a65b",
        "outputId": "5057f6d8-9498-48e1-89c6-8d98296a108c"
      },
      "outputs": [
        {
          "name": "stdout",
          "output_type": "stream",
          "text": [
            "[ 15  95  40 120 -27  68   9  32 -12 179   0   4 -21 509  81  39   6 129\n",
            " 131  17 356 106 146 102  35  49]\n"
          ]
        }
      ],
      "source": [
        "##### SEU CODIGO COMECA AQUI #####\n",
        "\n",
        "resultado_liquido_2021 = receita_2021 - custos_e_despesas_2021\n",
        "print(resultado_liquido_2021)"
      ]
    },
    {
      "cell_type": "markdown",
      "id": "837421ae",
      "metadata": {
        "id": "837421ae"
      },
      "source": [
        "**b)** Imprima o nome de todos os clubes com seu resultado líquido. Print tua resposta da seguinte maneira: **América Mineiro: 15, Athletico Paranaense: 95... Vasco: 49**.\n",
        "\n",
        "*Dica: embora seja possível utilizar um loop com o mesmo índice nas arrays np_clubes e resultado_liquido_2021, o mais rápido e fácil é um recurso chamado **zip**.*"
      ]
    },
    {
      "cell_type": "code",
      "execution_count": null,
      "id": "7bf84c20",
      "metadata": {
        "id": "7bf84c20",
        "outputId": "ed9ea598-d001-4a3f-858b-2cf36d2720e7"
      },
      "outputs": [
        {
          "name": "stdout",
          "output_type": "stream",
          "text": [
            "[('America Mineiro', 15), ('Athletico Paranaense', 95), ('Atletico Goianiense', 40), ('Atletico Mineiro', 120), ('Avai', -27), ('Bahia', 68), ('Botafogo', 9), ('Ceara', 32), ('Chapecoense', -12), ('Corinthians', 179), ('Coritiba', 0), ('Cuiaba', 4), ('Cruzeiro', -21), ('Flamengo', 509), ('Fluminense', 81), ('Fortaleza', 39), ('Goias', 6), ('Gremio', 129), ('Internacional', 131), ('Juventude', 17), ('Palmeiras', 356), ('Red Bull Bragantino', 106), ('Santos', 146), ('Sao Paulo', 102), ('Sport', 35), ('Vasco', 49)]\n"
          ]
        }
      ],
      "source": [
        "##### SEU CODIGO COMECA AQUI #####\n",
        "\n",
        "# Resolução com *zip\n",
        "\n",
        "print([*zip(np_clubes, resultado_liquido_2021)])"
      ]
    },
    {
      "cell_type": "code",
      "execution_count": null,
      "id": "8c7ac19c",
      "metadata": {
        "id": "8c7ac19c",
        "outputId": "cf827490-8d40-49e6-b5a9-3b259b100a5c"
      },
      "outputs": [
        {
          "name": "stdout",
          "output_type": "stream",
          "text": [
            "America Mineiro: 15\n",
            "Athletico Paranaense: 95\n",
            "Atletico Goianiense: 40\n",
            "Atletico Mineiro: 120\n",
            "Avai: -27\n",
            "Bahia: 68\n",
            "Botafogo: 9\n",
            "Ceara: 32\n",
            "Chapecoense: -12\n",
            "Corinthians: 179\n",
            "Coritiba: 0\n",
            "Cuiaba: 4\n",
            "Cruzeiro: -21\n",
            "Flamengo: 509\n",
            "Fluminense: 81\n",
            "Fortaleza: 39\n",
            "Goias: 6\n",
            "Gremio: 129\n",
            "Internacional: 131\n",
            "Juventude: 17\n",
            "Palmeiras: 356\n",
            "Red Bull Bragantino: 106\n",
            "Santos: 146\n",
            "Sao Paulo: 102\n",
            "Sport: 35\n",
            "Vasco: 49\n"
          ]
        }
      ],
      "source": [
        "##### SEU CODIGO COMECA AQUI #####\n",
        "\n",
        "# Resolução com loop\n",
        "\n",
        "i = 0\n",
        "\n",
        "while (i < 26):\n",
        "    print(np_clubes[i] + ': ' + str(resultado_liquido_2021[i]))\n",
        "    i += 1"
      ]
    },
    {
      "cell_type": "markdown",
      "id": "6251edca",
      "metadata": {
        "id": "6251edca"
      },
      "source": [
        "# <font >Exercício 5: Análises Individuais </font>"
      ]
    },
    {
      "cell_type": "markdown",
      "id": "56ea740e",
      "metadata": {
        "id": "56ea740e"
      },
      "source": [
        "**a)** Filtre e print os clubes que possuíram resultado líquido acima de 200 milhões."
      ]
    },
    {
      "cell_type": "code",
      "execution_count": null,
      "id": "9f197853",
      "metadata": {
        "id": "9f197853",
        "outputId": "d11b8d23-6e8c-480f-c957-4fbc9b9d4c39"
      },
      "outputs": [
        {
          "name": "stdout",
          "output_type": "stream",
          "text": [
            "['Flamengo' 'Palmeiras']\n"
          ]
        }
      ],
      "source": [
        "##### SEU CODIGO COMECA AQUI #####\n",
        "\n",
        "print(np_clubes[resultado_liquido_2021 > 200])"
      ]
    },
    {
      "cell_type": "markdown",
      "id": "02cdde39",
      "metadata": {
        "id": "02cdde39"
      },
      "source": [
        "**b)** Filtre e print os clubes que possuíram resultado líquido abaixo de 10 milhões."
      ]
    },
    {
      "cell_type": "code",
      "execution_count": null,
      "id": "f1050b56",
      "metadata": {
        "id": "f1050b56",
        "outputId": "7c9b5a79-ae63-4c6e-9a6b-94ada9a8e8ad"
      },
      "outputs": [
        {
          "name": "stdout",
          "output_type": "stream",
          "text": [
            "['Avai' 'Botafogo' 'Chapecoense' 'Coritiba' 'Cuiaba' 'Cruzeiro' 'Goias']\n"
          ]
        }
      ],
      "source": [
        "##### SEU CODIGO COMECA AQUI #####\n",
        "\n",
        "print(np_clubes[resultado_liquido_2021 < 10])"
      ]
    },
    {
      "cell_type": "markdown",
      "id": "14419f55",
      "metadata": {
        "id": "14419f55"
      },
      "source": [
        "# <font >Exercício 6: Simulação </font>"
      ]
    },
    {
      "cell_type": "markdown",
      "id": "66bd32db",
      "metadata": {
        "id": "66bd32db"
      },
      "source": [
        "**a)** Em 2022, espera-se aumento da receito visto que o público retornou aos estádios. Suponha que haverá um crescimento de 22% da receita em relação a 2021. Crie uma nova array chamada projecao_receita_2022 com esse cálculo. Print tanto a projecao_receita_2022 quanto o somatório da array."
      ]
    },
    {
      "cell_type": "code",
      "execution_count": null,
      "id": "5d2e84dd",
      "metadata": {
        "id": "5d2e84dd",
        "outputId": "3aad5242-6e42-4ca1-c9e6-466a5a7010a4"
      },
      "outputs": [
        {
          "name": "stdout",
          "output_type": "stream",
          "text": [
            "[ 124.44  323.3   137.86  617.32   30.5   244.    148.84  170.8    75.64\n",
            "  613.66  107.36   85.4   187.88 1285.88  395.28  208.62   61.    567.3\n",
            "  466.04   82.96 1111.42  355.02  453.84  567.3   114.68  226.92] 8763.26\n"
          ]
        }
      ],
      "source": [
        "##### SEU CODIGO COMECA AQUI #####\n",
        "\n",
        "projecao_receita_2022 = receita_2021 * 1.22\n",
        "print(projecao_receita_2022, round(np.sum(projecao_receita_2022), 2))"
      ]
    },
    {
      "cell_type": "markdown",
      "id": "64f8799b",
      "metadata": {
        "id": "64f8799b"
      },
      "source": [
        "**b)** No Brasil, a meta para a inflação é definida pelo Conselho Monetário Nacional (CMN) e cabe ao Banco Central (BC) adotar as medidas necessárias para alcançá-la. O índice de preços utilizado é o Índice Nacional de Preços ao Consumidor Amplo (IPCA), calculado pelo Instituto Brasileiro de Geografia e Estatística (IBGE). A meta se refere à inflação acumulada no ano. Por exemplo, a meta para 2020 foi de uma inflação de 4,00%.\n",
        "\n",
        "Tendo isso em mente, suponha que em 2022 os clubes continuarão com os mesmos custos e despesas, porém, é preciso corrigi-los pela inflação. Crie uma nova array chamada projecao_custos_e_despesas_2022 com esse cálculo. Print tanto a projecao_custos_e_despesas_2022 quanto o somatório da array."
      ]
    },
    {
      "cell_type": "code",
      "execution_count": null,
      "id": "ad4ced08",
      "metadata": {
        "id": "ad4ced08",
        "outputId": "49640cdb-b021-404a-ead8-6d6001849d06"
      },
      "outputs": [
        {
          "name": "stdout",
          "output_type": "stream",
          "text": [
            "[ 90.48 176.8   75.92 401.44  54.08 137.28 117.52 112.32  76.96 336.96\n",
            "  91.52  68.64 182.   566.8  252.72 137.28  45.76 349.44 261.04  53.04\n",
            " 577.2  192.4  235.04 377.52  61.36 142.48] 5174.0\n"
          ]
        }
      ],
      "source": [
        "##### SEU CODIGO COMECA AQUI #####\n",
        "\n",
        "projecao_custos_e_despesas_2022 = custos_e_despesas_2021 * 1.04\n",
        "print(projecao_custos_e_despesas_2022, round(np.sum(projecao_custos_e_despesas_2022), 2))"
      ]
    },
    {
      "cell_type": "markdown",
      "id": "2a846478",
      "metadata": {
        "id": "2a846478"
      },
      "source": [
        "**c)**  Considerando as projeções de receita, custos e despesas, crie uma nova array chamada projecao_resultado_liquido_2022. Print tanto a projecao_resultado_liquido_2022 quanto o somatório da array."
      ]
    },
    {
      "cell_type": "code",
      "execution_count": null,
      "id": "9045889f",
      "metadata": {
        "id": "9045889f",
        "outputId": "222cffe9-5e3c-4059-972c-c639aaa4f9b4"
      },
      "outputs": [
        {
          "name": "stdout",
          "output_type": "stream",
          "text": [
            "[ 33.96 146.5   61.94 215.88 -23.58 106.72  31.32  58.48  -1.32 276.7\n",
            "  15.84  16.76   5.88 719.08 142.56  71.34  15.24 217.86 205.    29.92\n",
            " 534.22 162.62 218.8  189.78  53.32  84.44] 3589.26\n"
          ]
        }
      ],
      "source": [
        "##### SEU CODIGO COMECA AQUI #####\n",
        "\n",
        "projecao_resultado_liquido_2022 = projecao_receita_2022 - projecao_custos_e_despesas_2022\n",
        "print(projecao_resultado_liquido_2022, round(np.sum(projecao_resultado_liquido_2022), 2))"
      ]
    },
    {
      "cell_type": "markdown",
      "id": "88165041",
      "metadata": {
        "id": "88165041"
      },
      "source": [
        "# <font >Exercício Extra: Investidor anjo </font>"
      ]
    },
    {
      "cell_type": "markdown",
      "id": "f0e20182",
      "metadata": {
        "id": "f0e20182"
      },
      "source": [
        "**a)** Você é um investidor anjo e após analisar a situação financeira dos clubes brasileiros, decide investir nos que estão mais desfavoráveis em relação à média do setor. Para isso, crie e print uma array chamada np_analisar que filtre os clubes da array np_clubes nos quais estão abaixo da média na array resultado_liquido_2021."
      ]
    },
    {
      "cell_type": "code",
      "execution_count": null,
      "id": "8d2f1974",
      "metadata": {
        "id": "8d2f1974",
        "outputId": "59577cad-69ff-4444-853a-616e61c8a45e"
      },
      "outputs": [
        {
          "name": "stdout",
          "output_type": "stream",
          "text": [
            "['America Mineiro' 'Atletico Goianiense' 'Avai' 'Bahia' 'Botafogo' 'Ceara'\n",
            " 'Chapecoense' 'Coritiba' 'Cuiaba' 'Cruzeiro' 'Fluminense' 'Fortaleza'\n",
            " 'Goias' 'Juventude' 'Sport' 'Vasco']\n"
          ]
        }
      ],
      "source": [
        "##### SEU CODIGO COMECA AQUI #####\n",
        "\n",
        "np_analisar = np_clubes[np.where(resultado_liquido_2021 < resultado_liquido_2021.mean())]\n",
        "print(np_analisar)"
      ]
    },
    {
      "cell_type": "markdown",
      "id": "f720af8c",
      "metadata": {
        "id": "f720af8c"
      },
      "source": [
        "**b)** Você decide escolher aleatoriamente três times. Crie e print uma array chamada np_analisar_aleatório que selecione sem nenhum critério os clubes da np_analisar."
      ]
    },
    {
      "cell_type": "code",
      "execution_count": null,
      "id": "73bd986b",
      "metadata": {
        "id": "73bd986b",
        "outputId": "d7efb2d4-cce6-40e4-a55b-90ece55cf6fe"
      },
      "outputs": [
        {
          "name": "stdout",
          "output_type": "stream",
          "text": [
            "['Cuiaba' 'Vasco' 'Bahia']\n"
          ]
        }
      ],
      "source": [
        "##### SEU CODIGO COMECA AQUI #####\n",
        "\n",
        "np_analisar_aleatorio = np.random.choice(np_analisar, size = (3))\n",
        "print(np_analisar_aleatorio)"
      ]
    },
    {
      "cell_type": "markdown",
      "id": "da0bb6fb",
      "metadata": {
        "id": "da0bb6fb"
      },
      "source": [
        "**c)** Você decide também escolher aleatoriamente os três investimentos. Crie e print uma array chamada np_investimento_aleatório que selecione valores entre 4 e 10 milhões."
      ]
    },
    {
      "cell_type": "code",
      "execution_count": null,
      "id": "8fe7f0b7",
      "metadata": {
        "id": "8fe7f0b7",
        "outputId": "2ae5b6ac-374a-4829-f4fc-6d7fce6b7a58"
      },
      "outputs": [
        {
          "name": "stdout",
          "output_type": "stream",
          "text": [
            "[6 7 4]\n"
          ]
        }
      ],
      "source": [
        "##### SEU CODIGO COMECA AQUI #####\n",
        "\n",
        "import random\n",
        "\n",
        "np_investimento_aleatorio = np.array(random.sample(range(4, 11), 3))\n",
        "print(np_investimento_aleatorio)"
      ]
    },
    {
      "cell_type": "markdown",
      "id": "a8c08811",
      "metadata": {
        "id": "a8c08811"
      },
      "source": [
        "**d)** Por fim, basta printar quais dos três clubes irão receber cada investimento. Utilize da tua criatividade para criar algum tipo de critério."
      ]
    },
    {
      "cell_type": "code",
      "execution_count": null,
      "id": "7eb8b026",
      "metadata": {
        "id": "7eb8b026",
        "outputId": "22430970-c377-4778-babd-16eefb75734f"
      },
      "outputs": [
        {
          "name": "stdout",
          "output_type": "stream",
          "text": [
            "[('Cuiaba', 6), ('Vasco', 7), ('Bahia', 4)]\n"
          ]
        }
      ],
      "source": [
        "##### SEU CODIGO COMECA AQUI #####\n",
        "\n",
        "# Resposta aberta. A forma mais simples seria utilizar a ordem das próprias arrays\n",
        "print([*zip(np_analisar_aleatorio, np_investimento_aleatorio)])"
      ]
    }
  ],
  "metadata": {
    "kernelspec": {
      "display_name": "Python 3.10.4 64-bit",
      "language": "python",
      "name": "python3"
    },
    "language_info": {
      "codemirror_mode": {
        "name": "ipython",
        "version": 3
      },
      "file_extension": ".py",
      "mimetype": "text/x-python",
      "name": "python",
      "nbconvert_exporter": "python",
      "pygments_lexer": "ipython3",
      "version": "3.10.4"
    },
    "vscode": {
      "interpreter": {
        "hash": "0255b2a1a85d95e539a3d37cbfeda14c0a475ccd427586120269d64df835fd1d"
      }
    },
    "colab": {
      "provenance": [],
      "include_colab_link": true
    }
  },
  "nbformat": 4,
  "nbformat_minor": 5
}