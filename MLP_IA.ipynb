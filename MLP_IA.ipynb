{
  "nbformat": 4,
  "nbformat_minor": 0,
  "metadata": {
    "colab": {
      "provenance": [],
      "authorship_tag": "ABX9TyPKrIklRLlfPED2DjLYFCwF",
      "include_colab_link": true
    },
    "kernelspec": {
      "name": "python3",
      "display_name": "Python 3"
    },
    "language_info": {
      "name": "python"
    }
  },
  "cells": [
    {
      "cell_type": "markdown",
      "metadata": {
        "id": "view-in-github",
        "colab_type": "text"
      },
      "source": [
        "<a href=\"https://colab.research.google.com/github/athospugliesedev/python_codes/blob/main/MLP_IA.ipynb\" target=\"_parent\"><img src=\"https://colab.research.google.com/assets/colab-badge.svg\" alt=\"Open In Colab\"/></a>"
      ]
    },
    {
      "cell_type": "markdown",
      "source": [
        "# Atividade de Athos e Saulo\n",
        "[Dataset usado](https://www.kaggle.com/datasets/fredericobreno/play-tennis)"
      ],
      "metadata": {
        "id": "tQfC6T4yb41b"
      }
    },
    {
      "cell_type": "code",
      "execution_count": 1,
      "metadata": {
        "colab": {
          "base_uri": "https://localhost:8080/"
        },
        "id": "m65jDIt6byy9",
        "outputId": "6cc35e8b-8a50-4f77-e171-2c4a8ca39acb"
      },
      "outputs": [
        {
          "output_type": "stream",
          "name": "stdout",
          "text": [
            "1/1 [==============================] - 0s 79ms/step\n",
            "1/1 [==============================] - 0s 77ms/step\n",
            "1/1 [==============================] - 0s 58ms/step\n",
            "1/1 [==============================] - 0s 50ms/step\n"
          ]
        },
        {
          "output_type": "stream",
          "name": "stderr",
          "text": [
            "WARNING:tensorflow:5 out of the last 5 calls to <function Model.make_predict_function.<locals>.predict_function at 0x7d24e3f12a70> triggered tf.function retracing. Tracing is expensive and the excessive number of tracings could be due to (1) creating @tf.function repeatedly in a loop, (2) passing tensors with different shapes, (3) passing Python objects instead of tensors. For (1), please define your @tf.function outside of the loop. For (2), @tf.function has reduce_retracing=True option that can avoid unnecessary retracing. For (3), please refer to https://www.tensorflow.org/guide/function#controlling_retracing and https://www.tensorflow.org/api_docs/python/tf/function for  more details.\n"
          ]
        },
        {
          "output_type": "stream",
          "name": "stdout",
          "text": [
            "1/1 [==============================] - 0s 46ms/step\n"
          ]
        },
        {
          "output_type": "stream",
          "name": "stderr",
          "text": [
            "WARNING:tensorflow:6 out of the last 6 calls to <function Model.make_predict_function.<locals>.predict_function at 0x7d24e3f11240> triggered tf.function retracing. Tracing is expensive and the excessive number of tracings could be due to (1) creating @tf.function repeatedly in a loop, (2) passing tensors with different shapes, (3) passing Python objects instead of tensors. For (1), please define your @tf.function outside of the loop. For (2), @tf.function has reduce_retracing=True option that can avoid unnecessary retracing. For (3), please refer to https://www.tensorflow.org/guide/function#controlling_retracing and https://www.tensorflow.org/api_docs/python/tf/function for  more details.\n"
          ]
        },
        {
          "output_type": "stream",
          "name": "stdout",
          "text": [
            "1/1 [==============================] - 0s 81ms/step\n",
            "1/1 [==============================] - 0s 106ms/step\n",
            "1/1 [==============================] - 0s 77ms/step\n",
            "1/1 [==============================] - 0s 120ms/step\n",
            "1/1 [==============================] - 0s 78ms/step\n",
            "1/1 [==============================] - 0s 90ms/step\n",
            "1/1 [==============================] - 0s 126ms/step\n",
            "1/1 [==============================] - 0s 88ms/step\n",
            "1/1 [==============================] - 0s 173ms/step\n",
            "1/1 [==============================] - 0s 92ms/step\n",
            "1/1 [==============================] - 0s 158ms/step\n",
            "1/1 [==============================] - 0s 108ms/step\n",
            "1/1 [==============================] - 0s 194ms/step\n",
            "1/1 [==============================] - 0s 116ms/step\n",
            "1/1 [==============================] - 0s 124ms/step\n",
            "Camadas Escondidas: 1, Neurônios por Camada: 25, Acurácia: 0.3333333333333333\n",
            "Camadas Escondidas: 1, Neurônios por Camada: 50, Acurácia: 0.3333333333333333\n",
            "Camadas Escondidas: 1, Neurônios por Camada: 100, Acurácia: 0.6666666666666666\n",
            "Camadas Escondidas: 1, Neurônios por Camada: 200, Acurácia: 0.3333333333333333\n",
            "Camadas Escondidas: 1, Neurônios por Camada: 500, Acurácia: 0.6666666666666666\n",
            "Camadas Escondidas: 5, Neurônios por Camada: 25, Acurácia: 0.3333333333333333\n",
            "Camadas Escondidas: 5, Neurônios por Camada: 50, Acurácia: 0.6666666666666666\n",
            "Camadas Escondidas: 5, Neurônios por Camada: 100, Acurácia: 0.6666666666666666\n",
            "Camadas Escondidas: 5, Neurônios por Camada: 200, Acurácia: 0.3333333333333333\n",
            "Camadas Escondidas: 5, Neurônios por Camada: 500, Acurácia: 0.6666666666666666\n",
            "Camadas Escondidas: 7, Neurônios por Camada: 25, Acurácia: 0.3333333333333333\n",
            "Camadas Escondidas: 7, Neurônios por Camada: 50, Acurácia: 0.6666666666666666\n",
            "Camadas Escondidas: 7, Neurônios por Camada: 100, Acurácia: 1.0\n",
            "Camadas Escondidas: 7, Neurônios por Camada: 200, Acurácia: 0.6666666666666666\n",
            "Camadas Escondidas: 7, Neurônios por Camada: 500, Acurácia: 1.0\n",
            "Camadas Escondidas: 10, Neurônios por Camada: 25, Acurácia: 0.6666666666666666\n",
            "Camadas Escondidas: 10, Neurônios por Camada: 50, Acurácia: 0.6666666666666666\n",
            "Camadas Escondidas: 10, Neurônios por Camada: 100, Acurácia: 0.6666666666666666\n",
            "Camadas Escondidas: 10, Neurônios por Camada: 200, Acurácia: 0.6666666666666666\n",
            "Camadas Escondidas: 10, Neurônios por Camada: 500, Acurácia: 0.6666666666666666\n"
          ]
        }
      ],
      "source": [
        "import pandas as pd\n",
        "import numpy as np\n",
        "from sklearn.model_selection import train_test_split\n",
        "from sklearn.preprocessing import StandardScaler\n",
        "from sklearn.metrics import accuracy_score\n",
        "import tensorflow as tf\n",
        "from tensorflow import keras\n",
        "from tensorflow.keras import layers\n",
        "\n",
        "data = pd.read_csv(\"play_tennis.csv\")\n",
        "\n",
        "data = data.drop(\"day\", axis=1)\n",
        "\n",
        "data[\"target_column\"] = data[\"play\"].map({\"Yes\": 1, \"No\": 0})\n",
        "data = data.drop(\"play\", axis=1)\n",
        "\n",
        "data = pd.get_dummies(data, columns=[\"outlook\", \"temp\", \"humidity\", \"wind\"])\n",
        "\n",
        "X = data.drop(\"target_column\", axis=1)\n",
        "y = data[\"target_column\"]\n",
        "\n",
        "X_train, X_test, y_train, y_test = train_test_split(X, y, test_size=0.2, random_state=42)\n",
        "\n",
        "scaler = StandardScaler()\n",
        "X_train = scaler.fit_transform(X_train)\n",
        "X_test = scaler.transform(X_test)\n",
        "\n",
        "hidden_layers = [1, 5, 7, 10]\n",
        "neurons_per_layer = [25, 50, 100, 200, 500]\n",
        "\n",
        "results = []\n",
        "\n",
        "for num_layers in hidden_layers:\n",
        "    for num_neurons in neurons_per_layer:\n",
        "        model = keras.Sequential()\n",
        "        model.add(layers.InputLayer(input_shape=(X_train.shape[1])))\n",
        "\n",
        "        for _ in range(num_layers):\n",
        "            model.add(layers.Dense(num_neurons, activation='relu'))\n",
        "\n",
        "        model.add(layers.Dense(1, activation='sigmoid'))\n",
        "\n",
        "        gd = tf.compat.v1.train.GradientDescentOptimizer(0.01)\n",
        "\n",
        "        model.compile(optimizer=gd, loss='mse')\n",
        "\n",
        "        batch_size = 32\n",
        "        train_dataset = tf.data.Dataset.from_tensor_slices((X_train, y_train))\n",
        "        train_dataset = train_dataset.shuffle(buffer_size=1000).batch(batch_size)\n",
        "\n",
        "        model.fit(train_dataset, epochs=1000, verbose=0)\n",
        "\n",
        "        y_pred = (model.predict(X_test) > 0.5).astype(int)\n",
        "        accuracy = accuracy_score(y_test, y_pred)\n",
        "\n",
        "        results.append((num_layers, num_neurons, accuracy))\n",
        "\n",
        "        model_json = model.to_json()\n",
        "        with open(f'model_{num_layers}_{num_neurons}.json', 'w') as json_file:\n",
        "            json_file.write(model_json)\n",
        "\n",
        "\n",
        "for num_layers, num_neurons, accuracy in results:\n",
        "    print(f\"Camadas Escondidas: {num_layers}, Neurônios por Camada: {num_neurons}, Acurácia: {accuracy}\")\n"
      ]
    }
  ]
}