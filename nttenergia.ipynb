{
  "cells": [
    {
      "cell_type": "markdown",
      "metadata": {
        "id": "view-in-github",
        "colab_type": "text"
      },
      "source": [
        "<a href=\"https://colab.research.google.com/github/athospugliesedev/python_codes/blob/main/nttenergia.ipynb\" target=\"_parent\"><img src=\"https://colab.research.google.com/assets/colab-badge.svg\" alt=\"Open In Colab\"/></a>"
      ]
    },
    {
      "cell_type": "code",
      "execution_count": null,
      "metadata": {
        "id": "LtsMZrdAXfuE",
        "colab": {
          "base_uri": "https://localhost:8080/",
          "height": 1000
        },
        "outputId": "52f4c9ec-4eee-4534-b531-cb53d39e8fcf"
      },
      "outputs": [
        {
          "output_type": "stream",
          "name": "stdout",
          "text": [
            "Collecting pandasai==1.4.7\n",
            "  Downloading pandasai-1.4.7-py3-none-any.whl (167 kB)\n",
            "\u001b[?25l     \u001b[90m━━━━━━━━━━━━━━━━━━━━━━━━━━━━━━━━━━━━━━━━\u001b[0m \u001b[32m0.0/168.0 kB\u001b[0m \u001b[31m?\u001b[0m eta \u001b[36m-:--:--\u001b[0m\r\u001b[2K     \u001b[91m━━━━━━━━━━━━━━━━━━━━━━━━━━━━━━━━━━━━━━━\u001b[0m\u001b[90m╺\u001b[0m \u001b[32m163.8/168.0 kB\u001b[0m \u001b[31m5.0 MB/s\u001b[0m eta \u001b[36m0:00:01\u001b[0m\r\u001b[2K     \u001b[90m━━━━━━━━━━━━━━━━━━━━━━━━━━━━━━━━━━━━━━━━\u001b[0m \u001b[32m168.0/168.0 kB\u001b[0m \u001b[31m4.2 MB/s\u001b[0m eta \u001b[36m0:00:00\u001b[0m\n",
            "\u001b[?25hCollecting astor<0.9.0,>=0.8.1 (from pandasai==1.4.7)\n",
            "  Downloading astor-0.8.1-py2.py3-none-any.whl (27 kB)\n",
            "Collecting duckdb<0.9.0,>=0.8.1 (from pandasai==1.4.7)\n",
            "  Downloading duckdb-0.8.1-cp310-cp310-manylinux_2_17_x86_64.manylinux2014_x86_64.whl (15.9 MB)\n",
            "\u001b[2K     \u001b[90m━━━━━━━━━━━━━━━━━━━━━━━━━━━━━━━━━━━━━━━━\u001b[0m \u001b[32m15.9/15.9 MB\u001b[0m \u001b[31m49.9 MB/s\u001b[0m eta \u001b[36m0:00:00\u001b[0m\n",
            "\u001b[?25hCollecting ipython<9.0.0,>=8.13.1 (from pandasai==1.4.7)\n",
            "  Downloading ipython-8.17.2-py3-none-any.whl (808 kB)\n",
            "\u001b[2K     \u001b[90m━━━━━━━━━━━━━━━━━━━━━━━━━━━━━━━━━━━━━━━━\u001b[0m \u001b[32m808.4/808.4 kB\u001b[0m \u001b[31m67.4 MB/s\u001b[0m eta \u001b[36m0:00:00\u001b[0m\n",
            "\u001b[?25hRequirement already satisfied: matplotlib<4.0.0,>=3.7.1 in /usr/local/lib/python3.10/dist-packages (from pandasai==1.4.7) (3.7.1)\n",
            "Collecting openai<0.28.0,>=0.27.5 (from pandasai==1.4.7)\n",
            "  Downloading openai-0.27.10-py3-none-any.whl (76 kB)\n",
            "\u001b[2K     \u001b[90m━━━━━━━━━━━━━━━━━━━━━━━━━━━━━━━━━━━━━━━━\u001b[0m \u001b[32m76.5/76.5 kB\u001b[0m \u001b[31m13.2 MB/s\u001b[0m eta \u001b[36m0:00:00\u001b[0m\n",
            "\u001b[?25hRequirement already satisfied: pandas==1.5.3 in /usr/local/lib/python3.10/dist-packages (from pandasai==1.4.7) (1.5.3)\n",
            "Requirement already satisfied: pydantic<2,>=1 in /usr/local/lib/python3.10/dist-packages (from pandasai==1.4.7) (1.10.13)\n",
            "Collecting python-dotenv<2.0.0,>=1.0.0 (from pandasai==1.4.7)\n",
            "  Downloading python_dotenv-1.0.0-py3-none-any.whl (19 kB)\n",
            "Requirement already satisfied: scipy<2.0.0,>=1.9.0 in /usr/local/lib/python3.10/dist-packages (from pandasai==1.4.7) (1.11.3)\n",
            "Collecting sqlalchemy<2.0.0,>=1.4.49 (from pandasai==1.4.7)\n",
            "  Downloading SQLAlchemy-1.4.50-cp310-cp310-manylinux_2_5_x86_64.manylinux1_x86_64.manylinux_2_17_x86_64.manylinux2014_x86_64.whl (1.6 MB)\n",
            "\u001b[2K     \u001b[90m━━━━━━━━━━━━━━━━━━━━━━━━━━━━━━━━━━━━━━━━\u001b[0m \u001b[32m1.6/1.6 MB\u001b[0m \u001b[31m68.0 MB/s\u001b[0m eta \u001b[36m0:00:00\u001b[0m\n",
            "\u001b[?25hRequirement already satisfied: python-dateutil>=2.8.1 in /usr/local/lib/python3.10/dist-packages (from pandas==1.5.3->pandasai==1.4.7) (2.8.2)\n",
            "Requirement already satisfied: pytz>=2020.1 in /usr/local/lib/python3.10/dist-packages (from pandas==1.5.3->pandasai==1.4.7) (2023.3.post1)\n",
            "Requirement already satisfied: numpy>=1.21.0 in /usr/local/lib/python3.10/dist-packages (from pandas==1.5.3->pandasai==1.4.7) (1.23.5)\n",
            "Requirement already satisfied: decorator in /usr/local/lib/python3.10/dist-packages (from ipython<9.0.0,>=8.13.1->pandasai==1.4.7) (4.4.2)\n",
            "Collecting jedi>=0.16 (from ipython<9.0.0,>=8.13.1->pandasai==1.4.7)\n",
            "  Downloading jedi-0.19.1-py2.py3-none-any.whl (1.6 MB)\n",
            "\u001b[2K     \u001b[90m━━━━━━━━━━━━━━━━━━━━━━━━━━━━━━━━━━━━━━━━\u001b[0m \u001b[32m1.6/1.6 MB\u001b[0m \u001b[31m63.7 MB/s\u001b[0m eta \u001b[36m0:00:00\u001b[0m\n",
            "\u001b[?25hRequirement already satisfied: matplotlib-inline in /usr/local/lib/python3.10/dist-packages (from ipython<9.0.0,>=8.13.1->pandasai==1.4.7) (0.1.6)\n",
            "Requirement already satisfied: prompt-toolkit!=3.0.37,<3.1.0,>=3.0.30 in /usr/local/lib/python3.10/dist-packages (from ipython<9.0.0,>=8.13.1->pandasai==1.4.7) (3.0.39)\n",
            "Requirement already satisfied: pygments>=2.4.0 in /usr/local/lib/python3.10/dist-packages (from ipython<9.0.0,>=8.13.1->pandasai==1.4.7) (2.16.1)\n",
            "Collecting stack-data (from ipython<9.0.0,>=8.13.1->pandasai==1.4.7)\n",
            "  Downloading stack_data-0.6.3-py3-none-any.whl (24 kB)\n",
            "Requirement already satisfied: traitlets>=5 in /usr/local/lib/python3.10/dist-packages (from ipython<9.0.0,>=8.13.1->pandasai==1.4.7) (5.7.1)\n",
            "Requirement already satisfied: exceptiongroup in /usr/local/lib/python3.10/dist-packages (from ipython<9.0.0,>=8.13.1->pandasai==1.4.7) (1.1.3)\n",
            "Requirement already satisfied: pexpect>4.3 in /usr/local/lib/python3.10/dist-packages (from ipython<9.0.0,>=8.13.1->pandasai==1.4.7) (4.8.0)\n",
            "Requirement already satisfied: contourpy>=1.0.1 in /usr/local/lib/python3.10/dist-packages (from matplotlib<4.0.0,>=3.7.1->pandasai==1.4.7) (1.2.0)\n",
            "Requirement already satisfied: cycler>=0.10 in /usr/local/lib/python3.10/dist-packages (from matplotlib<4.0.0,>=3.7.1->pandasai==1.4.7) (0.12.1)\n",
            "Requirement already satisfied: fonttools>=4.22.0 in /usr/local/lib/python3.10/dist-packages (from matplotlib<4.0.0,>=3.7.1->pandasai==1.4.7) (4.44.0)\n",
            "Requirement already satisfied: kiwisolver>=1.0.1 in /usr/local/lib/python3.10/dist-packages (from matplotlib<4.0.0,>=3.7.1->pandasai==1.4.7) (1.4.5)\n",
            "Requirement already satisfied: packaging>=20.0 in /usr/local/lib/python3.10/dist-packages (from matplotlib<4.0.0,>=3.7.1->pandasai==1.4.7) (23.2)\n",
            "Requirement already satisfied: pillow>=6.2.0 in /usr/local/lib/python3.10/dist-packages (from matplotlib<4.0.0,>=3.7.1->pandasai==1.4.7) (9.4.0)\n",
            "Requirement already satisfied: pyparsing>=2.3.1 in /usr/local/lib/python3.10/dist-packages (from matplotlib<4.0.0,>=3.7.1->pandasai==1.4.7) (3.1.1)\n",
            "Requirement already satisfied: requests>=2.20 in /usr/local/lib/python3.10/dist-packages (from openai<0.28.0,>=0.27.5->pandasai==1.4.7) (2.31.0)\n",
            "Requirement already satisfied: tqdm in /usr/local/lib/python3.10/dist-packages (from openai<0.28.0,>=0.27.5->pandasai==1.4.7) (4.66.1)\n",
            "Requirement already satisfied: aiohttp in /usr/local/lib/python3.10/dist-packages (from openai<0.28.0,>=0.27.5->pandasai==1.4.7) (3.8.6)\n",
            "Requirement already satisfied: typing-extensions>=4.2.0 in /usr/local/lib/python3.10/dist-packages (from pydantic<2,>=1->pandasai==1.4.7) (4.5.0)\n",
            "Requirement already satisfied: greenlet!=0.4.17 in /usr/local/lib/python3.10/dist-packages (from sqlalchemy<2.0.0,>=1.4.49->pandasai==1.4.7) (3.0.1)\n",
            "Requirement already satisfied: parso<0.9.0,>=0.8.3 in /usr/local/lib/python3.10/dist-packages (from jedi>=0.16->ipython<9.0.0,>=8.13.1->pandasai==1.4.7) (0.8.3)\n",
            "Requirement already satisfied: ptyprocess>=0.5 in /usr/local/lib/python3.10/dist-packages (from pexpect>4.3->ipython<9.0.0,>=8.13.1->pandasai==1.4.7) (0.7.0)\n",
            "Requirement already satisfied: wcwidth in /usr/local/lib/python3.10/dist-packages (from prompt-toolkit!=3.0.37,<3.1.0,>=3.0.30->ipython<9.0.0,>=8.13.1->pandasai==1.4.7) (0.2.9)\n",
            "Requirement already satisfied: six>=1.5 in /usr/local/lib/python3.10/dist-packages (from python-dateutil>=2.8.1->pandas==1.5.3->pandasai==1.4.7) (1.16.0)\n",
            "Requirement already satisfied: charset-normalizer<4,>=2 in /usr/local/lib/python3.10/dist-packages (from requests>=2.20->openai<0.28.0,>=0.27.5->pandasai==1.4.7) (3.3.2)\n",
            "Requirement already satisfied: idna<4,>=2.5 in /usr/local/lib/python3.10/dist-packages (from requests>=2.20->openai<0.28.0,>=0.27.5->pandasai==1.4.7) (3.4)\n",
            "Requirement already satisfied: urllib3<3,>=1.21.1 in /usr/local/lib/python3.10/dist-packages (from requests>=2.20->openai<0.28.0,>=0.27.5->pandasai==1.4.7) (2.0.7)\n",
            "Requirement already satisfied: certifi>=2017.4.17 in /usr/local/lib/python3.10/dist-packages (from requests>=2.20->openai<0.28.0,>=0.27.5->pandasai==1.4.7) (2023.7.22)\n",
            "Requirement already satisfied: attrs>=17.3.0 in /usr/local/lib/python3.10/dist-packages (from aiohttp->openai<0.28.0,>=0.27.5->pandasai==1.4.7) (23.1.0)\n",
            "Requirement already satisfied: multidict<7.0,>=4.5 in /usr/local/lib/python3.10/dist-packages (from aiohttp->openai<0.28.0,>=0.27.5->pandasai==1.4.7) (6.0.4)\n",
            "Requirement already satisfied: async-timeout<5.0,>=4.0.0a3 in /usr/local/lib/python3.10/dist-packages (from aiohttp->openai<0.28.0,>=0.27.5->pandasai==1.4.7) (4.0.3)\n",
            "Requirement already satisfied: yarl<2.0,>=1.0 in /usr/local/lib/python3.10/dist-packages (from aiohttp->openai<0.28.0,>=0.27.5->pandasai==1.4.7) (1.9.2)\n",
            "Requirement already satisfied: frozenlist>=1.1.1 in /usr/local/lib/python3.10/dist-packages (from aiohttp->openai<0.28.0,>=0.27.5->pandasai==1.4.7) (1.4.0)\n",
            "Requirement already satisfied: aiosignal>=1.1.2 in /usr/local/lib/python3.10/dist-packages (from aiohttp->openai<0.28.0,>=0.27.5->pandasai==1.4.7) (1.3.1)\n",
            "Collecting executing>=1.2.0 (from stack-data->ipython<9.0.0,>=8.13.1->pandasai==1.4.7)\n",
            "  Downloading executing-2.0.1-py2.py3-none-any.whl (24 kB)\n",
            "Collecting asttokens>=2.1.0 (from stack-data->ipython<9.0.0,>=8.13.1->pandasai==1.4.7)\n",
            "  Downloading asttokens-2.4.1-py2.py3-none-any.whl (27 kB)\n",
            "Collecting pure-eval (from stack-data->ipython<9.0.0,>=8.13.1->pandasai==1.4.7)\n",
            "  Downloading pure_eval-0.2.2-py3-none-any.whl (11 kB)\n",
            "Installing collected packages: pure-eval, duckdb, sqlalchemy, python-dotenv, jedi, executing, asttokens, astor, stack-data, openai, ipython, pandasai\n",
            "  Attempting uninstall: duckdb\n",
            "    Found existing installation: duckdb 0.9.1\n",
            "    Uninstalling duckdb-0.9.1:\n",
            "      Successfully uninstalled duckdb-0.9.1\n",
            "  Attempting uninstall: sqlalchemy\n",
            "    Found existing installation: SQLAlchemy 2.0.23\n",
            "    Uninstalling SQLAlchemy-2.0.23:\n",
            "      Successfully uninstalled SQLAlchemy-2.0.23\n",
            "  Attempting uninstall: ipython\n",
            "    Found existing installation: ipython 7.34.0\n",
            "    Uninstalling ipython-7.34.0:\n",
            "      Successfully uninstalled ipython-7.34.0\n",
            "\u001b[31mERROR: pip's dependency resolver does not currently take into account all the packages that are installed. This behaviour is the source of the following dependency conflicts.\n",
            "llmx 0.0.15a0 requires cohere, which is not installed.\n",
            "llmx 0.0.15a0 requires tiktoken, which is not installed.\n",
            "google-colab 1.0.0 requires ipython==7.34.0, but you have ipython 8.17.2 which is incompatible.\n",
            "ipython-sql 0.5.0 requires sqlalchemy>=2.0, but you have sqlalchemy 1.4.50 which is incompatible.\u001b[0m\u001b[31m\n",
            "\u001b[0mSuccessfully installed astor-0.8.1 asttokens-2.4.1 duckdb-0.8.1 executing-2.0.1 ipython-8.17.2 jedi-0.19.1 openai-0.27.10 pandasai-1.4.7 pure-eval-0.2.2 python-dotenv-1.0.0 sqlalchemy-1.4.50 stack-data-0.6.3\n"
          ]
        },
        {
          "output_type": "display_data",
          "data": {
            "application/vnd.colab-display-data+json": {
              "pip_warning": {
                "packages": [
                  "IPython"
                ]
              }
            }
          },
          "metadata": {}
        },
        {
          "output_type": "stream",
          "name": "stdout",
          "text": [
            "Requirement already satisfied: pandas in /usr/local/lib/python3.10/dist-packages (1.5.3)\n",
            "Requirement already satisfied: python-dateutil>=2.8.1 in /usr/local/lib/python3.10/dist-packages (from pandas) (2.8.2)\n",
            "Requirement already satisfied: pytz>=2020.1 in /usr/local/lib/python3.10/dist-packages (from pandas) (2023.3.post1)\n",
            "Requirement already satisfied: numpy>=1.21.0 in /usr/local/lib/python3.10/dist-packages (from pandas) (1.23.5)\n",
            "Requirement already satisfied: six>=1.5 in /usr/local/lib/python3.10/dist-packages (from python-dateutil>=2.8.1->pandas) (1.16.0)\n",
            "Drive already mounted at /content/drive/; to attempt to forcibly remount, call drive.mount(\"/content/drive/\", force_remount=True).\n"
          ]
        }
      ],
      "source": [
        "!pip install pandasai==1.4.7\n",
        "!pip install pandas\n",
        "from google.colab import drive\n",
        "drive.mount('/content/drive/')\n"
      ]
    },
    {
      "cell_type": "code",
      "execution_count": null,
      "metadata": {
        "colab": {
          "base_uri": "https://localhost:8080/"
        },
        "id": "9PyORlIWXkKI",
        "outputId": "f0631218-5577-4848-a932-12850c59b4be"
      },
      "outputs": [
        {
          "output_type": "stream",
          "name": "stdout",
          "text": [
            "Index(['DatGeracaoConjuntoDados', 'DatReferencia', 'SigAgente', 'NumCPFCNPJ',\n",
            "       'CodMunicipio', 'NomMunicipio', 'SigUF', 'SigRegiao',\n",
            "       'NomClassificacaoAgente', 'CodTipoReclamacao', 'NomCanalReclamacao',\n",
            "       'DescReclamacao', 'QtdReclamacoesRecebidas',\n",
            "       'QtdReclamacoesImprocedentes', 'QtdReclamacoesProcedentes',\n",
            "       'NumPrazoMedioSolucao', 'CodFormaContato', 'DscFormaContato',\n",
            "       'NumCtaPrazoMedioSolucaoImproc', 'NumOuvPrazoMedioSolucaoImproc'],\n",
            "      dtype='object')\n"
          ]
        }
      ],
      "source": [
        "import pandasai\n",
        "import pandas as pd\n",
        "from pandasai.llm import AzureOpenAI\n",
        "from pandasai.llm import OpenAI\n",
        "from pandasai import SmartDataframe\n",
        "import openai\n",
        "\n",
        "llm = AzureOpenAI(\n",
        "    api_version=\"2023-05-15\",\n",
        "    deployment_name=\"gpt-35-turbo\",\n",
        "    api_token=\"\",\n",
        "    api_base=\"\",\n",
        "    is_chat_model=True\n",
        ")\n",
        "\n",
        "df = pd.read_csv(\"/content/drive/MyDrive/reclamacoes-n1e2-distribuidoras.csv\", sep=\";\", dtype='unicode', encoding='latin-1')\n",
        "\n",
        "# Print column names to identify the correct column\n",
        "print(df.columns)\n",
        "mean_value = df.mean(numeric_only=True, skipna=True)\n",
        "\n",
        "sdf = SmartDataframe(df, config={\n",
        "    \"llm\": llm,\n",
        "    \"enable_cache\": False,\n",
        "    \"verbose\": True,\n",
        "})\n"
      ]
    },
    {
      "cell_type": "code",
      "source": [
        "import pandasai\n",
        "import pandas as pd\n",
        "from pandasai.llm import AzureOpenAI\n",
        "from pandasai.llm import OpenAI\n",
        "from pandasai import SmartDataframe\n",
        "import openai\n",
        "\n",
        "llm = AzureOpenAI(\n",
        "    api_version=\"2023-05-15\",\n",
        "    deployment_name=\"gpt-35-turbo\",\n",
        "    api_token=\"9f21fc3ae81e4a15b3fb40524f4c837a\",\n",
        "    api_base=\"https://openai-portodigital.openai.azure.com/\",\n",
        "    is_chat_model=True\n",
        ")\n",
        "\n",
        "df = pd.read_csv(\"/content/drive/MyDrive/reclamacoes-n1e2-distribuidoras.csv\", sep=\";\", dtype='unicode', encoding='latin-1')\n",
        "\n",
        "colunas_desejadas = [\n",
        "    'DatGeracaoConjuntoDados', 'DatReferencia', 'SigAgente', 'NumCPFCNPJ',\n",
        "    'CodMunicipio', 'NomMunicipio', 'SigUF', 'SigRegiao',\n",
        "    'NomClassificacaoAgente', 'CodTipoReclamacao', 'NomCanalReclamacao',\n",
        "    'DescReclamacao', 'QtdReclamacoesRecebidas',\n",
        "    'QtdReclamacoesImprocedentes', 'QtdReclamacoesProcedentes',\n",
        "    'NumPrazoMedioSolucao', 'CodFormaContato', 'DscFormaContato',\n",
        "    'NumCtaPrazoMedioSolucaoImproc', 'NumOuvPrazoMedioSolucaoImproc'\n",
        "]\n",
        "\n",
        "novo_df = df[colunas_desejadas].copy()\n",
        "\n",
        "print(novo_df.columns)\n",
        "\n",
        "sdf_novo = SmartDataframe(novo_df, config={\n",
        "    \"llm\": llm,\n",
        "    \"enable_cache\": False,\n",
        "    \"verbose\": True,\n",
        "})\n"
      ],
      "metadata": {
        "colab": {
          "base_uri": "https://localhost:8080/"
        },
        "id": "1CZuf0Yt8VDO",
        "outputId": "f97913c7-9144-4806-e04b-8ae4cb4a00a4"
      },
      "execution_count": null,
      "outputs": [
        {
          "output_type": "stream",
          "name": "stdout",
          "text": [
            "Index(['DatGeracaoConjuntoDados', 'DatReferencia', 'SigAgente', 'NumCPFCNPJ',\n",
            "       'CodMunicipio', 'NomMunicipio', 'SigUF', 'SigRegiao',\n",
            "       'NomClassificacaoAgente', 'CodTipoReclamacao', 'NomCanalReclamacao',\n",
            "       'DescReclamacao', 'QtdReclamacoesRecebidas',\n",
            "       'QtdReclamacoesImprocedentes', 'QtdReclamacoesProcedentes',\n",
            "       'NumPrazoMedioSolucao', 'CodFormaContato', 'DscFormaContato',\n",
            "       'NumCtaPrazoMedioSolucaoImproc', 'NumOuvPrazoMedioSolucaoImproc'],\n",
            "      dtype='object')\n"
          ]
        }
      ]
    },
    {
      "cell_type": "code",
      "source": [
        "prompt = \"Which SigAgente has more QtdReclamacoesRecebida but QtdReclamacoesProcedentes?\"\n",
        "response = sdf_novo.chat(prompt)\n",
        "print(response)"
      ],
      "metadata": {
        "colab": {
          "base_uri": "https://localhost:8080/"
        },
        "id": "bfnLV7KY-W76",
        "outputId": "970aecc1-4e05-4baf-e46f-97ac6dd800a0"
      },
      "execution_count": null,
      "outputs": [
        {
          "output_type": "stream",
          "name": "stderr",
          "text": [
            "WARNING:pandasai.helpers.logger:Error of executing code\n",
            "WARNING:pandasai.helpers.logger:Failed to execute code with a correction framework [retry number: 1]\n",
            "ERROR:pandasai.helpers.logger:Failed with error: Traceback (most recent call last):\n",
            "  File \"/usr/local/lib/python3.10/dist-packages/pandas/core/ops/array_ops.py\", line 165, in _na_arithmetic_op\n",
            "    result = func(left, right)\n",
            "  File \"/usr/local/lib/python3.10/dist-packages/pandas/core/computation/expressions.py\", line 241, in evaluate\n",
            "    return _evaluate(op, op_str, a, b)  # type: ignore[misc]\n",
            "  File \"/usr/local/lib/python3.10/dist-packages/pandas/core/computation/expressions.py\", line 129, in _evaluate_numexpr\n",
            "    result = _evaluate_standard(op, op_str, a, b)\n",
            "  File \"/usr/local/lib/python3.10/dist-packages/pandas/core/computation/expressions.py\", line 70, in _evaluate_standard\n",
            "    return op(a, b)\n",
            "TypeError: unsupported operand type(s) for -: 'str' and 'str'\n",
            "\n",
            "During handling of the above exception, another exception occurred:\n",
            "\n",
            "Traceback (most recent call last):\n",
            "  File \"/usr/local/lib/python3.10/dist-packages/pandasai/smart_datalake/__init__.py\", line 438, in chat\n",
            "    result = self._code_manager.execute_code(\n",
            "  File \"/usr/local/lib/python3.10/dist-packages/pandasai/helpers/code_manager.py\", line 286, in execute_code\n",
            "    return analyze_data(self._get_originals(dfs))\n",
            "  File \"<string>\", line 23, in analyze_data\n",
            "  File \"/usr/local/lib/python3.10/dist-packages/pandas/core/ops/common.py\", line 72, in new_method\n",
            "    return method(self, other)\n",
            "  File \"/usr/local/lib/python3.10/dist-packages/pandas/core/arraylike.py\", line 110, in __sub__\n",
            "    return self._arith_method(other, operator.sub)\n",
            "  File \"/usr/local/lib/python3.10/dist-packages/pandas/core/series.py\", line 6259, in _arith_method\n",
            "    return base.IndexOpsMixin._arith_method(self, other, op)\n",
            "  File \"/usr/local/lib/python3.10/dist-packages/pandas/core/base.py\", line 1325, in _arith_method\n",
            "    result = ops.arithmetic_op(lvalues, rvalues, op)\n",
            "  File \"/usr/local/lib/python3.10/dist-packages/pandas/core/ops/array_ops.py\", line 226, in arithmetic_op\n",
            "    res_values = _na_arithmetic_op(left, right, op)  # type: ignore[arg-type]\n",
            "  File \"/usr/local/lib/python3.10/dist-packages/pandas/core/ops/array_ops.py\", line 172, in _na_arithmetic_op\n",
            "    result = _masked_arith_op(left, right, op)\n",
            "  File \"/usr/local/lib/python3.10/dist-packages/pandas/core/ops/array_ops.py\", line 110, in _masked_arith_op\n",
            "    result[mask] = op(xrav[mask], yrav[mask])\n",
            "TypeError: unsupported operand type(s) for -: 'str' and 'str'\n",
            ". Retrying\n",
            "WARNING:pandasai.helpers.logger:Failed to execute code with a correction framework [retry number: 2]\n",
            "ERROR:pandasai.helpers.logger:Failed with error: Traceback (most recent call last):\n",
            "  File \"/usr/local/lib/python3.10/dist-packages/pandasai/smart_datalake/__init__.py\", line 438, in chat\n",
            "    result = self._code_manager.execute_code(\n",
            "  File \"/usr/local/lib/python3.10/dist-packages/pandasai/helpers/code_manager.py\", line 286, in execute_code\n",
            "    return analyze_data(self._get_originals(dfs))\n",
            "  File \"<string>\", line 23, in analyze_data\n",
            "  File \"/usr/local/lib/python3.10/dist-packages/pandas/core/generic.py\", line 6240, in astype\n",
            "    new_data = self._mgr.astype(dtype=dtype, copy=copy, errors=errors)\n",
            "  File \"/usr/local/lib/python3.10/dist-packages/pandas/core/internals/managers.py\", line 448, in astype\n",
            "    return self.apply(\"astype\", dtype=dtype, copy=copy, errors=errors)\n",
            "  File \"/usr/local/lib/python3.10/dist-packages/pandas/core/internals/managers.py\", line 352, in apply\n",
            "    applied = getattr(b, f)(**kwargs)\n",
            "  File \"/usr/local/lib/python3.10/dist-packages/pandas/core/internals/blocks.py\", line 526, in astype\n",
            "    new_values = astype_array_safe(values, dtype, copy=copy, errors=errors)\n",
            "  File \"/usr/local/lib/python3.10/dist-packages/pandas/core/dtypes/astype.py\", line 299, in astype_array_safe\n",
            "    new_values = astype_array(values, dtype, copy=copy)\n",
            "  File \"/usr/local/lib/python3.10/dist-packages/pandas/core/dtypes/astype.py\", line 230, in astype_array\n",
            "    values = astype_nansafe(values, dtype, copy=copy)\n",
            "  File \"/usr/local/lib/python3.10/dist-packages/pandas/core/dtypes/astype.py\", line 170, in astype_nansafe\n",
            "    return arr.astype(dtype, copy=True)\n",
            "ValueError: Exceeds the limit (4300) for integer string conversion: value has 30649 digits; use sys.set_int_max_str_digits() to increase the limit\n",
            ". Retrying\n",
            "WARNING:pandasai.helpers.logger:Error of executing code\n"
          ]
        },
        {
          "output_type": "stream",
          "name": "stdout",
          "text": [
            "Unfortunately, I was not able to answer your question, because of the following error:\n",
            "\n",
            "unsupported operand type(s) for -: 'float' and 'str'\n",
            "\n"
          ]
        }
      ]
    },
    {
      "cell_type": "code",
      "source": [
        "prompt = \"Made a histogram of the question, What are the five states with the most complaints? Search in SigUF and QtdReclamacoesRecebidas for the answer, only on these columns.\"\n",
        "\n",
        "prompt += f\" The relevant columns are: SigUF and QtdReclamacoesRecebidas. {novo_df['SigUF'].nunique()} unique states and {novo_df['QtdReclamacoesRecebidas'].nunique()} unique complaint counts.\"\n",
        "\n",
        "response = sdf_novo.chat(prompt)\n",
        "print(response)\n"
      ],
      "metadata": {
        "colab": {
          "base_uri": "https://localhost:8080/",
          "height": 933
        },
        "id": "Sr9ZXQAl8khP",
        "outputId": "65f72c39-0f3d-48b5-d312-23dac9691946"
      },
      "execution_count": null,
      "outputs": [
        {
          "output_type": "stream",
          "name": "stderr",
          "text": [
            "<string>:28: UserWarning: Tight layout not applied. The left and right margins cannot be made large enough to accommodate all axes decorations.\n"
          ]
        },
        {
          "output_type": "display_data",
          "data": {
            "text/plain": [
              "<Figure size 640x480 with 1 Axes>"
            ],
            "image/png": "[encoded data removed]"
          },
          "metadata": {}
        },
        {
          "output_type": "display_data",
          "data": {
            "text/plain": [
              "<Figure size 640x480 with 1 Axes>"
            ],
            "image/png": "[encoded data removed]"
          },
          "metadata": {}
        },
        {
          "output_type": "stream",
          "name": "stdout",
          "text": [
            "None\n"
          ]
        }
      ]
    },
    {
      "cell_type": "code",
      "source": [
        "\n",
        "response = sdf.chat(\"Made a histogram of the question, What are the five states with the most complaints? Search in SigUf and QtdReclamacoesRecebida for answer the question, only on these column.\")\n",
        "print(response)"
      ],
      "metadata": {
        "colab": {
          "base_uri": "https://localhost:8080/",
          "height": 933
        },
        "id": "AeW2o1as54xf",
        "outputId": "62a10952-80ef-4104-c64e-bb86cf5ae0a3"
      },
      "execution_count": null,
      "outputs": [
        {
          "output_type": "stream",
          "name": "stderr",
          "text": [
            "<string>:28: UserWarning: Tight layout not applied. The left and right margins cannot be made large enough to accommodate all axes decorations.\n"
          ]
        },
        {
          "output_type": "display_data",
          "data": {
            "text/plain": [
              "<Figure size 640x480 with 1 Axes>"
            ],
            "image/png": "[encoded data removed]"
          },
          "metadata": {}
        },
        {
          "output_type": "display_data",
          "data": {
            "text/plain": [
              "<Figure size 640x480 with 1 Axes>"
            ],
            "image/png": "[encoded data removed]"
          },
          "metadata": {}
        },
        {
          "output_type": "stream",
          "name": "stdout",
          "text": [
            "None\n"
          ]
        }
      ]
    },
    {
      "cell_type": "code",
      "source": [],
      "metadata": {
        "id": "rnU782xs7SUt"
      },
      "execution_count": null,
      "outputs": []
    },
    {
      "cell_type": "code",
      "execution_count": null,
      "metadata": {
        "colab": {
          "background_save": true,
          "base_uri": "https://localhost:8080/"
        },
        "id": "lG3iotYRR4Z4",
        "outputId": "0233355b-7613-451c-9aa0-1ee88df8cc44"
      },
      "outputs": [
        {
          "name": "stderr",
          "output_type": "stream",
          "text": [
            "WARNING:pandasai.helpers.logger:Failed to execute code with a correction framework [retry number: 1]\n",
            "ERROR:pandasai.helpers.logger:Failed with error: Traceback (most recent call last):\n",
            "  File \"/usr/local/lib/python3.10/dist-packages/pandasai/smart_datalake/__init__.py\", line 438, in chat\n",
            "    result = self._code_manager.execute_code(\n",
            "  File \"/usr/local/lib/python3.10/dist-packages/pandasai/helpers/code_manager.py\", line 286, in execute_code\n",
            "    return analyze_data(self._get_originals(dfs))\n",
            "  File \"<string>\", line 24, in analyze_data\n",
            "  File \"/usr/local/lib/python3.10/dist-packages/pandas/core/generic.py\", line 6240, in astype\n",
            "    new_data = self._mgr.astype(dtype=dtype, copy=copy, errors=errors)\n",
            "  File \"/usr/local/lib/python3.10/dist-packages/pandas/core/internals/managers.py\", line 448, in astype\n",
            "    return self.apply(\"astype\", dtype=dtype, copy=copy, errors=errors)\n",
            "  File \"/usr/local/lib/python3.10/dist-packages/pandas/core/internals/managers.py\", line 352, in apply\n",
            "    applied = getattr(b, f)(**kwargs)\n",
            "  File \"/usr/local/lib/python3.10/dist-packages/pandas/core/internals/blocks.py\", line 526, in astype\n",
            "    new_values = astype_array_safe(values, dtype, copy=copy, errors=errors)\n",
            "  File \"/usr/local/lib/python3.10/dist-packages/pandas/core/dtypes/astype.py\", line 299, in astype_array_safe\n",
            "    new_values = astype_array(values, dtype, copy=copy)\n",
            "  File \"/usr/local/lib/python3.10/dist-packages/pandas/core/dtypes/astype.py\", line 230, in astype_array\n",
            "    values = astype_nansafe(values, dtype, copy=copy)\n",
            "  File \"/usr/local/lib/python3.10/dist-packages/pandas/core/dtypes/astype.py\", line 170, in astype_nansafe\n",
            "    return arr.astype(dtype, copy=True)\n",
            "ValueError: Exceeds the limit (4300) for integer string conversion: value has 46512 digits; use sys.set_int_max_str_digits() to increase the limit\n",
            ". Retrying\n"
          ]
        },
        {
          "name": "stdout",
          "output_type": "stream",
          "text": [
            "Answer: Unfortunately, I was not able to answer your question, because of the following error:\n",
            "\n",
            "No code found in the response\n",
            "\n"
          ]
        },
        {
          "name": "stderr",
          "output_type": "stream",
          "text": [
            "WARNING:pandasai.helpers.logger:Failed to execute code with a correction framework [retry number: 1]\n",
            "ERROR:pandasai.helpers.logger:Failed with error: Traceback (most recent call last):\n",
            "  File \"/usr/local/lib/python3.10/dist-packages/pandasai/smart_datalake/__init__.py\", line 438, in chat\n",
            "    result = self._code_manager.execute_code(\n",
            "  File \"/usr/local/lib/python3.10/dist-packages/pandasai/helpers/code_manager.py\", line 286, in execute_code\n",
            "    return analyze_data(self._get_originals(dfs))\n",
            "  File \"<string>\", line 24, in analyze_data\n",
            "  File \"/usr/local/lib/python3.10/dist-packages/pandas/core/generic.py\", line 6240, in astype\n",
            "    new_data = self._mgr.astype(dtype=dtype, copy=copy, errors=errors)\n",
            "  File \"/usr/local/lib/python3.10/dist-packages/pandas/core/internals/managers.py\", line 448, in astype\n",
            "    return self.apply(\"astype\", dtype=dtype, copy=copy, errors=errors)\n",
            "  File \"/usr/local/lib/python3.10/dist-packages/pandas/core/internals/managers.py\", line 352, in apply\n",
            "    applied = getattr(b, f)(**kwargs)\n",
            "  File \"/usr/local/lib/python3.10/dist-packages/pandas/core/internals/blocks.py\", line 526, in astype\n",
            "    new_values = astype_array_safe(values, dtype, copy=copy, errors=errors)\n",
            "  File \"/usr/local/lib/python3.10/dist-packages/pandas/core/dtypes/astype.py\", line 299, in astype_array_safe\n",
            "    new_values = astype_array(values, dtype, copy=copy)\n",
            "  File \"/usr/local/lib/python3.10/dist-packages/pandas/core/dtypes/astype.py\", line 230, in astype_array\n",
            "    values = astype_nansafe(values, dtype, copy=copy)\n",
            "  File \"/usr/local/lib/python3.10/dist-packages/pandas/core/dtypes/astype.py\", line 170, in astype_nansafe\n",
            "    return arr.astype(dtype, copy=True)\n",
            "ValueError: Exceeds the limit (4300) for integer string conversion: value has 46512 digits; use sys.set_int_max_str_digits() to increase the limit\n",
            ". Retrying\n"
          ]
        },
        {
          "name": "stdout",
          "output_type": "stream",
          "text": [
            "Answer: Unfortunately, I was not able to answer your question, because of the following error:\n",
            "\n",
            "No code found in the response\n",
            "\n"
          ]
        },
        {
          "name": "stderr",
          "output_type": "stream",
          "text": [
            "WARNING:pandasai.helpers.logger:Failed to execute code with a correction framework [retry number: 1]\n",
            "ERROR:pandasai.helpers.logger:Failed with error: Traceback (most recent call last):\n",
            "  File \"/usr/local/lib/python3.10/dist-packages/pandasai/smart_datalake/__init__.py\", line 438, in chat\n",
            "    result = self._code_manager.execute_code(\n",
            "  File \"/usr/local/lib/python3.10/dist-packages/pandasai/helpers/code_manager.py\", line 286, in execute_code\n",
            "    return analyze_data(self._get_originals(dfs))\n",
            "  File \"<string>\", line 24, in analyze_data\n",
            "  File \"/usr/local/lib/python3.10/dist-packages/pandas/core/generic.py\", line 6240, in astype\n",
            "    new_data = self._mgr.astype(dtype=dtype, copy=copy, errors=errors)\n",
            "  File \"/usr/local/lib/python3.10/dist-packages/pandas/core/internals/managers.py\", line 448, in astype\n",
            "    return self.apply(\"astype\", dtype=dtype, copy=copy, errors=errors)\n",
            "  File \"/usr/local/lib/python3.10/dist-packages/pandas/core/internals/managers.py\", line 352, in apply\n",
            "    applied = getattr(b, f)(**kwargs)\n",
            "  File \"/usr/local/lib/python3.10/dist-packages/pandas/core/internals/blocks.py\", line 526, in astype\n",
            "    new_values = astype_array_safe(values, dtype, copy=copy, errors=errors)\n",
            "  File \"/usr/local/lib/python3.10/dist-packages/pandas/core/dtypes/astype.py\", line 299, in astype_array_safe\n",
            "    new_values = astype_array(values, dtype, copy=copy)\n",
            "  File \"/usr/local/lib/python3.10/dist-packages/pandas/core/dtypes/astype.py\", line 230, in astype_array\n",
            "    values = astype_nansafe(values, dtype, copy=copy)\n",
            "  File \"/usr/local/lib/python3.10/dist-packages/pandas/core/dtypes/astype.py\", line 170, in astype_nansafe\n",
            "    return arr.astype(dtype, copy=True)\n",
            "ValueError: Exceeds the limit (4300) for integer string conversion: value has 46512 digits; use sys.set_int_max_str_digits() to increase the limit\n",
            ". Retrying\n"
          ]
        },
        {
          "name": "stdout",
          "output_type": "stream",
          "text": [
            "Answer: Unfortunately, I was not able to answer your question, because of the following error:\n",
            "\n",
            "No code found in the response\n",
            "\n"
          ]
        },
        {
          "name": "stderr",
          "output_type": "stream",
          "text": [
            "IOPub data rate exceeded.\n",
            "The notebook server will temporarily stop sending output\n",
            "to the client in order to avoid crashing it.\n",
            "To change this limit, set the config variable\n",
            "`--NotebookApp.iopub_data_rate_limit`.\n",
            "\n",
            "Current values:\n",
            "NotebookApp.iopub_data_rate_limit=1000000.0 (bytes/sec)\n",
            "NotebookApp.rate_limit_window=3.0 (secs)\n",
            "\n",
            "WARNING:pandasai.helpers.logger:Failed to execute code with a correction framework [retry number: 1]\n",
            "ERROR:pandasai.helpers.logger:Failed with error: Traceback (most recent call last):\n",
            "  File \"/usr/local/lib/python3.10/dist-packages/pandasai/smart_datalake/__init__.py\", line 438, in chat\n",
            "    result = self._code_manager.execute_code(\n",
            "  File \"/usr/local/lib/python3.10/dist-packages/pandasai/helpers/code_manager.py\", line 286, in execute_code\n",
            "    return analyze_data(self._get_originals(dfs))\n",
            "  File \"<string>\", line 24, in analyze_data\n",
            "  File \"/usr/local/lib/python3.10/dist-packages/pandas/core/generic.py\", line 6240, in astype\n",
            "    new_data = self._mgr.astype(dtype=dtype, copy=copy, errors=errors)\n",
            "  File \"/usr/local/lib/python3.10/dist-packages/pandas/core/internals/managers.py\", line 448, in astype\n",
            "    return self.apply(\"astype\", dtype=dtype, copy=copy, errors=errors)\n",
            "  File \"/usr/local/lib/python3.10/dist-packages/pandas/core/internals/managers.py\", line 352, in apply\n",
            "    applied = getattr(b, f)(**kwargs)\n",
            "  File \"/usr/local/lib/python3.10/dist-packages/pandas/core/internals/blocks.py\", line 526, in astype\n",
            "    new_values = astype_array_safe(values, dtype, copy=copy, errors=errors)\n",
            "  File \"/usr/local/lib/python3.10/dist-packages/pandas/core/dtypes/astype.py\", line 299, in astype_array_safe\n",
            "    new_values = astype_array(values, dtype, copy=copy)\n",
            "  File \"/usr/local/lib/python3.10/dist-packages/pandas/core/dtypes/astype.py\", line 230, in astype_array\n",
            "    values = astype_nansafe(values, dtype, copy=copy)\n",
            "  File \"/usr/local/lib/python3.10/dist-packages/pandas/core/dtypes/astype.py\", line 170, in astype_nansafe\n",
            "    return arr.astype(dtype, copy=True)\n",
            "ValueError: Exceeds the limit (4300) for integer string conversion: value has 46512 digits; use sys.set_int_max_str_digits() to increase the limit\n",
            ". Retrying\n"
          ]
        },
        {
          "name": "stdout",
          "output_type": "stream",
          "text": [
            "Answer: Unfortunately, I was not able to answer your question, because of the following error:\n",
            "\n",
            "No code found in the response\n",
            "\n"
          ]
        },
        {
          "name": "stderr",
          "output_type": "stream",
          "text": [
            "WARNING:pandasai.helpers.logger:Failed to execute code with a correction framework [retry number: 1]\n",
            "ERROR:pandasai.helpers.logger:Failed with error: Traceback (most recent call last):\n",
            "  File \"/usr/local/lib/python3.10/dist-packages/pandasai/smart_datalake/__init__.py\", line 438, in chat\n",
            "    result = self._code_manager.execute_code(\n",
            "  File \"/usr/local/lib/python3.10/dist-packages/pandasai/helpers/code_manager.py\", line 286, in execute_code\n",
            "    return analyze_data(self._get_originals(dfs))\n",
            "  File \"<string>\", line 24, in analyze_data\n",
            "  File \"/usr/local/lib/python3.10/dist-packages/pandas/core/generic.py\", line 6240, in astype\n",
            "    new_data = self._mgr.astype(dtype=dtype, copy=copy, errors=errors)\n",
            "  File \"/usr/local/lib/python3.10/dist-packages/pandas/core/internals/managers.py\", line 448, in astype\n",
            "    return self.apply(\"astype\", dtype=dtype, copy=copy, errors=errors)\n",
            "  File \"/usr/local/lib/python3.10/dist-packages/pandas/core/internals/managers.py\", line 352, in apply\n",
            "    applied = getattr(b, f)(**kwargs)\n",
            "  File \"/usr/local/lib/python3.10/dist-packages/pandas/core/internals/blocks.py\", line 526, in astype\n",
            "    new_values = astype_array_safe(values, dtype, copy=copy, errors=errors)\n",
            "  File \"/usr/local/lib/python3.10/dist-packages/pandas/core/dtypes/astype.py\", line 299, in astype_array_safe\n",
            "    new_values = astype_array(values, dtype, copy=copy)\n",
            "  File \"/usr/local/lib/python3.10/dist-packages/pandas/core/dtypes/astype.py\", line 230, in astype_array\n",
            "    values = astype_nansafe(values, dtype, copy=copy)\n",
            "  File \"/usr/local/lib/python3.10/dist-packages/pandas/core/dtypes/astype.py\", line 170, in astype_nansafe\n",
            "    return arr.astype(dtype, copy=True)\n",
            "ValueError: Exceeds the limit (4300) for integer string conversion: value has 46512 digits; use sys.set_int_max_str_digits() to increase the limit\n",
            ". Retrying\n"
          ]
        },
        {
          "name": "stdout",
          "output_type": "stream",
          "text": [
            "Answer: Unfortunately, I was not able to answer your question, because of the following error:\n",
            "\n",
            "No code found in the response\n",
            "\n"
          ]
        },
        {
          "name": "stderr",
          "output_type": "stream",
          "text": [
            "WARNING:pandasai.helpers.logger:Failed to execute code with a correction framework [retry number: 1]\n",
            "ERROR:pandasai.helpers.logger:Failed with error: Traceback (most recent call last):\n",
            "  File \"/usr/local/lib/python3.10/dist-packages/pandasai/smart_datalake/__init__.py\", line 438, in chat\n",
            "    result = self._code_manager.execute_code(\n",
            "  File \"/usr/local/lib/python3.10/dist-packages/pandasai/helpers/code_manager.py\", line 286, in execute_code\n",
            "    return analyze_data(self._get_originals(dfs))\n",
            "  File \"<string>\", line 25, in analyze_data\n",
            "  File \"/usr/local/lib/python3.10/dist-packages/pandas/core/generic.py\", line 6240, in astype\n",
            "    new_data = self._mgr.astype(dtype=dtype, copy=copy, errors=errors)\n",
            "  File \"/usr/local/lib/python3.10/dist-packages/pandas/core/internals/managers.py\", line 448, in astype\n",
            "    return self.apply(\"astype\", dtype=dtype, copy=copy, errors=errors)\n",
            "  File \"/usr/local/lib/python3.10/dist-packages/pandas/core/internals/managers.py\", line 352, in apply\n",
            "    applied = getattr(b, f)(**kwargs)\n",
            "  File \"/usr/local/lib/python3.10/dist-packages/pandas/core/internals/blocks.py\", line 526, in astype\n",
            "    new_values = astype_array_safe(values, dtype, copy=copy, errors=errors)\n",
            "  File \"/usr/local/lib/python3.10/dist-packages/pandas/core/dtypes/astype.py\", line 299, in astype_array_safe\n",
            "    new_values = astype_array(values, dtype, copy=copy)\n",
            "  File \"/usr/local/lib/python3.10/dist-packages/pandas/core/dtypes/astype.py\", line 230, in astype_array\n",
            "    values = astype_nansafe(values, dtype, copy=copy)\n",
            "  File \"/usr/local/lib/python3.10/dist-packages/pandas/core/dtypes/astype.py\", line 170, in astype_nansafe\n",
            "    return arr.astype(dtype, copy=True)\n",
            "ValueError: Exceeds the limit (4300) for integer string conversion: value has 46512 digits; use sys.set_int_max_str_digits() to increase the limit\n",
            ". Retrying\n",
            "WARNING:pandasai.helpers.logger:Failed to execute code with a correction framework [retry number: 2]\n",
            "ERROR:pandasai.helpers.logger:Failed with error: Traceback (most recent call last):\n",
            "  File \"/usr/local/lib/python3.10/dist-packages/pandasai/smart_datalake/__init__.py\", line 438, in chat\n",
            "    result = self._code_manager.execute_code(\n",
            "  File \"/usr/local/lib/python3.10/dist-packages/pandasai/helpers/code_manager.py\", line 252, in execute_code\n",
            "    code_to_run = self._clean_code(code, context)\n",
            "  File \"/usr/local/lib/python3.10/dist-packages/pandasai/helpers/code_manager.py\", line 433, in _clean_code\n",
            "    self._check_imports(node)\n",
            "  File \"/usr/local/lib/python3.10/dist-packages/pandasai/helpers/code_manager.py\", line 507, in _check_imports\n",
            "    raise BadImportError(library)\n",
            "pandasai.exceptions.BadImportError: Generated code includes import of sys which is not in whitelist.\n",
            ". Retrying\n"
          ]
        },
        {
          "name": "stdout",
          "output_type": "stream",
          "text": [
            "Answer: Unfortunately, I was not able to answer your question, because of the following error:\n",
            "\n",
            "Exceeds the limit (4300) for integer string conversion: value has 46512 digits; use sys.set_int_max_str_digits() to increase the limit\n",
            "\n"
          ]
        },
        {
          "name": "stderr",
          "output_type": "stream",
          "text": [
            "WARNING:pandasai.helpers.logger:Failed to execute code with a correction framework [retry number: 1]\n",
            "ERROR:pandasai.helpers.logger:Failed with error: Traceback (most recent call last):\n",
            "  File \"/usr/local/lib/python3.10/dist-packages/pandasai/smart_datalake/__init__.py\", line 438, in chat\n",
            "    result = self._code_manager.execute_code(\n",
            "  File \"/usr/local/lib/python3.10/dist-packages/pandasai/helpers/code_manager.py\", line 286, in execute_code\n",
            "    return analyze_data(self._get_originals(dfs))\n",
            "  File \"<string>\", line 24, in analyze_data\n",
            "  File \"/usr/local/lib/python3.10/dist-packages/pandas/core/generic.py\", line 6240, in astype\n",
            "    new_data = self._mgr.astype(dtype=dtype, copy=copy, errors=errors)\n",
            "  File \"/usr/local/lib/python3.10/dist-packages/pandas/core/internals/managers.py\", line 448, in astype\n",
            "    return self.apply(\"astype\", dtype=dtype, copy=copy, errors=errors)\n",
            "  File \"/usr/local/lib/python3.10/dist-packages/pandas/core/internals/managers.py\", line 352, in apply\n",
            "    applied = getattr(b, f)(**kwargs)\n",
            "  File \"/usr/local/lib/python3.10/dist-packages/pandas/core/internals/blocks.py\", line 526, in astype\n",
            "    new_values = astype_array_safe(values, dtype, copy=copy, errors=errors)\n",
            "  File \"/usr/local/lib/python3.10/dist-packages/pandas/core/dtypes/astype.py\", line 299, in astype_array_safe\n",
            "    new_values = astype_array(values, dtype, copy=copy)\n",
            "  File \"/usr/local/lib/python3.10/dist-packages/pandas/core/dtypes/astype.py\", line 230, in astype_array\n",
            "    values = astype_nansafe(values, dtype, copy=copy)\n",
            "  File \"/usr/local/lib/python3.10/dist-packages/pandas/core/dtypes/astype.py\", line 170, in astype_nansafe\n",
            "    return arr.astype(dtype, copy=True)\n",
            "ValueError: Exceeds the limit (4300) for integer string conversion: value has 46512 digits; use sys.set_int_max_str_digits() to increase the limit\n",
            ". Retrying\n"
          ]
        },
        {
          "name": "stdout",
          "output_type": "stream",
          "text": [
            "Answer: Unfortunately, I was not able to answer your question, because of the following error:\n",
            "\n",
            "No code found in the response\n",
            "\n"
          ]
        },
        {
          "name": "stderr",
          "output_type": "stream",
          "text": [
            "WARNING:pandasai.helpers.logger:Failed to execute code with a correction framework [retry number: 1]\n",
            "ERROR:pandasai.helpers.logger:Failed with error: Traceback (most recent call last):\n",
            "  File \"/usr/local/lib/python3.10/dist-packages/pandasai/smart_datalake/__init__.py\", line 438, in chat\n",
            "    result = self._code_manager.execute_code(\n",
            "  File \"/usr/local/lib/python3.10/dist-packages/pandasai/helpers/code_manager.py\", line 286, in execute_code\n",
            "    return analyze_data(self._get_originals(dfs))\n",
            "  File \"<string>\", line 24, in analyze_data\n",
            "  File \"/usr/local/lib/python3.10/dist-packages/pandas/core/generic.py\", line 6240, in astype\n",
            "    new_data = self._mgr.astype(dtype=dtype, copy=copy, errors=errors)\n",
            "  File \"/usr/local/lib/python3.10/dist-packages/pandas/core/internals/managers.py\", line 448, in astype\n",
            "    return self.apply(\"astype\", dtype=dtype, copy=copy, errors=errors)\n",
            "  File \"/usr/local/lib/python3.10/dist-packages/pandas/core/internals/managers.py\", line 352, in apply\n",
            "    applied = getattr(b, f)(**kwargs)\n",
            "  File \"/usr/local/lib/python3.10/dist-packages/pandas/core/internals/blocks.py\", line 526, in astype\n",
            "    new_values = astype_array_safe(values, dtype, copy=copy, errors=errors)\n",
            "  File \"/usr/local/lib/python3.10/dist-packages/pandas/core/dtypes/astype.py\", line 299, in astype_array_safe\n",
            "    new_values = astype_array(values, dtype, copy=copy)\n",
            "  File \"/usr/local/lib/python3.10/dist-packages/pandas/core/dtypes/astype.py\", line 230, in astype_array\n",
            "    values = astype_nansafe(values, dtype, copy=copy)\n",
            "  File \"/usr/local/lib/python3.10/dist-packages/pandas/core/dtypes/astype.py\", line 170, in astype_nansafe\n",
            "    return arr.astype(dtype, copy=True)\n",
            "ValueError: Exceeds the limit (4300) for integer string conversion: value has 46512 digits; use sys.set_int_max_str_digits() to increase the limit\n",
            ". Retrying\n"
          ]
        },
        {
          "name": "stdout",
          "output_type": "stream",
          "text": [
            "Answer: Unfortunately, I was not able to answer your question, because of the following error:\n",
            "\n",
            "No code found in the response\n",
            "\n"
          ]
        },
        {
          "name": "stderr",
          "output_type": "stream",
          "text": [
            "<string>:23: SettingWithCopyWarning: \n",
            "A value is trying to be set on a copy of a slice from a DataFrame.\n",
            "Try using .loc[row_indexer,col_indexer] = value instead\n",
            "\n",
            "See the caveats in the documentation: https://pandas.pydata.org/pandas-docs/stable/user_guide/indexing.html#returning-a-view-versus-a-copy\n",
            "WARNING:pandasai.helpers.logger:Failed to execute code with a correction framework [retry number: 1]\n",
            "ERROR:pandasai.helpers.logger:Failed with error: Traceback (most recent call last):\n",
            "  File \"/usr/local/lib/python3.10/dist-packages/pandasai/smart_datalake/__init__.py\", line 438, in chat\n",
            "    result = self._code_manager.execute_code(\n",
            "  File \"/usr/local/lib/python3.10/dist-packages/pandasai/helpers/code_manager.py\", line 286, in execute_code\n",
            "    return analyze_data(self._get_originals(dfs))\n",
            "  File \"<string>\", line 24, in analyze_data\n",
            "  File \"/usr/local/lib/python3.10/dist-packages/pandas/core/generic.py\", line 6240, in astype\n",
            "    new_data = self._mgr.astype(dtype=dtype, copy=copy, errors=errors)\n",
            "  File \"/usr/local/lib/python3.10/dist-packages/pandas/core/internals/managers.py\", line 448, in astype\n",
            "    return self.apply(\"astype\", dtype=dtype, copy=copy, errors=errors)\n",
            "  File \"/usr/local/lib/python3.10/dist-packages/pandas/core/internals/managers.py\", line 352, in apply\n",
            "    applied = getattr(b, f)(**kwargs)\n",
            "  File \"/usr/local/lib/python3.10/dist-packages/pandas/core/internals/blocks.py\", line 526, in astype\n",
            "    new_values = astype_array_safe(values, dtype, copy=copy, errors=errors)\n",
            "  File \"/usr/local/lib/python3.10/dist-packages/pandas/core/dtypes/astype.py\", line 299, in astype_array_safe\n",
            "    new_values = astype_array(values, dtype, copy=copy)\n",
            "  File \"/usr/local/lib/python3.10/dist-packages/pandas/core/dtypes/astype.py\", line 230, in astype_array\n",
            "    values = astype_nansafe(values, dtype, copy=copy)\n",
            "  File \"/usr/local/lib/python3.10/dist-packages/pandas/core/dtypes/astype.py\", line 170, in astype_nansafe\n",
            "    return arr.astype(dtype, copy=True)\n",
            "ValueError: Exceeds the limit (4300) for integer string conversion: value has 46512 digits; use sys.set_int_max_str_digits() to increase the limit\n",
            ". Retrying\n"
          ]
        },
        {
          "name": "stdout",
          "output_type": "stream",
          "text": [
            "Answer: Unfortunately, I was not able to answer your question, because of the following error:\n",
            "\n",
            "No code found in the response\n",
            "\n"
          ]
        },
        {
          "name": "stderr",
          "output_type": "stream",
          "text": [
            "WARNING:pandasai.helpers.logger:Failed to execute code with a correction framework [retry number: 1]\n",
            "ERROR:pandasai.helpers.logger:Failed with error: Traceback (most recent call last):\n",
            "  File \"/usr/local/lib/python3.10/dist-packages/pandasai/smart_datalake/__init__.py\", line 438, in chat\n",
            "    result = self._code_manager.execute_code(\n",
            "  File \"/usr/local/lib/python3.10/dist-packages/pandasai/helpers/code_manager.py\", line 286, in execute_code\n",
            "    return analyze_data(self._get_originals(dfs))\n",
            "  File \"<string>\", line 24, in analyze_data\n",
            "  File \"/usr/local/lib/python3.10/dist-packages/pandas/core/generic.py\", line 6240, in astype\n",
            "    new_data = self._mgr.astype(dtype=dtype, copy=copy, errors=errors)\n",
            "  File \"/usr/local/lib/python3.10/dist-packages/pandas/core/internals/managers.py\", line 448, in astype\n",
            "    return self.apply(\"astype\", dtype=dtype, copy=copy, errors=errors)\n",
            "  File \"/usr/local/lib/python3.10/dist-packages/pandas/core/internals/managers.py\", line 352, in apply\n",
            "    applied = getattr(b, f)(**kwargs)\n",
            "  File \"/usr/local/lib/python3.10/dist-packages/pandas/core/internals/blocks.py\", line 526, in astype\n",
            "    new_values = astype_array_safe(values, dtype, copy=copy, errors=errors)\n",
            "  File \"/usr/local/lib/python3.10/dist-packages/pandas/core/dtypes/astype.py\", line 299, in astype_array_safe\n",
            "    new_values = astype_array(values, dtype, copy=copy)\n",
            "  File \"/usr/local/lib/python3.10/dist-packages/pandas/core/dtypes/astype.py\", line 230, in astype_array\n",
            "    values = astype_nansafe(values, dtype, copy=copy)\n",
            "  File \"/usr/local/lib/python3.10/dist-packages/pandas/core/dtypes/astype.py\", line 170, in astype_nansafe\n",
            "    return arr.astype(dtype, copy=True)\n",
            "ValueError: Exceeds the limit (4300) for integer string conversion: value has 46512 digits; use sys.set_int_max_str_digits() to increase the limit\n",
            ". Retrying\n"
          ]
        },
        {
          "name": "stdout",
          "output_type": "stream",
          "text": [
            "Answer: Unfortunately, I was not able to answer your question, because of the following error:\n",
            "\n",
            "No code found in the response\n",
            "\n"
          ]
        },
        {
          "name": "stderr",
          "output_type": "stream",
          "text": [
            "WARNING:pandasai.helpers.logger:Failed to execute code with a correction framework [retry number: 1]\n",
            "ERROR:pandasai.helpers.logger:Failed with error: Traceback (most recent call last):\n",
            "  File \"/usr/local/lib/python3.10/dist-packages/pandasai/smart_datalake/__init__.py\", line 438, in chat\n",
            "    result = self._code_manager.execute_code(\n",
            "  File \"/usr/local/lib/python3.10/dist-packages/pandasai/helpers/code_manager.py\", line 286, in execute_code\n",
            "    return analyze_data(self._get_originals(dfs))\n",
            "  File \"<string>\", line 24, in analyze_data\n",
            "  File \"/usr/local/lib/python3.10/dist-packages/pandas/core/generic.py\", line 6240, in astype\n",
            "    new_data = self._mgr.astype(dtype=dtype, copy=copy, errors=errors)\n",
            "  File \"/usr/local/lib/python3.10/dist-packages/pandas/core/internals/managers.py\", line 448, in astype\n",
            "    return self.apply(\"astype\", dtype=dtype, copy=copy, errors=errors)\n",
            "  File \"/usr/local/lib/python3.10/dist-packages/pandas/core/internals/managers.py\", line 352, in apply\n",
            "    applied = getattr(b, f)(**kwargs)\n",
            "  File \"/usr/local/lib/python3.10/dist-packages/pandas/core/internals/blocks.py\", line 526, in astype\n",
            "    new_values = astype_array_safe(values, dtype, copy=copy, errors=errors)\n",
            "  File \"/usr/local/lib/python3.10/dist-packages/pandas/core/dtypes/astype.py\", line 299, in astype_array_safe\n",
            "    new_values = astype_array(values, dtype, copy=copy)\n",
            "  File \"/usr/local/lib/python3.10/dist-packages/pandas/core/dtypes/astype.py\", line 230, in astype_array\n",
            "    values = astype_nansafe(values, dtype, copy=copy)\n",
            "  File \"/usr/local/lib/python3.10/dist-packages/pandas/core/dtypes/astype.py\", line 170, in astype_nansafe\n",
            "    return arr.astype(dtype, copy=True)\n",
            "ValueError: Exceeds the limit (4300) for integer string conversion: value has 46512 digits; use sys.set_int_max_str_digits() to increase the limit\n",
            ". Retrying\n"
          ]
        },
        {
          "name": "stdout",
          "output_type": "stream",
          "text": [
            "Answer: Unfortunately, I was not able to answer your question, because of the following error:\n",
            "\n",
            "No code found in the response\n",
            "\n"
          ]
        },
        {
          "name": "stderr",
          "output_type": "stream",
          "text": [
            "WARNING:pandasai.helpers.logger:Failed to execute code with a correction framework [retry number: 1]\n",
            "ERROR:pandasai.helpers.logger:Failed with error: Traceback (most recent call last):\n",
            "  File \"/usr/local/lib/python3.10/dist-packages/pandasai/smart_datalake/__init__.py\", line 438, in chat\n",
            "    result = self._code_manager.execute_code(\n",
            "  File \"/usr/local/lib/python3.10/dist-packages/pandasai/helpers/code_manager.py\", line 286, in execute_code\n",
            "    return analyze_data(self._get_originals(dfs))\n",
            "  File \"<string>\", line 24, in analyze_data\n",
            "  File \"/usr/local/lib/python3.10/dist-packages/pandas/core/generic.py\", line 6240, in astype\n",
            "    new_data = self._mgr.astype(dtype=dtype, copy=copy, errors=errors)\n",
            "  File \"/usr/local/lib/python3.10/dist-packages/pandas/core/internals/managers.py\", line 448, in astype\n",
            "    return self.apply(\"astype\", dtype=dtype, copy=copy, errors=errors)\n",
            "  File \"/usr/local/lib/python3.10/dist-packages/pandas/core/internals/managers.py\", line 352, in apply\n",
            "    applied = getattr(b, f)(**kwargs)\n",
            "  File \"/usr/local/lib/python3.10/dist-packages/pandas/core/internals/blocks.py\", line 526, in astype\n",
            "    new_values = astype_array_safe(values, dtype, copy=copy, errors=errors)\n",
            "  File \"/usr/local/lib/python3.10/dist-packages/pandas/core/dtypes/astype.py\", line 299, in astype_array_safe\n",
            "    new_values = astype_array(values, dtype, copy=copy)\n",
            "  File \"/usr/local/lib/python3.10/dist-packages/pandas/core/dtypes/astype.py\", line 230, in astype_array\n",
            "    values = astype_nansafe(values, dtype, copy=copy)\n",
            "  File \"/usr/local/lib/python3.10/dist-packages/pandas/core/dtypes/astype.py\", line 170, in astype_nansafe\n",
            "    return arr.astype(dtype, copy=True)\n",
            "ValueError: Exceeds the limit (4300) for integer string conversion: value has 46512 digits; use sys.set_int_max_str_digits() to increase the limit\n",
            ". Retrying\n"
          ]
        },
        {
          "name": "stdout",
          "output_type": "stream",
          "text": [
            "Answer: Unfortunately, I was not able to answer your question, because of the following error:\n",
            "\n",
            "No code found in the response\n",
            "\n"
          ]
        },
        {
          "name": "stderr",
          "output_type": "stream",
          "text": [
            "WARNING:pandasai.helpers.logger:Failed to execute code with a correction framework [retry number: 1]\n",
            "ERROR:pandasai.helpers.logger:Failed with error: Traceback (most recent call last):\n",
            "  File \"/usr/local/lib/python3.10/dist-packages/pandasai/smart_datalake/__init__.py\", line 438, in chat\n",
            "    result = self._code_manager.execute_code(\n",
            "  File \"/usr/local/lib/python3.10/dist-packages/pandasai/helpers/code_manager.py\", line 286, in execute_code\n",
            "    return analyze_data(self._get_originals(dfs))\n",
            "  File \"<string>\", line 24, in analyze_data\n",
            "  File \"/usr/local/lib/python3.10/dist-packages/pandas/core/generic.py\", line 6240, in astype\n",
            "    new_data = self._mgr.astype(dtype=dtype, copy=copy, errors=errors)\n",
            "  File \"/usr/local/lib/python3.10/dist-packages/pandas/core/internals/managers.py\", line 448, in astype\n",
            "    return self.apply(\"astype\", dtype=dtype, copy=copy, errors=errors)\n",
            "  File \"/usr/local/lib/python3.10/dist-packages/pandas/core/internals/managers.py\", line 352, in apply\n",
            "    applied = getattr(b, f)(**kwargs)\n",
            "  File \"/usr/local/lib/python3.10/dist-packages/pandas/core/internals/blocks.py\", line 526, in astype\n",
            "    new_values = astype_array_safe(values, dtype, copy=copy, errors=errors)\n",
            "  File \"/usr/local/lib/python3.10/dist-packages/pandas/core/dtypes/astype.py\", line 299, in astype_array_safe\n",
            "    new_values = astype_array(values, dtype, copy=copy)\n",
            "  File \"/usr/local/lib/python3.10/dist-packages/pandas/core/dtypes/astype.py\", line 230, in astype_array\n",
            "    values = astype_nansafe(values, dtype, copy=copy)\n",
            "  File \"/usr/local/lib/python3.10/dist-packages/pandas/core/dtypes/astype.py\", line 170, in astype_nansafe\n",
            "    return arr.astype(dtype, copy=True)\n",
            "ValueError: Exceeds the limit (4300) for integer string conversion: value has 46512 digits; use sys.set_int_max_str_digits() to increase the limit\n",
            ". Retrying\n"
          ]
        },
        {
          "name": "stdout",
          "output_type": "stream",
          "text": [
            "Answer: Unfortunately, I was not able to answer your question, because of the following error:\n",
            "\n",
            "No code found in the response\n",
            "\n"
          ]
        },
        {
          "name": "stderr",
          "output_type": "stream",
          "text": [
            "WARNING:pandasai.helpers.logger:Failed to execute code with a correction framework [retry number: 1]\n",
            "ERROR:pandasai.helpers.logger:Failed with error: Traceback (most recent call last):\n",
            "  File \"/usr/local/lib/python3.10/dist-packages/pandasai/smart_datalake/__init__.py\", line 438, in chat\n",
            "    result = self._code_manager.execute_code(\n",
            "  File \"/usr/local/lib/python3.10/dist-packages/pandasai/helpers/code_manager.py\", line 286, in execute_code\n",
            "    return analyze_data(self._get_originals(dfs))\n",
            "  File \"<string>\", line 24, in analyze_data\n",
            "  File \"/usr/local/lib/python3.10/dist-packages/pandas/core/generic.py\", line 6240, in astype\n",
            "    new_data = self._mgr.astype(dtype=dtype, copy=copy, errors=errors)\n",
            "  File \"/usr/local/lib/python3.10/dist-packages/pandas/core/internals/managers.py\", line 448, in astype\n",
            "    return self.apply(\"astype\", dtype=dtype, copy=copy, errors=errors)\n",
            "  File \"/usr/local/lib/python3.10/dist-packages/pandas/core/internals/managers.py\", line 352, in apply\n",
            "    applied = getattr(b, f)(**kwargs)\n",
            "  File \"/usr/local/lib/python3.10/dist-packages/pandas/core/internals/blocks.py\", line 526, in astype\n",
            "    new_values = astype_array_safe(values, dtype, copy=copy, errors=errors)\n",
            "  File \"/usr/local/lib/python3.10/dist-packages/pandas/core/dtypes/astype.py\", line 299, in astype_array_safe\n",
            "    new_values = astype_array(values, dtype, copy=copy)\n",
            "  File \"/usr/local/lib/python3.10/dist-packages/pandas/core/dtypes/astype.py\", line 230, in astype_array\n",
            "    values = astype_nansafe(values, dtype, copy=copy)\n",
            "  File \"/usr/local/lib/python3.10/dist-packages/pandas/core/dtypes/astype.py\", line 170, in astype_nansafe\n",
            "    return arr.astype(dtype, copy=True)\n",
            "ValueError: Exceeds the limit (4300) for integer string conversion: value has 46512 digits; use sys.set_int_max_str_digits() to increase the limit\n",
            ". Retrying\n"
          ]
        },
        {
          "name": "stdout",
          "output_type": "stream",
          "text": [
            "Answer: Unfortunately, I was not able to answer your question, because of the following error:\n",
            "\n",
            "No code found in the response\n",
            "\n"
          ]
        },
        {
          "name": "stderr",
          "output_type": "stream",
          "text": [
            "WARNING:pandasai.helpers.logger:Failed to execute code with a correction framework [retry number: 1]\n",
            "ERROR:pandasai.helpers.logger:Failed with error: Traceback (most recent call last):\n",
            "  File \"/usr/local/lib/python3.10/dist-packages/pandasai/smart_datalake/__init__.py\", line 438, in chat\n",
            "    result = self._code_manager.execute_code(\n",
            "  File \"/usr/local/lib/python3.10/dist-packages/pandasai/helpers/code_manager.py\", line 286, in execute_code\n",
            "    return analyze_data(self._get_originals(dfs))\n",
            "  File \"<string>\", line 24, in analyze_data\n",
            "  File \"/usr/local/lib/python3.10/dist-packages/pandas/core/generic.py\", line 6240, in astype\n",
            "    new_data = self._mgr.astype(dtype=dtype, copy=copy, errors=errors)\n",
            "  File \"/usr/local/lib/python3.10/dist-packages/pandas/core/internals/managers.py\", line 448, in astype\n",
            "    return self.apply(\"astype\", dtype=dtype, copy=copy, errors=errors)\n",
            "  File \"/usr/local/lib/python3.10/dist-packages/pandas/core/internals/managers.py\", line 352, in apply\n",
            "    applied = getattr(b, f)(**kwargs)\n",
            "  File \"/usr/local/lib/python3.10/dist-packages/pandas/core/internals/blocks.py\", line 526, in astype\n",
            "    new_values = astype_array_safe(values, dtype, copy=copy, errors=errors)\n",
            "  File \"/usr/local/lib/python3.10/dist-packages/pandas/core/dtypes/astype.py\", line 299, in astype_array_safe\n",
            "    new_values = astype_array(values, dtype, copy=copy)\n",
            "  File \"/usr/local/lib/python3.10/dist-packages/pandas/core/dtypes/astype.py\", line 230, in astype_array\n",
            "    values = astype_nansafe(values, dtype, copy=copy)\n",
            "  File \"/usr/local/lib/python3.10/dist-packages/pandas/core/dtypes/astype.py\", line 170, in astype_nansafe\n",
            "    return arr.astype(dtype, copy=True)\n",
            "ValueError: Exceeds the limit (4300) for integer string conversion: value has 46512 digits; use sys.set_int_max_str_digits() to increase the limit\n",
            ". Retrying\n"
          ]
        },
        {
          "name": "stdout",
          "output_type": "stream",
          "text": [
            "Answer: Unfortunately, I was not able to answer your question, because of the following error:\n",
            "\n",
            "No code found in the response\n",
            "\n",
            "Answer:           SigAgente                            QtdReclamacoesRecebidas\n",
            "Rank                                                                  \n",
            "1     Equatorial PA  8534076534626581651161609614940858213745141239...\n",
            "2     Equatorial PI  8418000215261113820301601265800302001096239144...\n",
            "3            CERCOS  8000010400002100000000060013040100034000300000...\n",
            "4               EPB  7811412094544872145179010406897811616003326311...\n",
            "5     CPFL-PAULISTA  7082802692381148320167547419701011143130023381...\n",
            "6            EDP ES  5942298332752182038430578169151432905110321302...\n",
            "7       ELETROPAULO  5522245791912615966573911637212649491567262608...\n",
            "8           ELEKTRO  5456101057596231911542041871814214030854412986...\n",
            "9             CELPE  5311482471199616342430513234754304633764013428...\n",
            "10              ETO  5262882423591396257263304051734621111865276529...\n"
          ]
        },
        {
          "name": "stderr",
          "output_type": "stream",
          "text": [
            "WARNING:pandasai.helpers.logger:Failed to execute code with a correction framework [retry number: 1]\n",
            "ERROR:pandasai.helpers.logger:Failed with error: Traceback (most recent call last):\n",
            "  File \"/usr/local/lib/python3.10/dist-packages/pandasai/smart_datalake/__init__.py\", line 438, in chat\n",
            "    result = self._code_manager.execute_code(\n",
            "  File \"/usr/local/lib/python3.10/dist-packages/pandasai/helpers/code_manager.py\", line 286, in execute_code\n",
            "    return analyze_data(self._get_originals(dfs))\n",
            "  File \"<string>\", line 24, in analyze_data\n",
            "  File \"/usr/local/lib/python3.10/dist-packages/pandas/core/generic.py\", line 6240, in astype\n",
            "    new_data = self._mgr.astype(dtype=dtype, copy=copy, errors=errors)\n",
            "  File \"/usr/local/lib/python3.10/dist-packages/pandas/core/internals/managers.py\", line 448, in astype\n",
            "    return self.apply(\"astype\", dtype=dtype, copy=copy, errors=errors)\n",
            "  File \"/usr/local/lib/python3.10/dist-packages/pandas/core/internals/managers.py\", line 352, in apply\n",
            "    applied = getattr(b, f)(**kwargs)\n",
            "  File \"/usr/local/lib/python3.10/dist-packages/pandas/core/internals/blocks.py\", line 526, in astype\n",
            "    new_values = astype_array_safe(values, dtype, copy=copy, errors=errors)\n",
            "  File \"/usr/local/lib/python3.10/dist-packages/pandas/core/dtypes/astype.py\", line 299, in astype_array_safe\n",
            "    new_values = astype_array(values, dtype, copy=copy)\n",
            "  File \"/usr/local/lib/python3.10/dist-packages/pandas/core/dtypes/astype.py\", line 230, in astype_array\n",
            "    values = astype_nansafe(values, dtype, copy=copy)\n",
            "  File \"/usr/local/lib/python3.10/dist-packages/pandas/core/dtypes/astype.py\", line 170, in astype_nansafe\n",
            "    return arr.astype(dtype, copy=True)\n",
            "ValueError: Exceeds the limit (4300) for integer string conversion: value has 46512 digits; use sys.set_int_max_str_digits() to increase the limit\n",
            ". Retrying\n"
          ]
        },
        {
          "name": "stdout",
          "output_type": "stream",
          "text": [
            "Answer: Unfortunately, I was not able to answer your question, because of the following error:\n",
            "\n",
            "No code found in the response\n",
            "\n"
          ]
        },
        {
          "name": "stderr",
          "output_type": "stream",
          "text": [
            "IOPub data rate exceeded.\n",
            "The notebook server will temporarily stop sending output\n",
            "to the client in order to avoid crashing it.\n",
            "To change this limit, set the config variable\n",
            "`--NotebookApp.iopub_data_rate_limit`.\n",
            "\n",
            "Current values:\n",
            "NotebookApp.iopub_data_rate_limit=1000000.0 (bytes/sec)\n",
            "NotebookApp.rate_limit_window=3.0 (secs)\n",
            "\n",
            "WARNING:pandasai.helpers.logger:Failed to execute code with a correction framework [retry number: 1]\n",
            "ERROR:pandasai.helpers.logger:Failed with error: Traceback (most recent call last):\n",
            "  File \"/usr/local/lib/python3.10/dist-packages/pandasai/smart_datalake/__init__.py\", line 438, in chat\n",
            "    result = self._code_manager.execute_code(\n",
            "  File \"/usr/local/lib/python3.10/dist-packages/pandasai/helpers/code_manager.py\", line 286, in execute_code\n",
            "    return analyze_data(self._get_originals(dfs))\n",
            "  File \"<string>\", line 24, in analyze_data\n",
            "  File \"/usr/local/lib/python3.10/dist-packages/pandas/core/generic.py\", line 6240, in astype\n",
            "    new_data = self._mgr.astype(dtype=dtype, copy=copy, errors=errors)\n",
            "  File \"/usr/local/lib/python3.10/dist-packages/pandas/core/internals/managers.py\", line 448, in astype\n",
            "    return self.apply(\"astype\", dtype=dtype, copy=copy, errors=errors)\n",
            "  File \"/usr/local/lib/python3.10/dist-packages/pandas/core/internals/managers.py\", line 352, in apply\n",
            "    applied = getattr(b, f)(**kwargs)\n",
            "  File \"/usr/local/lib/python3.10/dist-packages/pandas/core/internals/blocks.py\", line 526, in astype\n",
            "    new_values = astype_array_safe(values, dtype, copy=copy, errors=errors)\n",
            "  File \"/usr/local/lib/python3.10/dist-packages/pandas/core/dtypes/astype.py\", line 299, in astype_array_safe\n",
            "    new_values = astype_array(values, dtype, copy=copy)\n",
            "  File \"/usr/local/lib/python3.10/dist-packages/pandas/core/dtypes/astype.py\", line 230, in astype_array\n",
            "    values = astype_nansafe(values, dtype, copy=copy)\n",
            "  File \"/usr/local/lib/python3.10/dist-packages/pandas/core/dtypes/astype.py\", line 170, in astype_nansafe\n",
            "    return arr.astype(dtype, copy=True)\n",
            "ValueError: Exceeds the limit (4300) for integer string conversion: value has 46512 digits; use sys.set_int_max_str_digits() to increase the limit\n",
            ". Retrying\n"
          ]
        },
        {
          "name": "stdout",
          "output_type": "stream",
          "text": [
            "Answer: Unfortunately, I was not able to answer your question, because of the following error:\n",
            "\n",
            "No code found in the response\n",
            "\n"
          ]
        }
      ],
      "source": [
        "\n",
        "# Ask questions for each column\n",
        "for column in df.columns:\n",
        "    response = sdf.chat(f\"Made a histogram of the question, What are the five states with the most complaints? Search in SigUf and QtdReclamacoesRecebida for answer the question, only on these column. \")\n",
        "    print(f\"Answer: {response}\")"
      ]
    },
    {
      "cell_type": "code",
      "execution_count": null,
      "metadata": {
        "id": "UbiGwmVfTG3E"
      },
      "outputs": [],
      "source": []
    }
  ],
  "metadata": {
    "accelerator": "GPU",
    "colab": {
      "provenance": [],
      "gpuType": "T4",
      "mount_file_id": "1QvOr3znMz36QlouEIIDvJmYDdT0fTtii",
      "authorship_tag": "ABX9TyODGeZLTZkyiJUWz7+Knxja",
      "include_colab_link": true
    },
    "kernelspec": {
      "display_name": "Python 3",
      "name": "python3"
    },
    "language_info": {
      "name": "python"
    }
  },
  "nbformat": 4,
  "nbformat_minor": 0
}