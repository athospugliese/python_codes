{
  "cells": [
    {
      "cell_type": "markdown",
      "metadata": {
        "id": "view-in-github",
        "colab_type": "text"
      },
      "source": [
        "<a href=\"https://colab.research.google.com/github/athospugliesedev/python_codes/blob/main/Lista_3_Loops.ipynb\" target=\"_parent\"><img src=\"https://colab.research.google.com/assets/colab-badge.svg\" alt=\"Open In Colab\"/></a>"
      ]
    },
    {
      "cell_type": "markdown",
      "id": "2eebb078",
      "metadata": {
        "id": "2eebb078"
      },
      "source": [
        "**Questão 1 - 9, a salvação:**\n",
        "\n",
        "Escreva um código que retorne a soma de todos os números até 1000 que sejam divisíveis por 9 e a quantidade de números que foram somados.\n",
        "  \n",
        "  Dica: analise bem a questão e escolha o laço mais condizente.\n"
      ]
    },
    {
      "cell_type": "code",
      "execution_count": 1,
      "id": "0203b2bb",
      "metadata": {
        "id": "0203b2bb",
        "outputId": "8b7f4903-1bc8-4d0e-bcfd-da6e16857316",
        "colab": {
          "base_uri": "https://localhost:8080/"
        }
      },
      "outputs": [
        {
          "output_type": "stream",
          "name": "stdout",
          "text": [
            "A soma dos números divisíveis por 9 até 1000 é: 55944\n",
            "A quantidade de números somados é: 111\n"
          ]
        }
      ],
      "source": [
        "soma = 0\n",
        "quantidade = 0\n",
        "\n",
        "for num in range(9, 1001):\n",
        "    if num % 9 == 0:\n",
        "        soma += num\n",
        "        quantidade += 1\n",
        "\n",
        "print(\"A soma dos números divisíveis por 9 até 1000 é:\", soma)\n",
        "print(\"A quantidade de números somados é:\", quantidade)\n"
      ]
    },
    {
      "cell_type": "markdown",
      "id": "cb7accf3",
      "metadata": {
        "id": "cb7accf3"
      },
      "source": [
        "**Questão 2 - Ajuda nas etec's:**\n",
        "\n",
        "No começo do ano a FEA.Dev deu aulas de python gratuitas em algumas etec's de São Paulo. Ao ver o que a programação poderia fazer, o professor Roberval, de matemática, pediu para que construíssemos um programa que fizesse uma Progressão Aritimética (PA) automaticamente, apenas inserindo o **primeiro termo** e sua **razão**, para que ele pudesse ser mais ágil em suas aulas.\n",
        "\n",
        "*Lembre-se que uma PA é uma sequência de números em que cada termo é igual ao termo anterior somado a um número (razão). Ex -> 1, 4, 7, 10... os números vão seguindo de 3 em 3 (razão).*"
      ]
    },
    {
      "cell_type": "markdown",
      "source": [
        "a) Sua missão é montar um programa que peça dois inputs: o do primeiro termo e da razão e retorne a sequência. Sua P.A deve ter 10 termos."
      ],
      "metadata": {
        "id": "-YsYTrgTH5uR"
      },
      "id": "-YsYTrgTH5uR"
    },
    {
      "cell_type": "code",
      "source": [
        "def progressao_aritmetica(primeiro_termo, razao, quantidade):\n",
        "    return [primeiro_termo + razao * n for n in range(quantidade)]\n",
        "\n",
        "primeiro_termo = int(input(\"Digite o primeiro termo da PA: \"))\n",
        "razao = int(input(\"Digite a razão da PA: \"))\n",
        "\n",
        "print(\"Os 10 primeiros termos da PA são:\")\n",
        "print(progressao_aritmetica(primeiro_termo, razao, 10))\n"
      ],
      "metadata": {
        "id": "0VVb581xJu4t",
        "outputId": "da5b2a85-9e6f-4f4b-a9ff-528fd24eceba",
        "colab": {
          "base_uri": "https://localhost:8080/"
        }
      },
      "id": "0VVb581xJu4t",
      "execution_count": 2,
      "outputs": [
        {
          "output_type": "stream",
          "name": "stdout",
          "text": [
            "Digite o primeiro termo da PA: 5\n",
            "Digite a razão da PA: 10\n",
            "Os 10 primeiros termos da PA são:\n",
            "[5, 15, 25, 35, 45, 55, 65, 75, 85, 95]\n"
          ]
        }
      ]
    },
    {
      "cell_type": "code",
      "execution_count": null,
      "id": "ee774619",
      "metadata": {
        "id": "ee774619"
      },
      "outputs": [],
      "source": [
        "# RESPOSTA AQUI"
      ]
    },
    {
      "cell_type": "markdown",
      "id": "cc9fb3cb",
      "metadata": {
        "id": "cc9fb3cb"
      },
      "source": [
        "b) Roberval ficou animado com o novo programa criado por você e mostrou pra um amigo dele que dá aula para o fundamental 1. Ao ver a mágica acontecendo o amigo do professor Roberval quase implorou para que você construísse uma tabuada automática para ele.\n",
        "\n",
        "Escreva um código que receba o input de um número e retorne sua tabuada padrão, multiplicando até 10 e ajude o amigo de Roberval a automatizar suas aulas.\n",
        "  \n",
        " OBS: deixe sua tabuada toda alinhada conforme exemplo:\n",
        "\n",
        "    n = 7\n",
        "    \n",
        "    7 x 1 = 7\n",
        "    7 x 2 = 14\n",
        "    .\n",
        "    .\n",
        "    .\n",
        "    7 X  9 = 63\n",
        "    7 X 10 = 70"
      ]
    },
    {
      "cell_type": "code",
      "execution_count": 4,
      "id": "f83df876",
      "metadata": {
        "id": "f83df876",
        "outputId": "658f8ba2-6056-4f8e-b187-f4442a962495",
        "colab": {
          "base_uri": "https://localhost:8080/"
        }
      },
      "outputs": [
        {
          "output_type": "stream",
          "name": "stdout",
          "text": [
            "Digite um número para ver sua tabuada: 10\n",
            "\n",
            "Tabuada de 10 :\n",
            "\n",
            "10 x  1 = 10\n",
            "10 x  2 = 20\n",
            "10 x  3 = 30\n",
            "10 x  4 = 40\n",
            "10 x  5 = 50\n",
            "10 x  6 = 60\n",
            "10 x  7 = 70\n",
            "10 x  8 = 80\n",
            "10 x  9 = 90\n",
            "10 x 10 = 100\n"
          ]
        }
      ],
      "source": [
        "def tabuada(numero):\n",
        "    for i in range(1, 11):\n",
        "        print(f\"{numero} x {i:2} = {numero * i:2}\")\n",
        "\n",
        "def main():\n",
        "    numero = int(input(\"Digite um número para ver sua tabuada: \"))\n",
        "    print(\"\\nTabuada de\", numero, \":\\n\")\n",
        "    tabuada(numero)\n",
        "\n",
        "if __name__ == \"__main__\":\n",
        "    main()\n"
      ]
    },
    {
      "cell_type": "markdown",
      "id": "b24436d4",
      "metadata": {
        "id": "b24436d4"
      },
      "source": [
        "**Questão 3 - Soma infinita:**\n",
        "\n",
        "Crie um programa que peça para digitar um número constantemente, até que o usário digite o número 0. Em seguida mostre a soma de todos os valores inputados, e a quantidade de números que foram inputados.\n",
        "  "
      ]
    },
    {
      "cell_type": "code",
      "source": [
        "soma = 0\n",
        "count = 0\n",
        "\n",
        "while True:\n",
        "    num = input(\"Digite um número (0 para sair): \")\n",
        "    if num == '0':\n",
        "        break\n",
        "    try:\n",
        "        num = int(num)\n",
        "        soma += num\n",
        "        count += 1\n",
        "    except ValueError:\n",
        "        print(\"Por favor, digite um número válido.\")\n",
        "\n",
        "print(\"A soma dos valores digitados é:\", soma)\n",
        "print(\"A quantidade de números digitados é:\", count)\n"
      ],
      "metadata": {
        "colab": {
          "base_uri": "https://localhost:8080/"
        },
        "id": "IVNnot6HYLbv",
        "outputId": "4cc74b4c-a7d3-4f84-8f70-a558876e5170"
      },
      "id": "IVNnot6HYLbv",
      "execution_count": 5,
      "outputs": [
        {
          "output_type": "stream",
          "name": "stdout",
          "text": [
            "Digite um número (0 para sair): 8\n",
            "Digite um número (0 para sair): 8\n",
            "Digite um número (0 para sair): 0\n",
            "A soma dos valores digitados é: 16\n",
            "A quantidade de números digitados é: 2\n"
          ]
        }
      ]
    },
    {
      "cell_type": "code",
      "execution_count": null,
      "id": "5593459b",
      "metadata": {
        "id": "5593459b",
        "outputId": "bab2131a-5e26-409a-dca5-026a26964018",
        "colab": {
          "base_uri": "https://localhost:8080/"
        }
      },
      "outputs": [
        {
          "output_type": "stream",
          "name": "stdout",
          "text": [
            "Digite um número (159 para parar): 34\n",
            "Digite um número (159 para parar): 23\n",
            "Digite um número (159 para parar): 159\n",
            "A soma de 2 números foi de 57!\n"
          ]
        }
      ],
      "source": [
        "cont = soma = 0\n",
        "\n",
        "# RESPOSTA AQUI"
      ]
    },
    {
      "cell_type": "markdown",
      "source": [
        "**Questão 4 - Bad Romance:**\n",
        "\n",
        "De volta a 2009. Tem umas músicas com um refrão tão gostosinho que fica martelando na nossa mente, então vamos aproveitar para analisar e exercitar nossas skills de programação. Escreva um código que conte quantas vezes a letra \"a\" aparece em duas estrofes do famoso hit de Lady Gaga:"
      ],
      "metadata": {
        "id": "vAQnrfCQxNrV"
      },
      "id": "vAQnrfCQxNrV"
    },
    {
      "cell_type": "code",
      "source": [
        "bad_romance = \"\"\"Rah, rah-ah-ah-ah\n",
        "                 Roma, roma-ma\n",
        "                 Gaga, ooh-la-la\n",
        "                 Want your bad romance\n",
        "\n",
        "                 Rah, rah-ah-ah-ah\n",
        "                 Roma, roma-ma\n",
        "                 Gaga, ooh-la-la\n",
        "                 Want your bad romance\"\"\"\n",
        "\n",
        "#####SEU CODIGO COMECA AQUI#####\n",
        "\n",
        "num_a = bad_romance.count('a')\n",
        "\n",
        "# RESPOSTA AQUI\n",
        "\n",
        "print(\"A letra 'a' aparece\",num_a, \"vezes\")"
      ],
      "metadata": {
        "colab": {
          "base_uri": "https://localhost:8080/"
        },
        "id": "82DqDw7h0YIl",
        "outputId": "eb82b3dc-ebf2-404e-a89f-2fb3e66e5c8e"
      },
      "id": "82DqDw7h0YIl",
      "execution_count": 6,
      "outputs": [
        {
          "output_type": "stream",
          "name": "stdout",
          "text": [
            "A letra 'a' aparece 30 vezes\n"
          ]
        }
      ]
    },
    {
      "cell_type": "markdown",
      "source": [
        "**Questão 5 - Estilo musical:**\n",
        "\n",
        "Ainda pensando na lady Gaga, nosso querido dever separou alguns artistas que ele gosta por estilo musical. Faça um programa que, apenas indicando o estilo musical, retorne todos os artistas desse estilo escolhido que estão dentro do dicionário.\n",
        "\n",
        "PS: estilos musicais presentes no dicionário: Forró, Pagode, Clássica, MPB, Sertanejo, Jazz, Rock e Pop."
      ],
      "metadata": {
        "id": "GRS7sh_6uA2k"
      },
      "id": "GRS7sh_6uA2k"
    },
    {
      "cell_type": "code",
      "source": [
        "artistas = {'Julie London': 'Jazz', 'John Coltrane': 'Jazz', 'João Gomes': 'Forró', 'Debussy': 'Clássica', 'Michael Jackson': 'Pop', 'Barões da Pisadinha': 'Forró',\n",
        "            'Marília Mendonça': 'Sertanejo', 'Beethoven': 'Clássica', 'Calcinha Preta': 'Forró', 'AC/DC': 'Rock', 'Bruno Mars': 'Pop', 'Seu Jorge': 'MPB', 'Thiaguinho': 'Pagode'}\n",
        "\n",
        "# RESPOSTA AQUI\n",
        "estilo_desejado = input(\"Digite o estilo musical desejado: \")\n",
        "\n",
        "artistas_do_estilo = {artista: estilo for artista, estilo in artistas.items() if estilo == estilo_desejado}\n",
        "\n",
        "if artistas_do_estilo:\n",
        "    print(f\"Artistas do estilo {estilo_desejado}:\")\n",
        "    print(artistas_do_estilo)\n",
        "else:\n",
        "    print(\"Este estilo musical não está presente na lista fornecida.\")\n"
      ],
      "metadata": {
        "id": "dXBJMs_YwuJR",
        "colab": {
          "base_uri": "https://localhost:8080/"
        },
        "outputId": "3026493c-4fbe-46db-9aa9-c9d86378cb86"
      },
      "id": "dXBJMs_YwuJR",
      "execution_count": 8,
      "outputs": [
        {
          "output_type": "stream",
          "name": "stdout",
          "text": [
            "Digite o estilo musical desejado: Jazz\n",
            "Artistas do estilo Jazz:\n",
            "{'Julie London': 'Jazz', 'John Coltrane': 'Jazz'}\n"
          ]
        }
      ]
    },
    {
      "cell_type": "code",
      "source": [
        "artistas = {'Julie London': 'Jazz', 'John Coltrane': 'Jazz', 'João Gomes': 'Forró', 'Debussy': 'Clássica', 'Michael Jackson': 'Pop', 'Barões da Pisadinha': 'Forró',\n",
        "            'Marília Mendonça': 'Sertanejo', 'Beethoven': 'Clássica', 'Calcinha Preta': 'Forró', 'AC/DC': 'Rock', 'Bruno Mars': 'Pop', 'Seu Jorge': 'MPB', 'Thiaguinho': 'Pagode'}\n"
      ],
      "metadata": {
        "id": "SFXmyjva-U49"
      },
      "id": "SFXmyjva-U49",
      "execution_count": null,
      "outputs": []
    },
    {
      "cell_type": "markdown",
      "source": [
        "**Questão 6 - Stairway to Heaven:**\n",
        "\n",
        "O grande poder dos Loops é que você poder printar elementos em uma velocidade muuito maior. Utilize esse novo poder para printar os digitos de 1 a 9 da seguinte maneira:"
      ],
      "metadata": {
        "id": "DuAmQvBL9XZC"
      },
      "id": "DuAmQvBL9XZC"
    },
    {
      "cell_type": "code",
      "source": [
        "for i in range(1, 10):\n",
        "    print(str(i) * i)\n",
        "\n",
        "\n",
        "\"\"\"\n",
        "1\n",
        "22\n",
        "333\n",
        "4444\n",
        "55555\n",
        "666666\n",
        "7777777\n",
        "88888888\n",
        "999999999\n",
        "\"\"\""
      ],
      "metadata": {
        "id": "lMfBpuxxdRwY",
        "colab": {
          "base_uri": "https://localhost:8080/",
          "height": 192
        },
        "outputId": "e1653041-3918-4f63-c103-f81af03bbd76"
      },
      "id": "lMfBpuxxdRwY",
      "execution_count": 10,
      "outputs": [
        {
          "output_type": "stream",
          "name": "stdout",
          "text": [
            "1\n",
            "22\n",
            "333\n",
            "4444\n",
            "55555\n",
            "666666\n",
            "7777777\n",
            "88888888\n",
            "999999999\n"
          ]
        },
        {
          "output_type": "execute_result",
          "data": {
            "text/plain": [
              "'\\n1\\n22\\n333\\n4444\\n55555\\n666666\\n7777777\\n88888888\\n999999999\\n'"
            ],
            "application/vnd.google.colaboratory.intrinsic+json": {
              "type": "string"
            }
          },
          "metadata": {},
          "execution_count": 10
        }
      ]
    },
    {
      "cell_type": "code",
      "source": [
        "# RESPOSTA AQUI"
      ],
      "metadata": {
        "colab": {
          "base_uri": "https://localhost:8080/"
        },
        "id": "6m9G6F3J94-y",
        "outputId": "05fa225d-0c3d-4fe8-ddbf-955ce8e1f8e9"
      },
      "id": "6m9G6F3J94-y",
      "execution_count": null,
      "outputs": [
        {
          "output_type": "stream",
          "name": "stdout",
          "text": [
            "1\n",
            "22\n",
            "333\n",
            "4444\n",
            "55555\n",
            "666666\n",
            "7777777\n",
            "88888888\n",
            "999999999\n"
          ]
        }
      ]
    },
    {
      "cell_type": "markdown",
      "source": [
        "**Questão 7 - A hora dos primos:**\n",
        "Escreva um código que receba o input de um número e verifique se ele é primo ou não."
      ],
      "metadata": {
        "id": "Qqil80RH3MLd"
      },
      "id": "Qqil80RH3MLd"
    },
    {
      "cell_type": "code",
      "source": [
        "n = int(input(\"Digite um número: \"))\n",
        "\n",
        "def is_primo(num):\n",
        "    if num <= 1:\n",
        "        return False\n",
        "    for i in range(2, int(num ** 0.5) + 1):\n",
        "        if num % i == 0:\n",
        "            return False\n",
        "    return True\n",
        "\n",
        "if is_primo(n):\n",
        "    print(f\"{n} é um número primo.\")\n",
        "else:\n",
        "    print(f\"{n} não é um número primo.\")\n"
      ],
      "metadata": {
        "colab": {
          "base_uri": "https://localhost:8080/"
        },
        "id": "kbEAMB1z3Lmu",
        "outputId": "ebf8397d-db3e-4b10-f9d3-2eeaf07c0432"
      },
      "id": "kbEAMB1z3Lmu",
      "execution_count": 9,
      "outputs": [
        {
          "output_type": "stream",
          "name": "stdout",
          "text": [
            "Digite um número: 9\n",
            "9 não é um número primo.\n"
          ]
        }
      ]
    },
    {
      "cell_type": "markdown",
      "source": [
        "# Questão 8 - A peculiaridade das Startups:\n",
        "\n",
        "Precificar uma Startup sempre foi difícil. A maioria delas não dão lucro nos primeiros anos, mas o potencial de mercado é gigantesco. Como de fato se faz o valuation de uma empresa dessas? um dos métodos para se fazer esse valuation, é multiplicar o faturamento atual dessa Startup por 10! Projetando em 10 anos o que se considera agora.\n",
        "\n",
        "Sua missão é identificar dentro da lista de valores, uma Startup iniciante e fazer seu valuation projetado em 10 anos.\n",
        "\n",
        "PS: Considere o valor de faturamento de uma Startup iniciante menor ou igual a 300 mil."
      ],
      "metadata": {
        "id": "qlnUxp24zLL7"
      },
      "id": "qlnUxp24zLL7"
    },
    {
      "cell_type": "code",
      "source": [
        "## valores da lista em milhar\n",
        "\n",
        "faturamentos = {'startup 1': 1000, 'startup 2':500, 'startup 3':60, 'startup 4':250,\n",
        "                'startup 5':600, 'startup 6':700, 'startup 7':54, 'startup 8':230,\n",
        "                'startup 9':300, 'startup 10':95, 'startup 11':850}\n",
        "\n",
        "# RESPOSTA AQUI\n",
        "faturamentos = {'startup 1': 1000, 'startup 2':500, 'startup 3':60, 'startup 4':250,\n",
        "                'startup 5':600, 'startup 6':700, 'startup 7':54, 'startup 8':230,\n",
        "                'startup 9':300, 'startup 10':95, 'startup 11':850}\n",
        "\n",
        "def valuation_projeto(faturamento):\n",
        "    return faturamento * 10\n",
        "\n",
        "alguma_startup_encontrada = False\n",
        "\n",
        "for startup, faturamento in faturamentos.items():\n",
        "    if faturamento <= 300:\n",
        "        valuation_projetado = valuation_projeto(faturamento)\n",
        "        print(f\"O valuation projetado em 10 anos para a startup '{startup}' é de {valuation_projetado} mil.\")\n",
        "        alguma_startup_encontrada = True\n",
        "\n",
        "if not alguma_startup_encontrada:\n",
        "    print(\"Não foi encontrada nenhuma startup iniciante com faturamento menor ou igual a 300 mil.\")\n"
      ],
      "metadata": {
        "id": "CrAyVU1L2haZ",
        "colab": {
          "base_uri": "https://localhost:8080/"
        },
        "outputId": "4e2f1549-b39c-41e8-c506-1fcc5928fa12"
      },
      "id": "CrAyVU1L2haZ",
      "execution_count": 15,
      "outputs": [
        {
          "output_type": "stream",
          "name": "stdout",
          "text": [
            "O valuation projetado em 10 anos para a startup 'startup 3' é de 600 mil.\n",
            "O valuation projetado em 10 anos para a startup 'startup 4' é de 2500 mil.\n",
            "O valuation projetado em 10 anos para a startup 'startup 7' é de 540 mil.\n",
            "O valuation projetado em 10 anos para a startup 'startup 8' é de 2300 mil.\n",
            "O valuation projetado em 10 anos para a startup 'startup 9' é de 3000 mil.\n",
            "O valuation projetado em 10 anos para a startup 'startup 10' é de 950 mil.\n"
          ]
        }
      ]
    },
    {
      "cell_type": "markdown",
      "source": [
        "**Exercício extra**\n",
        "\n",
        "*Mais um dia como estagiário no FEA.dev S.A. Você chega para fazer seu trabalho rotineiro de enviar e-mails para os clientes pedindo (alguma coisa). No entanto, essa semana foram prospectados mais alguns clientes e as informações básicas deles chegaram de maneira desestruturada:*"
      ],
      "metadata": {
        "id": "_CC8Mw_NAzYq"
      },
      "id": "_CC8Mw_NAzYq"
    },
    {
      "cell_type": "code",
      "execution_count": 17,
      "metadata": {
        "id": "97_-EEHhATd-"
      },
      "outputs": [],
      "source": [
        "nomes_clientes = ['Gustavo', 'Kevyn', 'Max', 'Thais']\n",
        "sobrenomes_clientes = ['Yamachi', 'Marcelino', 'Juan', 'Teixeira']\n",
        "email = ['gustavo.yamachi@email.com', 'kevyn.marcelino@email.com']"
      ],
      "id": "97_-EEHhATd-"
    },
    {
      "cell_type": "markdown",
      "source": [
        "Perceba como nem todos os e-mails dos clientes estão na lista e que os nomes e sobrenomes vieram separados. Você nota, porém que o padrão de e-mail é sempre o mesmo: \"Nome\".\"Sobrenome\"\"@email.com\". Dessa forma, escreva um código que identifique o endereço dos outros clientes e atribua à lista \"emails\""
      ],
      "metadata": {
        "id": "_GvpmF7QDP9s"
      },
      "id": "_GvpmF7QDP9s"
    },
    {
      "cell_type": "code",
      "source": [
        "#####SEU CODIGO COMECA AQUI#####\n",
        "emails = ['gustavo.yamachi@email.com', 'kevyn.marcelino@email.com']\n",
        "\n",
        "for nome, sobrenome in zip(nomes_clientes, sobrenomes_clientes):\n",
        "    email = f\"{nome.lower()}.{sobrenome.lower()}@email.com\"\n",
        "    emails.append(email)\n",
        "\n",
        "print(\"Lista de e-mails completa:\")\n",
        "print(emails)\n",
        "\n",
        "# RESPOSTA AQUI"
      ],
      "metadata": {
        "id": "RGBwfDAECCde",
        "outputId": "d8d18167-2db2-4ce4-844c-bc2e0c0f900f",
        "colab": {
          "base_uri": "https://localhost:8080/"
        }
      },
      "execution_count": 18,
      "outputs": [
        {
          "output_type": "stream",
          "name": "stdout",
          "text": [
            "Lista de e-mails completa:\n",
            "['gustavo.yamachi@email.com', 'kevyn.marcelino@email.com', 'gustavo.yamachi@email.com', 'kevyn.marcelino@email.com', 'max.juan@email.com', 'thais.teixeira@email.com']\n"
          ]
        }
      ],
      "id": "RGBwfDAECCde"
    },
    {
      "cell_type": "code",
      "source": [
        "emails"
      ],
      "metadata": {
        "colab": {
          "base_uri": "https://localhost:8080/"
        },
        "id": "FJEW0k7gErd6",
        "outputId": "09a501d8-106c-4c61-c84f-e7610c1b4d19"
      },
      "execution_count": 19,
      "outputs": [
        {
          "output_type": "execute_result",
          "data": {
            "text/plain": [
              "['gustavo.yamachi@email.com',\n",
              " 'kevyn.marcelino@email.com',\n",
              " 'gustavo.yamachi@email.com',\n",
              " 'kevyn.marcelino@email.com',\n",
              " 'max.juan@email.com',\n",
              " 'thais.teixeira@email.com']"
            ]
          },
          "metadata": {},
          "execution_count": 19
        }
      ],
      "id": "FJEW0k7gErd6"
    },
    {
      "cell_type": "markdown",
      "source": [
        "b) Crie um loop que passe pela lista de e-mails envie uma mensagem personalizada para cada um desses clientes. Seu código deverá gerar 4 mensagens no seguinte formato:\n",
        "\n",
        "\"To: (email do cliente), Bom dia (nome do cliente), agradecemos muito por ter escolhido a FEA.dev\"\n",
        "\n",
        "Dica: para facilitar a relação de clientes e seus respectivos endereços de e-mail, utilize a estrutura de dicionários"
      ],
      "metadata": {
        "id": "ssB-1jhevy2a"
      },
      "id": "ssB-1jhevy2a"
    },
    {
      "cell_type": "code",
      "source": [
        "nomes_clientes = ['Gustavo', 'Kevyn', 'Max', 'Thais']\n",
        "sobrenomes_clientes = ['Yamachi', 'Marcelino', 'Juan', 'Teixeira']\n",
        "emails = ['gustavo.yamachi@email.com', 'kevyn.marcelino@email.com']\n",
        "\n",
        "clientes_emails = dict(zip(nomes_clientes, emails))\n",
        "\n",
        "for nome, email in clientes_emails.items():\n",
        "    mensagem = f\"To: {email}, Bom dia {nome}, agradecemos muito por ter escolhido a FEA.dev\"\n",
        "    print(mensagem)\n",
        "\n",
        "\n"
      ],
      "metadata": {
        "id": "8u1nrYm0E0HA",
        "colab": {
          "base_uri": "https://localhost:8080/"
        },
        "outputId": "43a339ac-4a1e-4130-8f9b-c4810146f0cc"
      },
      "execution_count": 20,
      "outputs": [
        {
          "output_type": "stream",
          "name": "stdout",
          "text": [
            "To: gustavo.yamachi@email.com, Bom dia Gustavo, agradecemos muito por ter escolhido a FEA.dev\n",
            "To: kevyn.marcelino@email.com, Bom dia Kevyn, agradecemos muito por ter escolhido a FEA.dev\n"
          ]
        }
      ],
      "id": "8u1nrYm0E0HA"
    }
  ],
  "metadata": {
    "kernelspec": {
      "display_name": "Python 3 (ipykernel)",
      "language": "python",
      "name": "python3"
    },
    "language_info": {
      "codemirror_mode": {
        "name": "ipython",
        "version": 3
      },
      "file_extension": ".py",
      "mimetype": "text/x-python",
      "name": "python",
      "nbconvert_exporter": "python",
      "pygments_lexer": "ipython3",
      "version": "3.9.7"
    },
    "colab": {
      "provenance": [],
      "include_colab_link": true
    }
  },
  "nbformat": 4,
  "nbformat_minor": 5
}