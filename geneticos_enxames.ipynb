{
  "nbformat": 4,
  "nbformat_minor": 0,
  "metadata": {
    "colab": {
      "provenance": [],
      "gpuType": "T4",
      "authorship_tag": "ABX9TyOX2rtEwdzMkCLMFFVM6sG9",
      "include_colab_link": true
    },
    "kernelspec": {
      "name": "python3",
      "display_name": "Python 3"
    },
    "language_info": {
      "name": "python"
    },
    "accelerator": "GPU"
  },
  "cells": [
    {
      "cell_type": "markdown",
      "metadata": {
        "id": "view-in-github",
        "colab_type": "text"
      },
      "source": [
        "<a href=\"https://colab.research.google.com/github/athospugliesedev/python_codes/blob/main/geneticos_enxames.ipynb\" target=\"_parent\"><img src=\"https://colab.research.google.com/assets/colab-badge.svg\" alt=\"Open In Colab\"/></a>"
      ]
    },
    {
      "cell_type": "code",
      "execution_count": null,
      "metadata": {
        "colab": {
          "base_uri": "https://localhost:8080/"
        },
        "id": "ukpa90-FD_mV",
        "outputId": "e102c1c2-fd83-420d-e97e-39e9faddb7fa"
      },
      "outputs": [
        {
          "output_type": "stream",
          "name": "stdout",
          "text": [
            "Requirement already satisfied: pyswarm in /usr/local/lib/python3.10/dist-packages (0.6)\n",
            "Requirement already satisfied: numpy in /usr/local/lib/python3.10/dist-packages (from pyswarm) (1.23.5)\n"
          ]
        }
      ],
      "source": [
        "!pip install pyswarm"
      ]
    },
    {
      "cell_type": "code",
      "source": [
        "# Função Objetivo - Conceito Teórico\n",
        "\n",
        "import numpy as np\n",
        "from pyswarm import pso\n",
        "\n",
        "def objective_function(x):\n",
        "    return x[0]**2 + x[1]**2\n",
        "\n",
        "lb = [-5, -5]\n",
        "ub = [5, 5]\n",
        "\n",
        "x_opt, f_opt = pso(objective_function, lb, ub, swarmsize=50, maxiter=100)\n",
        "\n",
        "print(\"Melhor Solução:\")\n",
        "print(\"Parâmetros Ótimos:\", x_opt)\n",
        "print(\"Melhor Valor de Função:\", f_opt)\n"
      ],
      "metadata": {
        "colab": {
          "base_uri": "https://localhost:8080/"
        },
        "id": "XmrkYL8UFOvW",
        "outputId": "4c74c45e-2924-4258-f74c-d6928010cbb5"
      },
      "execution_count": null,
      "outputs": [
        {
          "output_type": "stream",
          "name": "stdout",
          "text": [
            "Stopping search: Swarm best objective change less than 1e-08\n",
            "Melhor Solução:\n",
            "Parâmetros Ótimos: [-7.23525196e-05 -9.23534506e-06]\n",
            "Melhor Valor de Função: 5.320178684638821e-09\n"
          ]
        }
      ]
    },
    {
      "cell_type": "code",
      "source": [
        "# Função Objetivo - Prática\n",
        "\n",
        "import numpy as np\n",
        "from pyswarm import pso\n",
        "\n",
        "def objective_function(x):\n",
        "    return x[0]**2 + x[1]**2\n",
        "\n",
        "lb = [-5, -5]\n",
        "ub = [5, 5]\n",
        "\n",
        "def optimize(x):\n",
        "    return objective_function(x)\n",
        "\n",
        "def run_experiment(num_runs=10):\n",
        "    best_solutions = []\n",
        "    best_values = []\n",
        "\n",
        "    for _ in range(num_runs):\n",
        "        x_opt, f_opt = pso(optimize, lb, ub, swarmsize=50, maxiter=100)\n",
        "        best_solutions.append(x_opt)\n",
        "        best_values.append(f_opt)\n",
        "\n",
        "    return best_solutions, best_values\n",
        "\n",
        "num_runs = 10\n",
        "solutions, values = run_experiment(num_runs)\n",
        "\n",
        "print(f\"Resultados do Experimento ({num_runs} execuções):\")\n",
        "for i in range(num_runs):\n",
        "    print(f\"Execução {i + 1}:\")\n",
        "    print(\"  Parâmetros Ótimos:\", solutions[i])\n",
        "    print(\"  Melhor Valor de Função:\", values[i])\n",
        "    print()\n"
      ],
      "metadata": {
        "colab": {
          "base_uri": "https://localhost:8080/"
        },
        "id": "GR4ANrYoG0p-",
        "outputId": "633dac52-9125-4ef5-80b8-812350f8115b"
      },
      "execution_count": null,
      "outputs": [
        {
          "output_type": "stream",
          "name": "stdout",
          "text": [
            "Stopping search: Swarm best objective change less than 1e-08\n",
            "Stopping search: Swarm best objective change less than 1e-08\n",
            "Stopping search: Swarm best objective change less than 1e-08\n",
            "Stopping search: Swarm best objective change less than 1e-08\n",
            "Stopping search: Swarm best objective change less than 1e-08\n",
            "Stopping search: Swarm best objective change less than 1e-08\n",
            "Stopping search: Swarm best objective change less than 1e-08\n",
            "Stopping search: Swarm best objective change less than 1e-08\n",
            "Stopping search: Swarm best objective change less than 1e-08\n",
            "Stopping search: Swarm best objective change less than 1e-08\n",
            "Resultados do Experimento (10 execuções):\n",
            "Execução 1:\n",
            "  Parâmetros Ótimos: [1.36206666e-07 4.89997979e-06]\n",
            "  Melhor Valor de Função: 2.402835423657984e-11\n",
            "\n",
            "Execução 2:\n",
            "  Parâmetros Ótimos: [ 1.98228602e-05 -4.53744764e-05]\n",
            "  Melhor Valor de Função: 2.4517888930273546e-09\n",
            "\n",
            "Execução 3:\n",
            "  Parâmetros Ótimos: [ 2.26425037e-05 -3.13181274e-05]\n",
            "  Melhor Valor de Função: 1.4935080810042528e-09\n",
            "\n",
            "Execução 4:\n",
            "  Parâmetros Ótimos: [1.00653702e-04 7.61355371e-05]\n",
            "  Melhor Valor de Função: 1.592778777426476e-08\n",
            "\n",
            "Execução 5:\n",
            "  Parâmetros Ótimos: [-1.48985052e-04 -1.94837120e-05]\n",
            "  Melhor Valor de Função: 2.2576160829370095e-08\n",
            "\n",
            "Execução 6:\n",
            "  Parâmetros Ótimos: [-4.08461032e-05 -3.65070346e-05]\n",
            "  Melhor Valor de Função: 3.001167726739812e-09\n",
            "\n",
            "Execução 7:\n",
            "  Parâmetros Ótimos: [ 4.86617574e-05 -2.77223270e-05]\n",
            "  Melhor Valor de Função: 3.136494043399506e-09\n",
            "\n",
            "Execução 8:\n",
            "  Parâmetros Ótimos: [-2.78458705e-05  1.77445094e-04]\n",
            "  Melhor Valor de Função: 3.2262153843278196e-08\n",
            "\n",
            "Execução 9:\n",
            "  Parâmetros Ótimos: [5.93252476e-06 9.42248943e-06]\n",
            "  Melhor Valor de Função: 1.2397815711192603e-10\n",
            "\n",
            "Execução 10:\n",
            "  Parâmetros Ótimos: [-2.97123375e-05  7.32304327e-06]\n",
            "  Melhor Valor de Função: 9.364499620859334e-10\n",
            "\n"
          ]
        }
      ]
    }
  ]
}